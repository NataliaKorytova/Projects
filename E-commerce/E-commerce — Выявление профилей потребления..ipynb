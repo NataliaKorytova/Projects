{
 "cells": [
  {
   "cell_type": "markdown",
   "id": "fb3adc1e",
   "metadata": {
    "toc": true
   },
   "source": [
    "<h1>Table of Contents<span class=\"tocSkip\"></span></h1>\n",
    "<div class=\"toc\"><ul class=\"toc-item\"><li><span><a href=\"#Загрузка-данных\" data-toc-modified-id=\"Загрузка-данных-1\"><span class=\"toc-item-num\">1&nbsp;&nbsp;</span>Загрузка данных</a></span></li><li><span><a href=\"#Предобработка-данных\" data-toc-modified-id=\"Предобработка-данных-2\"><span class=\"toc-item-num\">2&nbsp;&nbsp;</span>Предобработка данных</a></span><ul class=\"toc-item\"><li><span><a href=\"#Проверка-на-наличие-пропусков\" data-toc-modified-id=\"Проверка-на-наличие-пропусков-2.1\"><span class=\"toc-item-num\">2.1&nbsp;&nbsp;</span>Проверка на наличие пропусков</a></span></li><li><span><a href=\"#Замена-типа-данных\" data-toc-modified-id=\"Замена-типа-данных-2.2\"><span class=\"toc-item-num\">2.2&nbsp;&nbsp;</span>Замена типа данных</a></span></li><li><span><a href=\"#Преведение-столбца-product-к-нижнему-регистру\" data-toc-modified-id=\"Преведение-столбца-product-к-нижнему-регистру-2.3\"><span class=\"toc-item-num\">2.3&nbsp;&nbsp;</span>Преведение столбца <code>product</code> к нижнему регистру</a></span></li><li><span><a href=\"#Проверка-на-дубликаты\" data-toc-modified-id=\"Проверка-на-дубликаты-2.4\"><span class=\"toc-item-num\">2.4&nbsp;&nbsp;</span>Проверка на дубликаты</a></span></li><li><span><a href=\"#Вывод-по-разделу:\" data-toc-modified-id=\"Вывод-по-разделу:-2.5\"><span class=\"toc-item-num\">2.5&nbsp;&nbsp;</span>Вывод по разделу:</a></span></li></ul></li><li><span><a href=\"#Исследовательский-анализ-данных\" data-toc-modified-id=\"Исследовательский-анализ-данных-3\"><span class=\"toc-item-num\">3&nbsp;&nbsp;</span>Исследовательский анализ данных</a></span><ul class=\"toc-item\"><li><span><a href=\"#За-какой-период-предоставлены-данные\" data-toc-modified-id=\"За-какой-период-предоставлены-данные-3.1\"><span class=\"toc-item-num\">3.1&nbsp;&nbsp;</span>За какой период предоставлены данные</a></span></li><li><span><a href=\"#Количество-уникальных-покупателей-и-заказов\" data-toc-modified-id=\"Количество-уникальных-покупателей-и-заказов-3.2\"><span class=\"toc-item-num\">3.2&nbsp;&nbsp;</span>Количество уникальных покупателей и заказов</a></span></li><li><span><a href=\"#Анализ-столбца-quantity\" data-toc-modified-id=\"Анализ-столбца-quantity-3.3\"><span class=\"toc-item-num\">3.3&nbsp;&nbsp;</span>Анализ столбца <code>quantity</code></a></span></li><li><span><a href=\"#Анализ-цены\" data-toc-modified-id=\"Анализ-цены-3.4\"><span class=\"toc-item-num\">3.4&nbsp;&nbsp;</span>Анализ цены</a></span></li><li><span><a href=\"#Разделение-продуктов-на-категории\" data-toc-modified-id=\"Разделение-продуктов-на-категории-3.5\"><span class=\"toc-item-num\">3.5&nbsp;&nbsp;</span>Разделение продуктов на категории</a></span></li><li><span><a href=\"#Анализ-категорий\" data-toc-modified-id=\"Анализ-категорий-3.6\"><span class=\"toc-item-num\">3.6&nbsp;&nbsp;</span>Анализ категорий</a></span></li><li><span><a href=\"#Количество-товаров-в-чеке.\" data-toc-modified-id=\"Количество-товаров-в-чеке.-3.7\"><span class=\"toc-item-num\">3.7&nbsp;&nbsp;</span>Количество товаров в чеке.</a></span></li><li><span><a href=\"#Динамика-среднего-чека\" data-toc-modified-id=\"Динамика-среднего-чека-3.8\"><span class=\"toc-item-num\">3.8&nbsp;&nbsp;</span>Динамика среднего чека</a></span></li><li><span><a href=\"#Динамика-выручки-и-количества-заказов\" data-toc-modified-id=\"Динамика-выручки-и-количества-заказов-3.9\"><span class=\"toc-item-num\">3.9&nbsp;&nbsp;</span>Динамика выручки и количества заказов</a></span></li><li><span><a href=\"#Анализ-заказов-по-клиентам\" data-toc-modified-id=\"Анализ-заказов-по-клиентам-3.10\"><span class=\"toc-item-num\">3.10&nbsp;&nbsp;</span>Анализ заказов по клиентам</a></span></li><li><span><a href=\"#Вывод-по-разделу\" data-toc-modified-id=\"Вывод-по-разделу-3.11\"><span class=\"toc-item-num\">3.11&nbsp;&nbsp;</span>Вывод по разделу</a></span></li></ul></li><li><span><a href=\"#Формирование-сегментов-клиентов\" data-toc-modified-id=\"Формирование-сегментов-клиентов-4\"><span class=\"toc-item-num\">4&nbsp;&nbsp;</span>Формирование сегментов клиентов</a></span></li><li><span><a href=\"#Проверка-гипотез.\" data-toc-modified-id=\"Проверка-гипотез.-5\"><span class=\"toc-item-num\">5&nbsp;&nbsp;</span>Проверка гипотез.</a></span><ul class=\"toc-item\"><li><span><a href=\"#Подготовим-данные-для-проведения-теста\" data-toc-modified-id=\"Подготовим-данные-для-проведения-теста-5.1\"><span class=\"toc-item-num\">5.1&nbsp;&nbsp;</span>Подготовим данные для проведения теста</a></span></li><li><span><a href=\"#Создание-функции-для-проверки-гипотез\" data-toc-modified-id=\"Создание-функции-для-проверки-гипотез-5.2\"><span class=\"toc-item-num\">5.2&nbsp;&nbsp;</span>Создание функции для проверки гипотез</a></span></li><li><span><a href=\"#Проверка-гипотез\" data-toc-modified-id=\"Проверка-гипотез-5.3\"><span class=\"toc-item-num\">5.3&nbsp;&nbsp;</span>Проверка гипотез</a></span></li></ul></li><li><span><a href=\"#Вывод\" data-toc-modified-id=\"Вывод-6\"><span class=\"toc-item-num\">6&nbsp;&nbsp;</span>Вывод</a></span></li></ul></div>"
   ]
  },
  {
   "cell_type": "markdown",
   "id": "7d92e2da",
   "metadata": {},
   "source": [
    "# E-commerce — Выявление профилей потребления.\n",
    "**Задача** - сегментировать покупателей по профилю потребления.\n",
    "\n",
    "**Ход проекта**\n",
    "1. Загрузка данных.\n",
    "2. Предобработка данных - поиск дубликатов, пропусков, преобразование типов данных.\n",
    "3. Анализ данных - за какой период данные, количество уникальных покупателей и заказов, сколько товаров одного наименования покупают за раз, цена товаров, распределение товаров на категории и их анализ, анализ динамики финансовых показателей - выручка, средний чек, кол-во заказов, анализ заказов по клиентам.\n",
    "4. Формирование сегментов покупателей.\n",
    "5. Проверка гипотез - имеют ли полученные сегменты статистически значимые отличия.\n",
    "6. Общий вывод по проекту.\n",
    "\n",
    "**Описание данных:**   \n",
    "Датасет описывает транзакции интернет-магазина товаров для дома и быта «Пока все ещё тут».  \n",
    "Колонки в `ecommerce_dataset.csv`:  \n",
    "- `date` — дата заказа;  \n",
    "- `customer_id` — идентификатор покупателя;\n",
    "- `order_id` — идентификатор заказа;\n",
    "- `product` — наименование товара;E-commerce — Выявление профилей потребления 2\n",
    "- `quantity` — количество товара в заказе;\n",
    "- `price` — цена товара."
   ]
  },
  {
   "cell_type": "code",
   "execution_count": 1,
   "id": "89cef5f0",
   "metadata": {},
   "outputs": [],
   "source": [
    "import pandas as pd\n",
    "import matplotlib.pyplot as plt\n",
    "import numpy as np\n",
    "import seaborn as sns\n",
    "import plotly.express as px\n",
    "from plotly import graph_objects as go\n",
    "import datetime as dt\n",
    "import scipy.stats as st"
   ]
  },
  {
   "cell_type": "markdown",
   "id": "3750cfd7",
   "metadata": {},
   "source": [
    "## Загрузка данных"
   ]
  },
  {
   "cell_type": "markdown",
   "id": "01861626",
   "metadata": {},
   "source": [
    "Откроем датафрем `ecom_dataset_upd.csv` и сохраним их в переменную `df`."
   ]
  },
  {
   "cell_type": "code",
   "execution_count": 2,
   "id": "69af6ea0",
   "metadata": {},
   "outputs": [],
   "source": [
    "google_id = \"1DkqEQWZoHh22YrsYcNUxSzlhgFqdl0tf\"\n",
    "df = pd.read_csv(f\"https://drive.google.com/uc?export=download&id={google_id}\" )"
   ]
  },
  {
   "cell_type": "markdown",
   "id": "a9da4cc0",
   "metadata": {},
   "source": [
    "Посмотрим подробнее данные о таблице."
   ]
  },
  {
   "cell_type": "code",
   "execution_count": 3,
   "id": "1887da74",
   "metadata": {
    "scrolled": true
   },
   "outputs": [
    {
     "name": "stdout",
     "output_type": "stream",
     "text": [
      "<class 'pandas.core.frame.DataFrame'>\n",
      "RangeIndex: 7474 entries, 0 to 7473\n",
      "Data columns (total 6 columns):\n",
      " #   Column       Non-Null Count  Dtype  \n",
      "---  ------       --------------  -----  \n",
      " 0   date         7474 non-null   int64  \n",
      " 1   customer_id  7474 non-null   object \n",
      " 2   order_id     7474 non-null   int64  \n",
      " 3   product      7474 non-null   object \n",
      " 4   quantity     7474 non-null   int64  \n",
      " 5   price        7474 non-null   float64\n",
      "dtypes: float64(1), int64(3), object(2)\n",
      "memory usage: 350.5+ KB\n"
     ]
    },
    {
     "data": {
      "text/plain": [
       "None"
      ]
     },
     "metadata": {},
     "output_type": "display_data"
    },
    {
     "data": {
      "text/html": [
       "<div>\n",
       "<style scoped>\n",
       "    .dataframe tbody tr th:only-of-type {\n",
       "        vertical-align: middle;\n",
       "    }\n",
       "\n",
       "    .dataframe tbody tr th {\n",
       "        vertical-align: top;\n",
       "    }\n",
       "\n",
       "    .dataframe thead th {\n",
       "        text-align: right;\n",
       "    }\n",
       "</style>\n",
       "<table border=\"1\" class=\"dataframe\">\n",
       "  <thead>\n",
       "    <tr style=\"text-align: right;\">\n",
       "      <th></th>\n",
       "      <th>date</th>\n",
       "      <th>customer_id</th>\n",
       "      <th>order_id</th>\n",
       "      <th>product</th>\n",
       "      <th>quantity</th>\n",
       "      <th>price</th>\n",
       "    </tr>\n",
       "  </thead>\n",
       "  <tbody>\n",
       "    <tr>\n",
       "      <th>0</th>\n",
       "      <td>2018100100</td>\n",
       "      <td>ee47d746-6d2f-4d3c-9622-c31412542920</td>\n",
       "      <td>68477</td>\n",
       "      <td>Комнатное растение в горшке Алое Вера, d12, h30</td>\n",
       "      <td>1</td>\n",
       "      <td>142.0</td>\n",
       "    </tr>\n",
       "    <tr>\n",
       "      <th>1</th>\n",
       "      <td>2018100100</td>\n",
       "      <td>ee47d746-6d2f-4d3c-9622-c31412542920</td>\n",
       "      <td>68477</td>\n",
       "      <td>Комнатное растение в горшке Кофе Арабика, d12,...</td>\n",
       "      <td>1</td>\n",
       "      <td>194.0</td>\n",
       "    </tr>\n",
       "    <tr>\n",
       "      <th>2</th>\n",
       "      <td>2018100100</td>\n",
       "      <td>ee47d746-6d2f-4d3c-9622-c31412542920</td>\n",
       "      <td>68477</td>\n",
       "      <td>Радермахера d-12 см h-20 см</td>\n",
       "      <td>1</td>\n",
       "      <td>112.0</td>\n",
       "    </tr>\n",
       "    <tr>\n",
       "      <th>3</th>\n",
       "      <td>2018100100</td>\n",
       "      <td>ee47d746-6d2f-4d3c-9622-c31412542920</td>\n",
       "      <td>68477</td>\n",
       "      <td>Хризолидокарпус Лутесценс d-9 см</td>\n",
       "      <td>1</td>\n",
       "      <td>179.0</td>\n",
       "    </tr>\n",
       "    <tr>\n",
       "      <th>4</th>\n",
       "      <td>2018100100</td>\n",
       "      <td>ee47d746-6d2f-4d3c-9622-c31412542920</td>\n",
       "      <td>68477</td>\n",
       "      <td>Циперус Зумула d-12 см h-25 см</td>\n",
       "      <td>1</td>\n",
       "      <td>112.0</td>\n",
       "    </tr>\n",
       "    <tr>\n",
       "      <th>5</th>\n",
       "      <td>2018100100</td>\n",
       "      <td>ee47d746-6d2f-4d3c-9622-c31412542920</td>\n",
       "      <td>68477</td>\n",
       "      <td>Шеффлера Лузеана d-9 см</td>\n",
       "      <td>1</td>\n",
       "      <td>164.0</td>\n",
       "    </tr>\n",
       "    <tr>\n",
       "      <th>6</th>\n",
       "      <td>2018100100</td>\n",
       "      <td>ee47d746-6d2f-4d3c-9622-c31412542920</td>\n",
       "      <td>68477</td>\n",
       "      <td>Юкка нитчатая d-12 см h-25-35 см</td>\n",
       "      <td>1</td>\n",
       "      <td>134.0</td>\n",
       "    </tr>\n",
       "    <tr>\n",
       "      <th>7</th>\n",
       "      <td>2018100108</td>\n",
       "      <td>375e0724-f033-4c76-b579-84969cf38ee2</td>\n",
       "      <td>68479</td>\n",
       "      <td>Настенная сушилка для белья Gimi Brio Super 100</td>\n",
       "      <td>1</td>\n",
       "      <td>824.0</td>\n",
       "    </tr>\n",
       "    <tr>\n",
       "      <th>8</th>\n",
       "      <td>2018100108</td>\n",
       "      <td>6644e5b4-9934-4863-9778-aaa125207701</td>\n",
       "      <td>68478</td>\n",
       "      <td>Таз пластмассовый 21,0 л круглый \"Водолей\" С61...</td>\n",
       "      <td>1</td>\n",
       "      <td>269.0</td>\n",
       "    </tr>\n",
       "    <tr>\n",
       "      <th>9</th>\n",
       "      <td>2018100109</td>\n",
       "      <td>c971fb21-d54c-4134-938f-16b62ee86d3b</td>\n",
       "      <td>68480</td>\n",
       "      <td>Чехол для гладильной доски Colombo Persia Beig...</td>\n",
       "      <td>1</td>\n",
       "      <td>674.0</td>\n",
       "    </tr>\n",
       "    <tr>\n",
       "      <th>10</th>\n",
       "      <td>2018100111</td>\n",
       "      <td>161e1b98-45ba-4b4e-8236-e6e3e70f6f7c</td>\n",
       "      <td>68483</td>\n",
       "      <td>Вешалка для брюк металлическая с резиновым пок...</td>\n",
       "      <td>10</td>\n",
       "      <td>82.0</td>\n",
       "    </tr>\n",
       "    <tr>\n",
       "      <th>11</th>\n",
       "      <td>2018100112</td>\n",
       "      <td>86432d8d-b706-463b-bd5d-6a9e170daee3</td>\n",
       "      <td>68484</td>\n",
       "      <td>Сушилка для белья потолочная Zalger Lift Basic...</td>\n",
       "      <td>1</td>\n",
       "      <td>614.0</td>\n",
       "    </tr>\n",
       "    <tr>\n",
       "      <th>12</th>\n",
       "      <td>2018100113</td>\n",
       "      <td>4d93d3f6-8b24-403b-a74b-f5173e40d7db</td>\n",
       "      <td>68485</td>\n",
       "      <td>Чехол Eurogold Clean Basic хлопок для досок 12...</td>\n",
       "      <td>1</td>\n",
       "      <td>187.0</td>\n",
       "    </tr>\n",
       "    <tr>\n",
       "      <th>13</th>\n",
       "      <td>2018100115</td>\n",
       "      <td>0948b0c2-990b-4a11-b835-69ac4714b21d</td>\n",
       "      <td>68486</td>\n",
       "      <td>Крючок одежный 2-х рожковый серый металлик с п...</td>\n",
       "      <td>96</td>\n",
       "      <td>38.0</td>\n",
       "    </tr>\n",
       "    <tr>\n",
       "      <th>14</th>\n",
       "      <td>2018100116</td>\n",
       "      <td>a576fa59-7b28-4a4c-a496-92f128754a94</td>\n",
       "      <td>68487</td>\n",
       "      <td>Корзина мягкая пластиковая 17 л, М-пластика, M...</td>\n",
       "      <td>1</td>\n",
       "      <td>188.0</td>\n",
       "    </tr>\n",
       "  </tbody>\n",
       "</table>\n",
       "</div>"
      ],
      "text/plain": [
       "          date                           customer_id  order_id  \\\n",
       "0   2018100100  ee47d746-6d2f-4d3c-9622-c31412542920     68477   \n",
       "1   2018100100  ee47d746-6d2f-4d3c-9622-c31412542920     68477   \n",
       "2   2018100100  ee47d746-6d2f-4d3c-9622-c31412542920     68477   \n",
       "3   2018100100  ee47d746-6d2f-4d3c-9622-c31412542920     68477   \n",
       "4   2018100100  ee47d746-6d2f-4d3c-9622-c31412542920     68477   \n",
       "5   2018100100  ee47d746-6d2f-4d3c-9622-c31412542920     68477   \n",
       "6   2018100100  ee47d746-6d2f-4d3c-9622-c31412542920     68477   \n",
       "7   2018100108  375e0724-f033-4c76-b579-84969cf38ee2     68479   \n",
       "8   2018100108  6644e5b4-9934-4863-9778-aaa125207701     68478   \n",
       "9   2018100109  c971fb21-d54c-4134-938f-16b62ee86d3b     68480   \n",
       "10  2018100111  161e1b98-45ba-4b4e-8236-e6e3e70f6f7c     68483   \n",
       "11  2018100112  86432d8d-b706-463b-bd5d-6a9e170daee3     68484   \n",
       "12  2018100113  4d93d3f6-8b24-403b-a74b-f5173e40d7db     68485   \n",
       "13  2018100115  0948b0c2-990b-4a11-b835-69ac4714b21d     68486   \n",
       "14  2018100116  a576fa59-7b28-4a4c-a496-92f128754a94     68487   \n",
       "\n",
       "                                              product  quantity  price  \n",
       "0     Комнатное растение в горшке Алое Вера, d12, h30         1  142.0  \n",
       "1   Комнатное растение в горшке Кофе Арабика, d12,...         1  194.0  \n",
       "2                         Радермахера d-12 см h-20 см         1  112.0  \n",
       "3                    Хризолидокарпус Лутесценс d-9 см         1  179.0  \n",
       "4                      Циперус Зумула d-12 см h-25 см         1  112.0  \n",
       "5                             Шеффлера Лузеана d-9 см         1  164.0  \n",
       "6                    Юкка нитчатая d-12 см h-25-35 см         1  134.0  \n",
       "7     Настенная сушилка для белья Gimi Brio Super 100         1  824.0  \n",
       "8   Таз пластмассовый 21,0 л круглый \"Водолей\" С61...         1  269.0  \n",
       "9   Чехол для гладильной доски Colombo Persia Beig...         1  674.0  \n",
       "10  Вешалка для брюк металлическая с резиновым пок...        10   82.0  \n",
       "11  Сушилка для белья потолочная Zalger Lift Basic...         1  614.0  \n",
       "12  Чехол Eurogold Clean Basic хлопок для досок 12...         1  187.0  \n",
       "13  Крючок одежный 2-х рожковый серый металлик с п...        96   38.0  \n",
       "14  Корзина мягкая пластиковая 17 л, М-пластика, M...         1  188.0  "
      ]
     },
     "execution_count": 3,
     "metadata": {},
     "output_type": "execute_result"
    }
   ],
   "source": [
    "display(df.info())\n",
    "df.head(15)"
   ]
  },
  {
   "cell_type": "markdown",
   "id": "1baa3244",
   "metadata": {},
   "source": [
    "Данные в таблице отображены корректно. В датафрейме 7474 строк, пропусков в данных не обнаружено.\n",
    "Для дальнейшей работы необходимо:  \n",
    "- перефести столбец `date` в формат datetime\n",
    "- проверить таблицу на дубликаты."
   ]
  },
  {
   "cell_type": "markdown",
   "id": "35f11b58",
   "metadata": {},
   "source": [
    "## Предобработка данных"
   ]
  },
  {
   "cell_type": "markdown",
   "id": "7e54010c",
   "metadata": {},
   "source": [
    "### Проверка на наличие пропусков"
   ]
  },
  {
   "cell_type": "markdown",
   "id": "8757bff2",
   "metadata": {},
   "source": [
    "Убедимся, что пропуски в таблице отсутствуют."
   ]
  },
  {
   "cell_type": "code",
   "execution_count": 4,
   "id": "500cd8c4",
   "metadata": {},
   "outputs": [
    {
     "data": {
      "text/plain": [
       "date           0\n",
       "customer_id    0\n",
       "order_id       0\n",
       "product        0\n",
       "quantity       0\n",
       "price          0\n",
       "dtype: int64"
      ]
     },
     "execution_count": 4,
     "metadata": {},
     "output_type": "execute_result"
    }
   ],
   "source": [
    "df.isna().sum()"
   ]
  },
  {
   "cell_type": "markdown",
   "id": "9ec63841",
   "metadata": {},
   "source": [
    "Отлично, пропусков нет, идем дальше."
   ]
  },
  {
   "cell_type": "markdown",
   "id": "f8f7bda9",
   "metadata": {},
   "source": [
    "### Замена типа данных"
   ]
  },
  {
   "cell_type": "markdown",
   "id": "3d9a14ce",
   "metadata": {},
   "source": [
    "Приведем столбец `date` к формату `datetime`. Переименуем столбец в `datetime` и создадим отдельный столбец `date` в котором будет отображаться только дата."
   ]
  },
  {
   "cell_type": "code",
   "execution_count": 5,
   "id": "17f619b5",
   "metadata": {
    "scrolled": true
   },
   "outputs": [
    {
     "data": {
      "text/html": [
       "<div>\n",
       "<style scoped>\n",
       "    .dataframe tbody tr th:only-of-type {\n",
       "        vertical-align: middle;\n",
       "    }\n",
       "\n",
       "    .dataframe tbody tr th {\n",
       "        vertical-align: top;\n",
       "    }\n",
       "\n",
       "    .dataframe thead th {\n",
       "        text-align: right;\n",
       "    }\n",
       "</style>\n",
       "<table border=\"1\" class=\"dataframe\">\n",
       "  <thead>\n",
       "    <tr style=\"text-align: right;\">\n",
       "      <th></th>\n",
       "      <th>datetime</th>\n",
       "      <th>customer_id</th>\n",
       "      <th>order_id</th>\n",
       "      <th>product</th>\n",
       "      <th>quantity</th>\n",
       "      <th>price</th>\n",
       "    </tr>\n",
       "  </thead>\n",
       "  <tbody>\n",
       "    <tr>\n",
       "      <th>0</th>\n",
       "      <td>2018-10-01</td>\n",
       "      <td>ee47d746-6d2f-4d3c-9622-c31412542920</td>\n",
       "      <td>68477</td>\n",
       "      <td>Комнатное растение в горшке Алое Вера, d12, h30</td>\n",
       "      <td>1</td>\n",
       "      <td>142.0</td>\n",
       "    </tr>\n",
       "    <tr>\n",
       "      <th>1</th>\n",
       "      <td>2018-10-01</td>\n",
       "      <td>ee47d746-6d2f-4d3c-9622-c31412542920</td>\n",
       "      <td>68477</td>\n",
       "      <td>Комнатное растение в горшке Кофе Арабика, d12,...</td>\n",
       "      <td>1</td>\n",
       "      <td>194.0</td>\n",
       "    </tr>\n",
       "    <tr>\n",
       "      <th>2</th>\n",
       "      <td>2018-10-01</td>\n",
       "      <td>ee47d746-6d2f-4d3c-9622-c31412542920</td>\n",
       "      <td>68477</td>\n",
       "      <td>Радермахера d-12 см h-20 см</td>\n",
       "      <td>1</td>\n",
       "      <td>112.0</td>\n",
       "    </tr>\n",
       "    <tr>\n",
       "      <th>3</th>\n",
       "      <td>2018-10-01</td>\n",
       "      <td>ee47d746-6d2f-4d3c-9622-c31412542920</td>\n",
       "      <td>68477</td>\n",
       "      <td>Хризолидокарпус Лутесценс d-9 см</td>\n",
       "      <td>1</td>\n",
       "      <td>179.0</td>\n",
       "    </tr>\n",
       "    <tr>\n",
       "      <th>4</th>\n",
       "      <td>2018-10-01</td>\n",
       "      <td>ee47d746-6d2f-4d3c-9622-c31412542920</td>\n",
       "      <td>68477</td>\n",
       "      <td>Циперус Зумула d-12 см h-25 см</td>\n",
       "      <td>1</td>\n",
       "      <td>112.0</td>\n",
       "    </tr>\n",
       "  </tbody>\n",
       "</table>\n",
       "</div>"
      ],
      "text/plain": [
       "    datetime                           customer_id  order_id  \\\n",
       "0 2018-10-01  ee47d746-6d2f-4d3c-9622-c31412542920     68477   \n",
       "1 2018-10-01  ee47d746-6d2f-4d3c-9622-c31412542920     68477   \n",
       "2 2018-10-01  ee47d746-6d2f-4d3c-9622-c31412542920     68477   \n",
       "3 2018-10-01  ee47d746-6d2f-4d3c-9622-c31412542920     68477   \n",
       "4 2018-10-01  ee47d746-6d2f-4d3c-9622-c31412542920     68477   \n",
       "\n",
       "                                             product  quantity  price  \n",
       "0    Комнатное растение в горшке Алое Вера, d12, h30         1  142.0  \n",
       "1  Комнатное растение в горшке Кофе Арабика, d12,...         1  194.0  \n",
       "2                        Радермахера d-12 см h-20 см         1  112.0  \n",
       "3                   Хризолидокарпус Лутесценс d-9 см         1  179.0  \n",
       "4                     Циперус Зумула d-12 см h-25 см         1  112.0  "
      ]
     },
     "execution_count": 5,
     "metadata": {},
     "output_type": "execute_result"
    }
   ],
   "source": [
    "df['date'] = pd.to_datetime(df['date'], format='%Y%m%d%H')\n",
    "df = df.rename (columns = {'date':'datetime'})   \n",
    "\n",
    "df.head()"
   ]
  },
  {
   "cell_type": "markdown",
   "id": "4667e0c6",
   "metadata": {},
   "source": [
    "Теперь добавим столбец, в котором будет только дата."
   ]
  },
  {
   "cell_type": "code",
   "execution_count": 6,
   "id": "b4fe8672",
   "metadata": {},
   "outputs": [
    {
     "data": {
      "text/html": [
       "<div>\n",
       "<style scoped>\n",
       "    .dataframe tbody tr th:only-of-type {\n",
       "        vertical-align: middle;\n",
       "    }\n",
       "\n",
       "    .dataframe tbody tr th {\n",
       "        vertical-align: top;\n",
       "    }\n",
       "\n",
       "    .dataframe thead th {\n",
       "        text-align: right;\n",
       "    }\n",
       "</style>\n",
       "<table border=\"1\" class=\"dataframe\">\n",
       "  <thead>\n",
       "    <tr style=\"text-align: right;\">\n",
       "      <th></th>\n",
       "      <th>datetime</th>\n",
       "      <th>customer_id</th>\n",
       "      <th>order_id</th>\n",
       "      <th>product</th>\n",
       "      <th>quantity</th>\n",
       "      <th>price</th>\n",
       "      <th>date</th>\n",
       "    </tr>\n",
       "  </thead>\n",
       "  <tbody>\n",
       "    <tr>\n",
       "      <th>0</th>\n",
       "      <td>2018-10-01</td>\n",
       "      <td>ee47d746-6d2f-4d3c-9622-c31412542920</td>\n",
       "      <td>68477</td>\n",
       "      <td>Комнатное растение в горшке Алое Вера, d12, h30</td>\n",
       "      <td>1</td>\n",
       "      <td>142.0</td>\n",
       "      <td>2018-10-01</td>\n",
       "    </tr>\n",
       "    <tr>\n",
       "      <th>1</th>\n",
       "      <td>2018-10-01</td>\n",
       "      <td>ee47d746-6d2f-4d3c-9622-c31412542920</td>\n",
       "      <td>68477</td>\n",
       "      <td>Комнатное растение в горшке Кофе Арабика, d12,...</td>\n",
       "      <td>1</td>\n",
       "      <td>194.0</td>\n",
       "      <td>2018-10-01</td>\n",
       "    </tr>\n",
       "    <tr>\n",
       "      <th>2</th>\n",
       "      <td>2018-10-01</td>\n",
       "      <td>ee47d746-6d2f-4d3c-9622-c31412542920</td>\n",
       "      <td>68477</td>\n",
       "      <td>Радермахера d-12 см h-20 см</td>\n",
       "      <td>1</td>\n",
       "      <td>112.0</td>\n",
       "      <td>2018-10-01</td>\n",
       "    </tr>\n",
       "    <tr>\n",
       "      <th>3</th>\n",
       "      <td>2018-10-01</td>\n",
       "      <td>ee47d746-6d2f-4d3c-9622-c31412542920</td>\n",
       "      <td>68477</td>\n",
       "      <td>Хризолидокарпус Лутесценс d-9 см</td>\n",
       "      <td>1</td>\n",
       "      <td>179.0</td>\n",
       "      <td>2018-10-01</td>\n",
       "    </tr>\n",
       "    <tr>\n",
       "      <th>4</th>\n",
       "      <td>2018-10-01</td>\n",
       "      <td>ee47d746-6d2f-4d3c-9622-c31412542920</td>\n",
       "      <td>68477</td>\n",
       "      <td>Циперус Зумула d-12 см h-25 см</td>\n",
       "      <td>1</td>\n",
       "      <td>112.0</td>\n",
       "      <td>2018-10-01</td>\n",
       "    </tr>\n",
       "  </tbody>\n",
       "</table>\n",
       "</div>"
      ],
      "text/plain": [
       "    datetime                           customer_id  order_id  \\\n",
       "0 2018-10-01  ee47d746-6d2f-4d3c-9622-c31412542920     68477   \n",
       "1 2018-10-01  ee47d746-6d2f-4d3c-9622-c31412542920     68477   \n",
       "2 2018-10-01  ee47d746-6d2f-4d3c-9622-c31412542920     68477   \n",
       "3 2018-10-01  ee47d746-6d2f-4d3c-9622-c31412542920     68477   \n",
       "4 2018-10-01  ee47d746-6d2f-4d3c-9622-c31412542920     68477   \n",
       "\n",
       "                                             product  quantity  price  \\\n",
       "0    Комнатное растение в горшке Алое Вера, d12, h30         1  142.0   \n",
       "1  Комнатное растение в горшке Кофе Арабика, d12,...         1  194.0   \n",
       "2                        Радермахера d-12 см h-20 см         1  112.0   \n",
       "3                   Хризолидокарпус Лутесценс d-9 см         1  179.0   \n",
       "4                     Циперус Зумула d-12 см h-25 см         1  112.0   \n",
       "\n",
       "        date  \n",
       "0 2018-10-01  \n",
       "1 2018-10-01  \n",
       "2 2018-10-01  \n",
       "3 2018-10-01  \n",
       "4 2018-10-01  "
      ]
     },
     "execution_count": 6,
     "metadata": {},
     "output_type": "execute_result"
    }
   ],
   "source": [
    "df['date'] = df['datetime'].dt.round('1D')\n",
    "\n",
    "df.head()"
   ]
  },
  {
   "cell_type": "markdown",
   "id": "45d4069c",
   "metadata": {},
   "source": [
    "Проверим."
   ]
  },
  {
   "cell_type": "code",
   "execution_count": 7,
   "id": "8e56c30f",
   "metadata": {},
   "outputs": [
    {
     "name": "stdout",
     "output_type": "stream",
     "text": [
      "<class 'pandas.core.frame.DataFrame'>\n",
      "RangeIndex: 7474 entries, 0 to 7473\n",
      "Data columns (total 7 columns):\n",
      " #   Column       Non-Null Count  Dtype         \n",
      "---  ------       --------------  -----         \n",
      " 0   datetime     7474 non-null   datetime64[ns]\n",
      " 1   customer_id  7474 non-null   object        \n",
      " 2   order_id     7474 non-null   int64         \n",
      " 3   product      7474 non-null   object        \n",
      " 4   quantity     7474 non-null   int64         \n",
      " 5   price        7474 non-null   float64       \n",
      " 6   date         7474 non-null   datetime64[ns]\n",
      "dtypes: datetime64[ns](2), float64(1), int64(2), object(2)\n",
      "memory usage: 408.9+ KB\n"
     ]
    }
   ],
   "source": [
    "df.info()"
   ]
  },
  {
   "cell_type": "markdown",
   "id": "8e42a4ff",
   "metadata": {},
   "source": [
    "Замена прошла успешно."
   ]
  },
  {
   "cell_type": "markdown",
   "id": "70dc1cd8",
   "metadata": {},
   "source": [
    "### Преведение столбца `product\t` к нижнему регистру"
   ]
  },
  {
   "cell_type": "markdown",
   "id": "23276af1",
   "metadata": {},
   "source": [
    "Преведем все названия в столбце `product` к нижнему регистру и удалим `-`, `,`, `см`."
   ]
  },
  {
   "cell_type": "code",
   "execution_count": 8,
   "id": "1708e987",
   "metadata": {},
   "outputs": [
    {
     "data": {
      "text/html": [
       "<div>\n",
       "<style scoped>\n",
       "    .dataframe tbody tr th:only-of-type {\n",
       "        vertical-align: middle;\n",
       "    }\n",
       "\n",
       "    .dataframe tbody tr th {\n",
       "        vertical-align: top;\n",
       "    }\n",
       "\n",
       "    .dataframe thead th {\n",
       "        text-align: right;\n",
       "    }\n",
       "</style>\n",
       "<table border=\"1\" class=\"dataframe\">\n",
       "  <thead>\n",
       "    <tr style=\"text-align: right;\">\n",
       "      <th></th>\n",
       "      <th>datetime</th>\n",
       "      <th>customer_id</th>\n",
       "      <th>order_id</th>\n",
       "      <th>product</th>\n",
       "      <th>quantity</th>\n",
       "      <th>price</th>\n",
       "      <th>date</th>\n",
       "    </tr>\n",
       "  </thead>\n",
       "  <tbody>\n",
       "    <tr>\n",
       "      <th>0</th>\n",
       "      <td>2018-10-01</td>\n",
       "      <td>ee47d746-6d2f-4d3c-9622-c31412542920</td>\n",
       "      <td>68477</td>\n",
       "      <td>комнатное растение в горшке алое вера d12 h30</td>\n",
       "      <td>1</td>\n",
       "      <td>142.0</td>\n",
       "      <td>2018-10-01</td>\n",
       "    </tr>\n",
       "    <tr>\n",
       "      <th>1</th>\n",
       "      <td>2018-10-01</td>\n",
       "      <td>ee47d746-6d2f-4d3c-9622-c31412542920</td>\n",
       "      <td>68477</td>\n",
       "      <td>комнатное растение в горшке кофе арабика d12 h25</td>\n",
       "      <td>1</td>\n",
       "      <td>194.0</td>\n",
       "      <td>2018-10-01</td>\n",
       "    </tr>\n",
       "    <tr>\n",
       "      <th>2</th>\n",
       "      <td>2018-10-01</td>\n",
       "      <td>ee47d746-6d2f-4d3c-9622-c31412542920</td>\n",
       "      <td>68477</td>\n",
       "      <td>радермахера d12  h20</td>\n",
       "      <td>1</td>\n",
       "      <td>112.0</td>\n",
       "      <td>2018-10-01</td>\n",
       "    </tr>\n",
       "    <tr>\n",
       "      <th>3</th>\n",
       "      <td>2018-10-01</td>\n",
       "      <td>ee47d746-6d2f-4d3c-9622-c31412542920</td>\n",
       "      <td>68477</td>\n",
       "      <td>хризолидокарпус лутесценс d9</td>\n",
       "      <td>1</td>\n",
       "      <td>179.0</td>\n",
       "      <td>2018-10-01</td>\n",
       "    </tr>\n",
       "    <tr>\n",
       "      <th>4</th>\n",
       "      <td>2018-10-01</td>\n",
       "      <td>ee47d746-6d2f-4d3c-9622-c31412542920</td>\n",
       "      <td>68477</td>\n",
       "      <td>циперус зумула d12  h25</td>\n",
       "      <td>1</td>\n",
       "      <td>112.0</td>\n",
       "      <td>2018-10-01</td>\n",
       "    </tr>\n",
       "  </tbody>\n",
       "</table>\n",
       "</div>"
      ],
      "text/plain": [
       "    datetime                           customer_id  order_id  \\\n",
       "0 2018-10-01  ee47d746-6d2f-4d3c-9622-c31412542920     68477   \n",
       "1 2018-10-01  ee47d746-6d2f-4d3c-9622-c31412542920     68477   \n",
       "2 2018-10-01  ee47d746-6d2f-4d3c-9622-c31412542920     68477   \n",
       "3 2018-10-01  ee47d746-6d2f-4d3c-9622-c31412542920     68477   \n",
       "4 2018-10-01  ee47d746-6d2f-4d3c-9622-c31412542920     68477   \n",
       "\n",
       "                                            product  quantity  price  \\\n",
       "0     комнатное растение в горшке алое вера d12 h30         1  142.0   \n",
       "1  комнатное растение в горшке кофе арабика d12 h25         1  194.0   \n",
       "2                             радермахера d12  h20          1  112.0   \n",
       "3                     хризолидокарпус лутесценс d9          1  179.0   \n",
       "4                          циперус зумула d12  h25          1  112.0   \n",
       "\n",
       "        date  \n",
       "0 2018-10-01  \n",
       "1 2018-10-01  \n",
       "2 2018-10-01  \n",
       "3 2018-10-01  \n",
       "4 2018-10-01  "
      ]
     },
     "execution_count": 8,
     "metadata": {},
     "output_type": "execute_result"
    }
   ],
   "source": [
    "df['product'] = df['product'].str.lower().str.replace('-','').str.replace(',','').str.replace('см','')\n",
    "\n",
    "df.head()"
   ]
  },
  {
   "cell_type": "markdown",
   "id": "cdd568b9",
   "metadata": {},
   "source": [
    "Замена прошла успешно."
   ]
  },
  {
   "cell_type": "markdown",
   "id": "dafa55b4",
   "metadata": {},
   "source": [
    "### Проверка на дубликаты"
   ]
  },
  {
   "cell_type": "code",
   "execution_count": 9,
   "id": "1fcd859c",
   "metadata": {},
   "outputs": [
    {
     "name": "stdout",
     "output_type": "stream",
     "text": [
      "Количество дубликатов 0\n"
     ]
    }
   ],
   "source": [
    "print('Количество дубликатов', df.duplicated().sum())"
   ]
  },
  {
   "cell_type": "markdown",
   "id": "e23c9e5a",
   "metadata": {},
   "source": [
    "Дубликаты не обнаружены."
   ]
  },
  {
   "cell_type": "markdown",
   "id": "51ba9d9e",
   "metadata": {},
   "source": [
    "**Проверим на неявные дубликаты.**  \n",
    "Чтобы одному заказу соответствовал только 1 клиент и только 1 дата."
   ]
  },
  {
   "cell_type": "code",
   "execution_count": 10,
   "id": "c12ba963",
   "metadata": {},
   "outputs": [
    {
     "data": {
      "text/html": [
       "<div>\n",
       "<style scoped>\n",
       "    .dataframe tbody tr th:only-of-type {\n",
       "        vertical-align: middle;\n",
       "    }\n",
       "\n",
       "    .dataframe tbody tr th {\n",
       "        vertical-align: top;\n",
       "    }\n",
       "\n",
       "    .dataframe thead th {\n",
       "        text-align: right;\n",
       "    }\n",
       "</style>\n",
       "<table border=\"1\" class=\"dataframe\">\n",
       "  <thead>\n",
       "    <tr style=\"text-align: right;\">\n",
       "      <th></th>\n",
       "      <th>customer_id</th>\n",
       "      <th>date</th>\n",
       "    </tr>\n",
       "    <tr>\n",
       "      <th>order_id</th>\n",
       "      <th></th>\n",
       "      <th></th>\n",
       "    </tr>\n",
       "  </thead>\n",
       "  <tbody>\n",
       "    <tr>\n",
       "      <th>72845</th>\n",
       "      <td>4</td>\n",
       "      <td>2</td>\n",
       "    </tr>\n",
       "    <tr>\n",
       "      <th>71480</th>\n",
       "      <td>3</td>\n",
       "      <td>2</td>\n",
       "    </tr>\n",
       "    <tr>\n",
       "      <th>69485</th>\n",
       "      <td>3</td>\n",
       "      <td>2</td>\n",
       "    </tr>\n",
       "    <tr>\n",
       "      <th>69410</th>\n",
       "      <td>2</td>\n",
       "      <td>2</td>\n",
       "    </tr>\n",
       "    <tr>\n",
       "      <th>71226</th>\n",
       "      <td>2</td>\n",
       "      <td>1</td>\n",
       "    </tr>\n",
       "    <tr>\n",
       "      <th>...</th>\n",
       "      <td>...</td>\n",
       "      <td>...</td>\n",
       "    </tr>\n",
       "    <tr>\n",
       "      <th>70080</th>\n",
       "      <td>1</td>\n",
       "      <td>1</td>\n",
       "    </tr>\n",
       "    <tr>\n",
       "      <th>70082</th>\n",
       "      <td>1</td>\n",
       "      <td>1</td>\n",
       "    </tr>\n",
       "    <tr>\n",
       "      <th>70087</th>\n",
       "      <td>1</td>\n",
       "      <td>1</td>\n",
       "    </tr>\n",
       "    <tr>\n",
       "      <th>70088</th>\n",
       "      <td>1</td>\n",
       "      <td>1</td>\n",
       "    </tr>\n",
       "    <tr>\n",
       "      <th>112789</th>\n",
       "      <td>1</td>\n",
       "      <td>1</td>\n",
       "    </tr>\n",
       "  </tbody>\n",
       "</table>\n",
       "<p>3521 rows × 2 columns</p>\n",
       "</div>"
      ],
      "text/plain": [
       "          customer_id  date\n",
       "order_id                   \n",
       "72845               4     2\n",
       "71480               3     2\n",
       "69485               3     2\n",
       "69410               2     2\n",
       "71226               2     1\n",
       "...               ...   ...\n",
       "70080               1     1\n",
       "70082               1     1\n",
       "70087               1     1\n",
       "70088               1     1\n",
       "112789              1     1\n",
       "\n",
       "[3521 rows x 2 columns]"
      ]
     },
     "execution_count": 10,
     "metadata": {},
     "output_type": "execute_result"
    }
   ],
   "source": [
    "df_dup = df.groupby('order_id').agg({'customer_id':'nunique', 'date':'nunique'})\\\n",
    "           .sort_values('customer_id', ascending=False)\n",
    "df_dup"
   ]
  },
  {
   "cell_type": "markdown",
   "id": "90e0599b",
   "metadata": {},
   "source": [
    "Да, есть заказы, который принадлежат сразу нескольким клиентам и выполнены в разные даты, найдем эти номера заказов"
   ]
  },
  {
   "cell_type": "code",
   "execution_count": 11,
   "id": "70bc06b1",
   "metadata": {},
   "outputs": [
    {
     "data": {
      "text/plain": [
       "0      72845\n",
       "1      71480\n",
       "2      69485\n",
       "3      69410\n",
       "4      71226\n",
       "       ...  \n",
       "177    70286\n",
       "178    70031\n",
       "179    70115\n",
       "180    70120\n",
       "181    70059\n",
       "Name: order_id, Length: 182, dtype: int64"
      ]
     },
     "execution_count": 11,
     "metadata": {},
     "output_type": "execute_result"
    }
   ],
   "source": [
    "list = df_dup.query('customer_id > 1 or date > 1').reset_index()['order_id']\n",
    "\n",
    "list"
   ]
  },
  {
   "cell_type": "markdown",
   "id": "337f0d99",
   "metadata": {},
   "source": [
    "Таких заказов 182. Уберем строки с этими заказами из датасета."
   ]
  },
  {
   "cell_type": "code",
   "execution_count": 12,
   "id": "92aea78c",
   "metadata": {},
   "outputs": [],
   "source": [
    "df_len = len(df)\n",
    "\n",
    "df = df.query('order_id not in @list')"
   ]
  },
  {
   "cell_type": "markdown",
   "id": "32b279e0",
   "metadata": {},
   "source": [
    "Проверим, остались ли неявные дубликаты."
   ]
  },
  {
   "cell_type": "code",
   "execution_count": 13,
   "id": "5f2514a1",
   "metadata": {
    "scrolled": true
   },
   "outputs": [
    {
     "data": {
      "text/html": [
       "<div>\n",
       "<style scoped>\n",
       "    .dataframe tbody tr th:only-of-type {\n",
       "        vertical-align: middle;\n",
       "    }\n",
       "\n",
       "    .dataframe tbody tr th {\n",
       "        vertical-align: top;\n",
       "    }\n",
       "\n",
       "    .dataframe thead th {\n",
       "        text-align: right;\n",
       "    }\n",
       "</style>\n",
       "<table border=\"1\" class=\"dataframe\">\n",
       "  <thead>\n",
       "    <tr style=\"text-align: right;\">\n",
       "      <th></th>\n",
       "      <th>customer_id</th>\n",
       "      <th>date</th>\n",
       "    </tr>\n",
       "    <tr>\n",
       "      <th>order_id</th>\n",
       "      <th></th>\n",
       "      <th></th>\n",
       "    </tr>\n",
       "  </thead>\n",
       "  <tbody>\n",
       "    <tr>\n",
       "      <th>12624</th>\n",
       "      <td>1</td>\n",
       "      <td>1</td>\n",
       "    </tr>\n",
       "    <tr>\n",
       "      <th>72534</th>\n",
       "      <td>1</td>\n",
       "      <td>1</td>\n",
       "    </tr>\n",
       "    <tr>\n",
       "      <th>72379</th>\n",
       "      <td>1</td>\n",
       "      <td>1</td>\n",
       "    </tr>\n",
       "    <tr>\n",
       "      <th>72380</th>\n",
       "      <td>1</td>\n",
       "      <td>1</td>\n",
       "    </tr>\n",
       "    <tr>\n",
       "      <th>72381</th>\n",
       "      <td>1</td>\n",
       "      <td>1</td>\n",
       "    </tr>\n",
       "    <tr>\n",
       "      <th>...</th>\n",
       "      <td>...</td>\n",
       "      <td>...</td>\n",
       "    </tr>\n",
       "    <tr>\n",
       "      <th>70093</th>\n",
       "      <td>1</td>\n",
       "      <td>1</td>\n",
       "    </tr>\n",
       "    <tr>\n",
       "      <th>70094</th>\n",
       "      <td>1</td>\n",
       "      <td>1</td>\n",
       "    </tr>\n",
       "    <tr>\n",
       "      <th>70095</th>\n",
       "      <td>1</td>\n",
       "      <td>1</td>\n",
       "    </tr>\n",
       "    <tr>\n",
       "      <th>70096</th>\n",
       "      <td>1</td>\n",
       "      <td>1</td>\n",
       "    </tr>\n",
       "    <tr>\n",
       "      <th>112789</th>\n",
       "      <td>1</td>\n",
       "      <td>1</td>\n",
       "    </tr>\n",
       "  </tbody>\n",
       "</table>\n",
       "<p>3339 rows × 2 columns</p>\n",
       "</div>"
      ],
      "text/plain": [
       "          customer_id  date\n",
       "order_id                   \n",
       "12624               1     1\n",
       "72534               1     1\n",
       "72379               1     1\n",
       "72380               1     1\n",
       "72381               1     1\n",
       "...               ...   ...\n",
       "70093               1     1\n",
       "70094               1     1\n",
       "70095               1     1\n",
       "70096               1     1\n",
       "112789              1     1\n",
       "\n",
       "[3339 rows x 2 columns]"
      ]
     },
     "execution_count": 13,
     "metadata": {},
     "output_type": "execute_result"
    }
   ],
   "source": [
    "df.groupby('order_id').agg({'customer_id':'nunique', 'date':'nunique'})\\\n",
    "           .sort_values('customer_id', ascending=False)"
   ]
  },
  {
   "cell_type": "markdown",
   "id": "bccd0ea5",
   "metadata": {},
   "source": [
    "Всё хорошо, заказы с несколькими клиентами и датой удалены."
   ]
  },
  {
   "cell_type": "code",
   "execution_count": 14,
   "id": "5c9c4514",
   "metadata": {},
   "outputs": [
    {
     "name": "stdout",
     "output_type": "stream",
     "text": [
      "От первоначальных данных осталось 71.85%\n"
     ]
    }
   ],
   "source": [
    "print(f'От первоначальных данных осталось {round(len(df)*100/df_len, 2)}%')"
   ]
  },
  {
   "cell_type": "markdown",
   "id": "57067265",
   "metadata": {},
   "source": [
    "### Вывод по разделу:"
   ]
  },
  {
   "cell_type": "markdown",
   "id": "419290dd",
   "metadata": {},
   "source": [
    "- Пропусков в данных не обнаружено\n",
    "- Перевели столбец `date` к формату `datetime`. Переименуем столбец в `datetime` и создадим отдельный столбец `date` в котором будет отображаться только дата.\n",
    "- Все названия в столбце `product` превели к нижнему регистру и удалили `-`, `,`, `см`.\n",
    "- Обнаружены неявные дубликаты - заказы, которые принадлежат сразу нескольким пользователям и датам. Таких заказов получилось 182. Удалили все строки с этими заказами из датасета.\n",
    "- После удаления осталось 71,85% данных"
   ]
  },
  {
   "cell_type": "markdown",
   "id": "8e1e2930",
   "metadata": {},
   "source": [
    "## Исследовательский анализ данных"
   ]
  },
  {
   "cell_type": "markdown",
   "id": "f86fdd28",
   "metadata": {},
   "source": [
    "### За какой период предоставлены данные"
   ]
  },
  {
   "cell_type": "code",
   "execution_count": 15,
   "id": "a690162c",
   "metadata": {},
   "outputs": [
    {
     "name": "stderr",
     "output_type": "stream",
     "text": [
      "C:\\Users\\HP\\AppData\\Local\\Temp\\ipykernel_10400\\801468514.py:1: FutureWarning: Treating datetime data as categorical rather than numeric in `.describe` is deprecated and will be removed in a future version of pandas. Specify `datetime_is_numeric=True` to silence this warning and adopt the future behavior now.\n",
      "  df['date'].describe()\n"
     ]
    },
    {
     "data": {
      "text/plain": [
       "count                    5370\n",
       "unique                    481\n",
       "top       2019-05-14 00:00:00\n",
       "freq                       94\n",
       "first     2018-10-01 00:00:00\n",
       "last      2020-02-01 00:00:00\n",
       "Name: date, dtype: object"
      ]
     },
     "execution_count": 15,
     "metadata": {},
     "output_type": "execute_result"
    }
   ],
   "source": [
    "df['date'].describe()"
   ]
  },
  {
   "cell_type": "code",
   "execution_count": 16,
   "id": "9b3ee149",
   "metadata": {},
   "outputs": [
    {
     "data": {
      "image/png": "[encoded data removed]",
      "text/plain": [
       "<Figure size 1000x600 with 1 Axes>"
      ]
     },
     "metadata": {},
     "output_type": "display_data"
    }
   ],
   "source": [
    "plt.figure(figsize=(10, 6))\n",
    "df['date'].hist(bins=24)\n",
    "plt.xticks(rotation=45);\n",
    "plt.ylabel('Количество проданных позиций')\n",
    "plt.xlabel('Дата')\n",
    "plt.title('Распределение проданных товаров по дате', fontsize = 14, pad=15)\n",
    "plt.show()"
   ]
  },
  {
   "cell_type": "markdown",
   "id": "bc501049",
   "metadata": {},
   "source": [
    "Аномалий в данных не обнаружено. Данные предоставлены за период с 10 октября 2018 года по 1 февраля 2020 года."
   ]
  },
  {
   "cell_type": "markdown",
   "id": "d1cfdc6b",
   "metadata": {},
   "source": [
    "### Количество уникальных покупателей и заказов"
   ]
  },
  {
   "cell_type": "code",
   "execution_count": 17,
   "id": "ccaad9b0",
   "metadata": {},
   "outputs": [
    {
     "name": "stdout",
     "output_type": "stream",
     "text": [
      "Количество уникальных покупателей 2278\n",
      "Количество уникальных заказов 3339\n",
      "Количество строк в таблице 5370\n"
     ]
    }
   ],
   "source": [
    "print('Количество уникальных покупателей', df['customer_id'].nunique())\n",
    "print('Количество уникальных заказов', df['order_id'].nunique())\n",
    "print('Количество строк в таблице', len(df))"
   ]
  },
  {
   "cell_type": "markdown",
   "id": "324d2e64",
   "metadata": {},
   "source": [
    "В датасете 2451 уникальных клиентов, 3521 уникальный заказ.  \n",
    "Поскольку строк в таблице больше, чем количество покупателей и заказов, то можно сказть, что некоторые покупатели совершали не одну покупку и в покупке бывает несколько позиций."
   ]
  },
  {
   "cell_type": "markdown",
   "id": "cfa207ad",
   "metadata": {},
   "source": [
    "### Анализ столбца `quantity`"
   ]
  },
  {
   "cell_type": "markdown",
   "id": "20575c8c",
   "metadata": {},
   "source": [
    "Посмотрим, по сколько позиций одного товара обычно заказывают за раз."
   ]
  },
  {
   "cell_type": "code",
   "execution_count": 18,
   "id": "b974d403",
   "metadata": {},
   "outputs": [
    {
     "data": {
      "image/png": "[encoded data removed]",
      "text/plain": [
       "<Figure size 1000x600 with 1 Axes>"
      ]
     },
     "metadata": {},
     "output_type": "display_data"
    }
   ],
   "source": [
    "plt.figure(figsize=(10, 6))\n",
    "sns.histplot(df, x='quantity', bins=30)\n",
    "plt.ylabel('Количество заказов')\n",
    "plt.xlabel('Количество товара')\n",
    "plt.title('Распределение количества товаров в заказе', fontsize = 14, pad=15)\n",
    "plt.show()"
   ]
  },
  {
   "cell_type": "markdown",
   "id": "62bd2b25",
   "metadata": {},
   "source": [
    "Мы видим, что есть аномалии, посмотрим значения ближе, ограничим ось х до 100."
   ]
  },
  {
   "cell_type": "code",
   "execution_count": 19,
   "id": "ca5c8993",
   "metadata": {},
   "outputs": [
    {
     "data": {
      "image/png": "[encoded data removed]",
      "text/plain": [
       "<Figure size 1000x600 with 1 Axes>"
      ]
     },
     "metadata": {},
     "output_type": "display_data"
    }
   ],
   "source": [
    "plt.figure(figsize=(10, 6))\n",
    "sns.histplot(df, x='quantity', bins=500)\n",
    "plt.ylabel('Количество заказов')\n",
    "plt.xlabel('Количество товара')\n",
    "plt.xlim(0,100)\n",
    "plt.title('Распределение количества товаров в заказе', fontsize = 14, pad=15)\n",
    "plt.show()"
   ]
  },
  {
   "cell_type": "markdown",
   "id": "3f8226ab",
   "metadata": {},
   "source": [
    "Значения выше 10 позиций в чеке можно считать аномалиями. Удалим заказы с такими позициями из датафрейма."
   ]
  },
  {
   "cell_type": "code",
   "execution_count": 20,
   "id": "e6b322d2",
   "metadata": {
    "scrolled": true
   },
   "outputs": [
    {
     "data": {
      "text/plain": [
       "array([68486, 68493, 68506, 68525, 68571, 68580, 68585, 68599, 68623,\n",
       "       68667, 68727, 68764, 68815, 68822, 68823, 68831, 68895, 68908,\n",
       "       68926, 69060, 69063, 69127, 69147, 69156, 69160, 69169, 69194,\n",
       "       69206, 69289, 69302, 69458, 69499, 69504, 69517, 69524, 69537,\n",
       "       69608, 69743, 69793, 69830, 69835, 69893, 69928, 69944, 69981,\n",
       "       69987, 70076, 70095, 70108, 70135, 70187, 70257, 70327, 70328,\n",
       "       70363, 70446, 70452, 70482, 70496, 70498, 70508, 14552, 70537,\n",
       "       70543, 70599, 70615, 70776, 70841, 70857, 70866, 70876, 70877,\n",
       "       70891, 70915, 70921, 70961, 70970, 70976, 70982, 71055, 71204,\n",
       "       71205, 14666, 71255, 71262, 71266, 71267, 14696, 71311, 71351,\n",
       "       14745, 71478, 71499, 71514, 71519, 71539, 71551, 71560, 14845,\n",
       "       71623, 71668, 71698, 71728, 71743, 71770, 71802, 71865, 71990,\n",
       "       72125, 72230, 72413, 72419, 72466, 72698, 72715, 72769, 72771,\n",
       "       72811, 72821, 72826, 72885, 72920, 73041, 73063, 73073, 73092,\n",
       "       73110], dtype=int64)"
      ]
     },
     "execution_count": 20,
     "metadata": {},
     "output_type": "execute_result"
    }
   ],
   "source": [
    "list = df.query('quantity > 10')['order_id'].unique()\n",
    "list"
   ]
  },
  {
   "cell_type": "code",
   "execution_count": 21,
   "id": "77ac349a",
   "metadata": {},
   "outputs": [],
   "source": [
    "df_red = df.query('order_id not in @list')\n"
   ]
  },
  {
   "cell_type": "code",
   "execution_count": 22,
   "id": "8056ad2a",
   "metadata": {},
   "outputs": [
    {
     "data": {
      "image/png": "[encoded data removed]",
      "text/plain": [
       "<Figure size 1000x600 with 1 Axes>"
      ]
     },
     "metadata": {},
     "output_type": "display_data"
    }
   ],
   "source": [
    "plt.figure(figsize=(10, 6))\n",
    "sns.histplot(df_red, x='quantity', bins=17)\n",
    "plt.ylabel('Количество заказов')\n",
    "plt.xlabel('Количество товара')\n",
    "plt.title('Распределение количества товаров в заказе', fontsize = 14, pad=15)\n",
    "plt.show()"
   ]
  },
  {
   "cell_type": "code",
   "execution_count": 23,
   "id": "1ce7a1be",
   "metadata": {},
   "outputs": [
    {
     "name": "stdout",
     "output_type": "stream",
     "text": [
      "Процент случаев, когда берут только 1 позицию товара за заказ - 79.8\n"
     ]
    }
   ],
   "source": [
    "print('Процент случаев, когда берут только 1 позицию товара за заказ -',\n",
    "      round(len(df.query('quantity == 1'))*100 / len(df), 2))"
   ]
  },
  {
   "cell_type": "markdown",
   "id": "147b0eb3",
   "metadata": {},
   "source": [
    "Чаще всего товары заказывают по 1й позиции (в 82,57% случаев) и редко - больше."
   ]
  },
  {
   "cell_type": "markdown",
   "id": "70a0119c",
   "metadata": {},
   "source": [
    "### Анализ цены\n"
   ]
  },
  {
   "cell_type": "markdown",
   "id": "262b5265",
   "metadata": {},
   "source": [
    "Посмотрим, в каком диапазоне лежит цена товаров."
   ]
  },
  {
   "cell_type": "code",
   "execution_count": 24,
   "id": "03fae3d8",
   "metadata": {},
   "outputs": [
    {
     "data": {
      "image/png": "[encoded data removed]",
      "text/plain": [
       "<Figure size 1000x600 with 1 Axes>"
      ]
     },
     "metadata": {},
     "output_type": "display_data"
    }
   ],
   "source": [
    "plt.figure(figsize=(10, 6))\n",
    "sns.histplot(df_red, x='price', bins=40)\n",
    "plt.ylabel('Количество заказов')\n",
    "plt.xlabel('Цена товара')\n",
    "plt.title('Распределение цены заказов', fontsize = 14, pad=15)\n",
    "plt.show()"
   ]
  },
  {
   "cell_type": "markdown",
   "id": "9a9d97e4",
   "metadata": {},
   "source": [
    "Цены выше 6000 выглядят как выбросы, перед тем, как их удалять, посмотрим эти строки."
   ]
  },
  {
   "cell_type": "code",
   "execution_count": 25,
   "id": "7259215f",
   "metadata": {
    "scrolled": true
   },
   "outputs": [
    {
     "data": {
      "text/html": [
       "<div>\n",
       "<style scoped>\n",
       "    .dataframe tbody tr th:only-of-type {\n",
       "        vertical-align: middle;\n",
       "    }\n",
       "\n",
       "    .dataframe tbody tr th {\n",
       "        vertical-align: top;\n",
       "    }\n",
       "\n",
       "    .dataframe thead th {\n",
       "        text-align: right;\n",
       "    }\n",
       "</style>\n",
       "<table border=\"1\" class=\"dataframe\">\n",
       "  <thead>\n",
       "    <tr style=\"text-align: right;\">\n",
       "      <th></th>\n",
       "      <th>datetime</th>\n",
       "      <th>customer_id</th>\n",
       "      <th>order_id</th>\n",
       "      <th>product</th>\n",
       "      <th>quantity</th>\n",
       "      <th>price</th>\n",
       "      <th>date</th>\n",
       "    </tr>\n",
       "  </thead>\n",
       "  <tbody>\n",
       "    <tr>\n",
       "      <th>634</th>\n",
       "      <td>2018-11-05 02:00:00</td>\n",
       "      <td>639c4989-b0ab-412a-b7ec-be394cb2d372</td>\n",
       "      <td>68856</td>\n",
       "      <td>сумкатележка хозяйственная rolser imx005 maren...</td>\n",
       "      <td>1</td>\n",
       "      <td>6007.0</td>\n",
       "      <td>2018-11-05</td>\n",
       "    </tr>\n",
       "    <tr>\n",
       "      <th>654</th>\n",
       "      <td>2018-11-05 22:00:00</td>\n",
       "      <td>fc333417-1d11-4a2a-b946-0957ae0603e9</td>\n",
       "      <td>68872</td>\n",
       "      <td>сумкатележка хозяйственная rolser mou041 malva...</td>\n",
       "      <td>1</td>\n",
       "      <td>7597.0</td>\n",
       "      <td>2018-11-06</td>\n",
       "    </tr>\n",
       "    <tr>\n",
       "      <th>655</th>\n",
       "      <td>2018-11-05 22:00:00</td>\n",
       "      <td>639c4989-b0ab-412a-b7ec-be394cb2d372</td>\n",
       "      <td>68871</td>\n",
       "      <td>сумкатележка хозяйственная rolser imx005 maren...</td>\n",
       "      <td>1</td>\n",
       "      <td>6007.0</td>\n",
       "      <td>2018-11-06</td>\n",
       "    </tr>\n",
       "    <tr>\n",
       "      <th>1121</th>\n",
       "      <td>2018-12-06 17:00:00</td>\n",
       "      <td>82b56a76-0dc9-4dae-aa76-863a9a80f082</td>\n",
       "      <td>69236</td>\n",
       "      <td>покрывало жаккард karna стеганое kalven 260x26...</td>\n",
       "      <td>1</td>\n",
       "      <td>6134.0</td>\n",
       "      <td>2018-12-07</td>\n",
       "    </tr>\n",
       "    <tr>\n",
       "      <th>1241</th>\n",
       "      <td>2018-12-17 17:00:00</td>\n",
       "      <td>86c97bf1-c834-423e-9e38-8acda68f97e8</td>\n",
       "      <td>69417</td>\n",
       "      <td>гладильная доска leifheit airboard compact m p...</td>\n",
       "      <td>1</td>\n",
       "      <td>7424.0</td>\n",
       "      <td>2018-12-18</td>\n",
       "    </tr>\n",
       "    <tr>\n",
       "      <th>1420</th>\n",
       "      <td>2018-12-29 09:00:00</td>\n",
       "      <td>ad66d870-22f5-43bc-958f-73420822586b</td>\n",
       "      <td>69681</td>\n",
       "      <td>сумкатележка хозяйственная rolser pack gloria ...</td>\n",
       "      <td>1</td>\n",
       "      <td>6307.0</td>\n",
       "      <td>2018-12-29</td>\n",
       "    </tr>\n",
       "    <tr>\n",
       "      <th>1693</th>\n",
       "      <td>2019-02-04 16:00:00</td>\n",
       "      <td>282d20b5-8d00-424f-b339-7adf6c7c16d1</td>\n",
       "      <td>70094</td>\n",
       "      <td>сиденье для гладильной доски leifheit niveau 7...</td>\n",
       "      <td>1</td>\n",
       "      <td>6149.0</td>\n",
       "      <td>2019-02-05</td>\n",
       "    </tr>\n",
       "    <tr>\n",
       "      <th>1981</th>\n",
       "      <td>2019-02-24 10:00:00</td>\n",
       "      <td>ac250053-a236-467a-97d2-ddbb9bf4a1ba</td>\n",
       "      <td>70423</td>\n",
       "      <td>сумкатележка хозяйственная andersen alu star s...</td>\n",
       "      <td>1</td>\n",
       "      <td>8437.0</td>\n",
       "      <td>2019-02-24</td>\n",
       "    </tr>\n",
       "    <tr>\n",
       "      <th>2339</th>\n",
       "      <td>2019-03-14 18:00:00</td>\n",
       "      <td>27d4ce42-352b-4756-bf5b-8724e05d5131</td>\n",
       "      <td>70740</td>\n",
       "      <td>сумкатележка хозяйственная rolser imx006 bassi...</td>\n",
       "      <td>1</td>\n",
       "      <td>7679.0</td>\n",
       "      <td>2019-03-15</td>\n",
       "    </tr>\n",
       "    <tr>\n",
       "      <th>2691</th>\n",
       "      <td>2019-04-05 14:00:00</td>\n",
       "      <td>02adb72a-3067-45e9-a3b5-f93d79d7496a</td>\n",
       "      <td>71030</td>\n",
       "      <td>сумкатележка хозяйственная andersen scala shop...</td>\n",
       "      <td>1</td>\n",
       "      <td>6149.0</td>\n",
       "      <td>2019-04-06</td>\n",
       "    </tr>\n",
       "    <tr>\n",
       "      <th>2697</th>\n",
       "      <td>2019-04-05 19:00:00</td>\n",
       "      <td>c0c60544-3a99-49d0-8a8e-cf7f293c22cb</td>\n",
       "      <td>71035</td>\n",
       "      <td>сумкатележка хозяйственная andersen royal shop...</td>\n",
       "      <td>1</td>\n",
       "      <td>8737.0</td>\n",
       "      <td>2019-04-06</td>\n",
       "    </tr>\n",
       "    <tr>\n",
       "      <th>2751</th>\n",
       "      <td>2019-04-09 09:00:00</td>\n",
       "      <td>36c694c0-096a-40bd-9eb8-d43a8eff5a21</td>\n",
       "      <td>71071</td>\n",
       "      <td>сумкатележка хозяйственная andersen scala shop...</td>\n",
       "      <td>1</td>\n",
       "      <td>6149.0</td>\n",
       "      <td>2019-04-09</td>\n",
       "    </tr>\n",
       "    <tr>\n",
       "      <th>2976</th>\n",
       "      <td>2019-04-20 08:00:00</td>\n",
       "      <td>16838b36-762a-474d-bda4-bad95f8d7813</td>\n",
       "      <td>71209</td>\n",
       "      <td>автоматическая щетка leifheit для мытья окон с...</td>\n",
       "      <td>1</td>\n",
       "      <td>7229.0</td>\n",
       "      <td>2019-04-20</td>\n",
       "    </tr>\n",
       "    <tr>\n",
       "      <th>2997</th>\n",
       "      <td>2019-04-21 16:00:00</td>\n",
       "      <td>19d904d8-8d16-476d-8f66-b2a3b7a23660</td>\n",
       "      <td>71227</td>\n",
       "      <td>сумкатележка хозяйственная rolser mnb019 rojo ...</td>\n",
       "      <td>1</td>\n",
       "      <td>8077.0</td>\n",
       "      <td>2019-04-22</td>\n",
       "    </tr>\n",
       "    <tr>\n",
       "      <th>3796</th>\n",
       "      <td>2019-05-14 19:00:00</td>\n",
       "      <td>92ac6674-3588-4706-b70e-21be0f53dd88</td>\n",
       "      <td>71428</td>\n",
       "      <td>сумкатележка хозяйственная rolser par015 manda...</td>\n",
       "      <td>1</td>\n",
       "      <td>6097.0</td>\n",
       "      <td>2019-05-15</td>\n",
       "    </tr>\n",
       "    <tr>\n",
       "      <th>3887</th>\n",
       "      <td>2019-05-17 14:00:00</td>\n",
       "      <td>a9089b7e-e6a5-48f9-9b76-48693b63a092</td>\n",
       "      <td>71456</td>\n",
       "      <td>сумкатележка хозяйственная rolser imx002 maren...</td>\n",
       "      <td>1</td>\n",
       "      <td>6097.0</td>\n",
       "      <td>2019-05-18</td>\n",
       "    </tr>\n",
       "    <tr>\n",
       "      <th>4054</th>\n",
       "      <td>2019-05-27 14:00:00</td>\n",
       "      <td>0e668f0e-582c-4832-a9a7-9dd667c26900</td>\n",
       "      <td>71525</td>\n",
       "      <td>сумкатележка хозяйственная andersen treppenste...</td>\n",
       "      <td>1</td>\n",
       "      <td>6449.0</td>\n",
       "      <td>2019-05-28</td>\n",
       "    </tr>\n",
       "    <tr>\n",
       "      <th>4903</th>\n",
       "      <td>2019-06-08 18:00:00</td>\n",
       "      <td>32d17113-bfe6-4cf6-8157-fa228cf53dda</td>\n",
       "      <td>71642</td>\n",
       "      <td>сумкатележка хозяйственная rolser plegamatic o...</td>\n",
       "      <td>1</td>\n",
       "      <td>6494.0</td>\n",
       "      <td>2019-06-09</td>\n",
       "    </tr>\n",
       "    <tr>\n",
       "      <th>5087</th>\n",
       "      <td>2019-06-11 10:00:00</td>\n",
       "      <td>85716494-dd51-4d1d-ab28-8c74b87f14dc</td>\n",
       "      <td>71674</td>\n",
       "      <td>сушилка для белья leifheit pegasus 200 deluxe ...</td>\n",
       "      <td>1</td>\n",
       "      <td>7004.0</td>\n",
       "      <td>2019-06-11</td>\n",
       "    </tr>\n",
       "    <tr>\n",
       "      <th>5101</th>\n",
       "      <td>2019-06-11 11:00:00</td>\n",
       "      <td>d109eb8f-0193-43fa-8a59-cffdb258db32</td>\n",
       "      <td>71677</td>\n",
       "      <td>сумкатележка хозяйственная rolser pack gloria ...</td>\n",
       "      <td>1</td>\n",
       "      <td>6809.0</td>\n",
       "      <td>2019-06-11</td>\n",
       "    </tr>\n",
       "    <tr>\n",
       "      <th>5176</th>\n",
       "      <td>2019-06-12 18:00:00</td>\n",
       "      <td>aec93ab0-4469-4e88-80cb-08b479a493e5</td>\n",
       "      <td>71687</td>\n",
       "      <td>гладильная доска colombo avantgard 120х40</td>\n",
       "      <td>1</td>\n",
       "      <td>6614.0</td>\n",
       "      <td>2019-06-13</td>\n",
       "    </tr>\n",
       "    <tr>\n",
       "      <th>5992</th>\n",
       "      <td>2019-07-29 17:00:00</td>\n",
       "      <td>0d87f4ae-465a-4fac-81e6-5d629761783e</td>\n",
       "      <td>72139</td>\n",
       "      <td>сушилка уличная leifheit 85210 linomatic v 400...</td>\n",
       "      <td>1</td>\n",
       "      <td>14917.0</td>\n",
       "      <td>2019-07-30</td>\n",
       "    </tr>\n",
       "    <tr>\n",
       "      <th>5994</th>\n",
       "      <td>2019-07-30 01:00:00</td>\n",
       "      <td>e2fe6b48-1955-4882-925c-733f545df026</td>\n",
       "      <td>72140</td>\n",
       "      <td>сумкатележка хозяйственная rolser mnb017 fucsi...</td>\n",
       "      <td>1</td>\n",
       "      <td>7679.0</td>\n",
       "      <td>2019-07-30</td>\n",
       "    </tr>\n",
       "    <tr>\n",
       "      <th>6003</th>\n",
       "      <td>2019-07-31 07:00:00</td>\n",
       "      <td>2d51b277-cb8a-48eb-bdbf-b3315276f01a</td>\n",
       "      <td>72153</td>\n",
       "      <td>сумкатележка хозяйственная andersen scala shop...</td>\n",
       "      <td>1</td>\n",
       "      <td>7199.0</td>\n",
       "      <td>2019-07-31</td>\n",
       "    </tr>\n",
       "    <tr>\n",
       "      <th>6169</th>\n",
       "      <td>2019-08-23 12:00:00</td>\n",
       "      <td>8d85f320-5f55-4647-814c-da1a6b21c2a4</td>\n",
       "      <td>72381</td>\n",
       "      <td>урна уличная стальная сальвадор 02.021.0 46х110</td>\n",
       "      <td>1</td>\n",
       "      <td>7349.0</td>\n",
       "      <td>2019-08-24</td>\n",
       "    </tr>\n",
       "    <tr>\n",
       "      <th>6172</th>\n",
       "      <td>2019-08-23 16:00:00</td>\n",
       "      <td>1b83c58a-e167-4764-904e-d4b0d946c236</td>\n",
       "      <td>72387</td>\n",
       "      <td>сумкатележка хозяйственная andersen treppenste...</td>\n",
       "      <td>1</td>\n",
       "      <td>6449.0</td>\n",
       "      <td>2019-08-24</td>\n",
       "    </tr>\n",
       "    <tr>\n",
       "      <th>6578</th>\n",
       "      <td>2019-10-11 09:00:00</td>\n",
       "      <td>39bded4f-7358-4fce-a313-a7cb2d3a7005</td>\n",
       "      <td>72929</td>\n",
       "      <td>сумкатележка хозяйственная rolser imx004 negro...</td>\n",
       "      <td>1</td>\n",
       "      <td>6075.0</td>\n",
       "      <td>2019-10-11</td>\n",
       "    </tr>\n",
       "    <tr>\n",
       "      <th>6626</th>\n",
       "      <td>2019-10-16 11:00:00</td>\n",
       "      <td>73d1cd35-5e5f-4629-8cf2-3fda829d4e58</td>\n",
       "      <td>72986</td>\n",
       "      <td>сумкатележка хозяйственная rolser mnb012 azul ...</td>\n",
       "      <td>1</td>\n",
       "      <td>6600.0</td>\n",
       "      <td>2019-10-16</td>\n",
       "    </tr>\n",
       "    <tr>\n",
       "      <th>6629</th>\n",
       "      <td>2019-10-16 15:00:00</td>\n",
       "      <td>d5584388-ffbe-42fd-a746-a98828ec919f</td>\n",
       "      <td>72992</td>\n",
       "      <td>стремянка 7 ступенчатая hailo 8040707 xxl 13  ...</td>\n",
       "      <td>1</td>\n",
       "      <td>7724.0</td>\n",
       "      <td>2019-10-17</td>\n",
       "    </tr>\n",
       "    <tr>\n",
       "      <th>6686</th>\n",
       "      <td>2019-10-23 15:00:00</td>\n",
       "      <td>6cfdad48-10fd-443b-bc67-93078c646779</td>\n",
       "      <td>73077</td>\n",
       "      <td>урна уличная стальная юпитер 02.012.0 38х38х60</td>\n",
       "      <td>1</td>\n",
       "      <td>6899.0</td>\n",
       "      <td>2019-10-24</td>\n",
       "    </tr>\n",
       "    <tr>\n",
       "      <th>6828</th>\n",
       "      <td>2019-11-11 10:00:00</td>\n",
       "      <td>c649b694-9bcc-4a0e-b453-0ed613cc89b6</td>\n",
       "      <td>103155</td>\n",
       "      <td>сумкатележка хозяйственная rolser imx004 negro...</td>\n",
       "      <td>1</td>\n",
       "      <td>6075.0</td>\n",
       "      <td>2019-11-11</td>\n",
       "    </tr>\n",
       "    <tr>\n",
       "      <th>6829</th>\n",
       "      <td>2019-11-11 12:00:00</td>\n",
       "      <td>88b127c0-5753-4e21-b9eb-fb2b1537827a</td>\n",
       "      <td>102266</td>\n",
       "      <td>сумкатележка хозяйственная rolser pack gloria ...</td>\n",
       "      <td>1</td>\n",
       "      <td>6558.0</td>\n",
       "      <td>2019-11-12</td>\n",
       "    </tr>\n",
       "    <tr>\n",
       "      <th>6913</th>\n",
       "      <td>2019-11-24 15:00:00</td>\n",
       "      <td>ad66d870-22f5-43bc-958f-73420822586b</td>\n",
       "      <td>103766</td>\n",
       "      <td>гладильная доска leifheit airboard compact m p...</td>\n",
       "      <td>1</td>\n",
       "      <td>7424.0</td>\n",
       "      <td>2019-11-25</td>\n",
       "    </tr>\n",
       "    <tr>\n",
       "      <th>7148</th>\n",
       "      <td>2019-12-26 18:00:00</td>\n",
       "      <td>9704352f-7f7f-4fa7-aa1c-64296156a722</td>\n",
       "      <td>106011</td>\n",
       "      <td>сумкатележка хозяйственная rolser mnb012 azul ...</td>\n",
       "      <td>1</td>\n",
       "      <td>6600.0</td>\n",
       "      <td>2019-12-27</td>\n",
       "    </tr>\n",
       "    <tr>\n",
       "      <th>7162</th>\n",
       "      <td>2019-12-28 23:00:00</td>\n",
       "      <td>5853eef2-4e02-4597-a69c-b4e274dce7ae</td>\n",
       "      <td>104357</td>\n",
       "      <td>сиденье для гладильной доски leifheit niveau 7...</td>\n",
       "      <td>1</td>\n",
       "      <td>6149.0</td>\n",
       "      <td>2019-12-29</td>\n",
       "    </tr>\n",
       "    <tr>\n",
       "      <th>7190</th>\n",
       "      <td>2019-12-31 10:00:00</td>\n",
       "      <td>f279d50f-a508-40b4-bde5-5cb4a1be3ad0</td>\n",
       "      <td>107812</td>\n",
       "      <td>сумкатележка хозяйственная rolser imx006 bassi...</td>\n",
       "      <td>2</td>\n",
       "      <td>7679.0</td>\n",
       "      <td>2019-12-31</td>\n",
       "    </tr>\n",
       "    <tr>\n",
       "      <th>7272</th>\n",
       "      <td>2020-01-08 11:00:00</td>\n",
       "      <td>db6caedb-e231-4adc-bcd0-e45b8992f3da</td>\n",
       "      <td>107979</td>\n",
       "      <td>автоматическая щетка leifheit для мытья окон с...</td>\n",
       "      <td>1</td>\n",
       "      <td>7229.0</td>\n",
       "      <td>2020-01-08</td>\n",
       "    </tr>\n",
       "    <tr>\n",
       "      <th>7436</th>\n",
       "      <td>2020-01-26 19:00:00</td>\n",
       "      <td>04416514-5346-4f90-93e3-fb7365e2ee8c</td>\n",
       "      <td>109758</td>\n",
       "      <td>сумкатележка хозяйственная rolser mnb019 rojo ...</td>\n",
       "      <td>1</td>\n",
       "      <td>8077.0</td>\n",
       "      <td>2020-01-27</td>\n",
       "    </tr>\n",
       "  </tbody>\n",
       "</table>\n",
       "</div>"
      ],
      "text/plain": [
       "                datetime                           customer_id  order_id  \\\n",
       "634  2018-11-05 02:00:00  639c4989-b0ab-412a-b7ec-be394cb2d372     68856   \n",
       "654  2018-11-05 22:00:00  fc333417-1d11-4a2a-b946-0957ae0603e9     68872   \n",
       "655  2018-11-05 22:00:00  639c4989-b0ab-412a-b7ec-be394cb2d372     68871   \n",
       "1121 2018-12-06 17:00:00  82b56a76-0dc9-4dae-aa76-863a9a80f082     69236   \n",
       "1241 2018-12-17 17:00:00  86c97bf1-c834-423e-9e38-8acda68f97e8     69417   \n",
       "1420 2018-12-29 09:00:00  ad66d870-22f5-43bc-958f-73420822586b     69681   \n",
       "1693 2019-02-04 16:00:00  282d20b5-8d00-424f-b339-7adf6c7c16d1     70094   \n",
       "1981 2019-02-24 10:00:00  ac250053-a236-467a-97d2-ddbb9bf4a1ba     70423   \n",
       "2339 2019-03-14 18:00:00  27d4ce42-352b-4756-bf5b-8724e05d5131     70740   \n",
       "2691 2019-04-05 14:00:00  02adb72a-3067-45e9-a3b5-f93d79d7496a     71030   \n",
       "2697 2019-04-05 19:00:00  c0c60544-3a99-49d0-8a8e-cf7f293c22cb     71035   \n",
       "2751 2019-04-09 09:00:00  36c694c0-096a-40bd-9eb8-d43a8eff5a21     71071   \n",
       "2976 2019-04-20 08:00:00  16838b36-762a-474d-bda4-bad95f8d7813     71209   \n",
       "2997 2019-04-21 16:00:00  19d904d8-8d16-476d-8f66-b2a3b7a23660     71227   \n",
       "3796 2019-05-14 19:00:00  92ac6674-3588-4706-b70e-21be0f53dd88     71428   \n",
       "3887 2019-05-17 14:00:00  a9089b7e-e6a5-48f9-9b76-48693b63a092     71456   \n",
       "4054 2019-05-27 14:00:00  0e668f0e-582c-4832-a9a7-9dd667c26900     71525   \n",
       "4903 2019-06-08 18:00:00  32d17113-bfe6-4cf6-8157-fa228cf53dda     71642   \n",
       "5087 2019-06-11 10:00:00  85716494-dd51-4d1d-ab28-8c74b87f14dc     71674   \n",
       "5101 2019-06-11 11:00:00  d109eb8f-0193-43fa-8a59-cffdb258db32     71677   \n",
       "5176 2019-06-12 18:00:00  aec93ab0-4469-4e88-80cb-08b479a493e5     71687   \n",
       "5992 2019-07-29 17:00:00  0d87f4ae-465a-4fac-81e6-5d629761783e     72139   \n",
       "5994 2019-07-30 01:00:00  e2fe6b48-1955-4882-925c-733f545df026     72140   \n",
       "6003 2019-07-31 07:00:00  2d51b277-cb8a-48eb-bdbf-b3315276f01a     72153   \n",
       "6169 2019-08-23 12:00:00  8d85f320-5f55-4647-814c-da1a6b21c2a4     72381   \n",
       "6172 2019-08-23 16:00:00  1b83c58a-e167-4764-904e-d4b0d946c236     72387   \n",
       "6578 2019-10-11 09:00:00  39bded4f-7358-4fce-a313-a7cb2d3a7005     72929   \n",
       "6626 2019-10-16 11:00:00  73d1cd35-5e5f-4629-8cf2-3fda829d4e58     72986   \n",
       "6629 2019-10-16 15:00:00  d5584388-ffbe-42fd-a746-a98828ec919f     72992   \n",
       "6686 2019-10-23 15:00:00  6cfdad48-10fd-443b-bc67-93078c646779     73077   \n",
       "6828 2019-11-11 10:00:00  c649b694-9bcc-4a0e-b453-0ed613cc89b6    103155   \n",
       "6829 2019-11-11 12:00:00  88b127c0-5753-4e21-b9eb-fb2b1537827a    102266   \n",
       "6913 2019-11-24 15:00:00  ad66d870-22f5-43bc-958f-73420822586b    103766   \n",
       "7148 2019-12-26 18:00:00  9704352f-7f7f-4fa7-aa1c-64296156a722    106011   \n",
       "7162 2019-12-28 23:00:00  5853eef2-4e02-4597-a69c-b4e274dce7ae    104357   \n",
       "7190 2019-12-31 10:00:00  f279d50f-a508-40b4-bde5-5cb4a1be3ad0    107812   \n",
       "7272 2020-01-08 11:00:00  db6caedb-e231-4adc-bcd0-e45b8992f3da    107979   \n",
       "7436 2020-01-26 19:00:00  04416514-5346-4f90-93e3-fb7365e2ee8c    109758   \n",
       "\n",
       "                                                product  quantity    price  \\\n",
       "634   сумкатележка хозяйственная rolser imx005 maren...         1   6007.0   \n",
       "654   сумкатележка хозяйственная rolser mou041 malva...         1   7597.0   \n",
       "655   сумкатележка хозяйственная rolser imx005 maren...         1   6007.0   \n",
       "1121  покрывало жаккард karna стеганое kalven 260x26...         1   6134.0   \n",
       "1241  гладильная доска leifheit airboard compact m p...         1   7424.0   \n",
       "1420  сумкатележка хозяйственная rolser pack gloria ...         1   6307.0   \n",
       "1693  сиденье для гладильной доски leifheit niveau 7...         1   6149.0   \n",
       "1981  сумкатележка хозяйственная andersen alu star s...         1   8437.0   \n",
       "2339  сумкатележка хозяйственная rolser imx006 bassi...         1   7679.0   \n",
       "2691  сумкатележка хозяйственная andersen scala shop...         1   6149.0   \n",
       "2697  сумкатележка хозяйственная andersen royal shop...         1   8737.0   \n",
       "2751  сумкатележка хозяйственная andersen scala shop...         1   6149.0   \n",
       "2976  автоматическая щетка leifheit для мытья окон с...         1   7229.0   \n",
       "2997  сумкатележка хозяйственная rolser mnb019 rojo ...         1   8077.0   \n",
       "3796  сумкатележка хозяйственная rolser par015 manda...         1   6097.0   \n",
       "3887  сумкатележка хозяйственная rolser imx002 maren...         1   6097.0   \n",
       "4054  сумкатележка хозяйственная andersen treppenste...         1   6449.0   \n",
       "4903  сумкатележка хозяйственная rolser plegamatic o...         1   6494.0   \n",
       "5087  сушилка для белья leifheit pegasus 200 deluxe ...         1   7004.0   \n",
       "5101  сумкатележка хозяйственная rolser pack gloria ...         1   6809.0   \n",
       "5176         гладильная доска colombo avantgard 120х40          1   6614.0   \n",
       "5992  сушилка уличная leifheit 85210 linomatic v 400...         1  14917.0   \n",
       "5994  сумкатележка хозяйственная rolser mnb017 fucsi...         1   7679.0   \n",
       "6003  сумкатележка хозяйственная andersen scala shop...         1   7199.0   \n",
       "6169   урна уличная стальная сальвадор 02.021.0 46х110          1   7349.0   \n",
       "6172  сумкатележка хозяйственная andersen treppenste...         1   6449.0   \n",
       "6578  сумкатележка хозяйственная rolser imx004 negro...         1   6075.0   \n",
       "6626  сумкатележка хозяйственная rolser mnb012 azul ...         1   6600.0   \n",
       "6629  стремянка 7 ступенчатая hailo 8040707 xxl 13  ...         1   7724.0   \n",
       "6686    урна уличная стальная юпитер 02.012.0 38х38х60          1   6899.0   \n",
       "6828  сумкатележка хозяйственная rolser imx004 negro...         1   6075.0   \n",
       "6829  сумкатележка хозяйственная rolser pack gloria ...         1   6558.0   \n",
       "6913  гладильная доска leifheit airboard compact m p...         1   7424.0   \n",
       "7148  сумкатележка хозяйственная rolser mnb012 azul ...         1   6600.0   \n",
       "7162  сиденье для гладильной доски leifheit niveau 7...         1   6149.0   \n",
       "7190  сумкатележка хозяйственная rolser imx006 bassi...         2   7679.0   \n",
       "7272  автоматическая щетка leifheit для мытья окон с...         1   7229.0   \n",
       "7436  сумкатележка хозяйственная rolser mnb019 rojo ...         1   8077.0   \n",
       "\n",
       "           date  \n",
       "634  2018-11-05  \n",
       "654  2018-11-06  \n",
       "655  2018-11-06  \n",
       "1121 2018-12-07  \n",
       "1241 2018-12-18  \n",
       "1420 2018-12-29  \n",
       "1693 2019-02-05  \n",
       "1981 2019-02-24  \n",
       "2339 2019-03-15  \n",
       "2691 2019-04-06  \n",
       "2697 2019-04-06  \n",
       "2751 2019-04-09  \n",
       "2976 2019-04-20  \n",
       "2997 2019-04-22  \n",
       "3796 2019-05-15  \n",
       "3887 2019-05-18  \n",
       "4054 2019-05-28  \n",
       "4903 2019-06-09  \n",
       "5087 2019-06-11  \n",
       "5101 2019-06-11  \n",
       "5176 2019-06-13  \n",
       "5992 2019-07-30  \n",
       "5994 2019-07-30  \n",
       "6003 2019-07-31  \n",
       "6169 2019-08-24  \n",
       "6172 2019-08-24  \n",
       "6578 2019-10-11  \n",
       "6626 2019-10-16  \n",
       "6629 2019-10-17  \n",
       "6686 2019-10-24  \n",
       "6828 2019-11-11  \n",
       "6829 2019-11-12  \n",
       "6913 2019-11-25  \n",
       "7148 2019-12-27  \n",
       "7162 2019-12-29  \n",
       "7190 2019-12-31  \n",
       "7272 2020-01-08  \n",
       "7436 2020-01-27  "
      ]
     },
     "execution_count": 25,
     "metadata": {},
     "output_type": "execute_result"
    }
   ],
   "source": [
    "df_red.query('price > 6000')"
   ]
  },
  {
   "cell_type": "markdown",
   "id": "5377fbdc",
   "metadata": {},
   "source": [
    "Данные похожи на реальные, в основном дорогие товары - это сумкатележка. Оставим данные в таком виде."
   ]
  },
  {
   "cell_type": "markdown",
   "id": "c8b67838",
   "metadata": {},
   "source": [
    "Большинство товаров стоят до 1000 рублей. Есть аномально высокие цены товаров, изучив подробнее информацию о данных товаров, пришли к выводу, что ошибок в данных нет.\n"
   ]
  },
  {
   "cell_type": "markdown",
   "id": "caf9f728",
   "metadata": {},
   "source": [
    "### Разделение продуктов на категории"
   ]
  },
  {
   "cell_type": "markdown",
   "id": "6d6f7dcb",
   "metadata": {},
   "source": [
    "Для начала посмотрим, сколько уникальных названий товаров присутствует в датасете."
   ]
  },
  {
   "cell_type": "code",
   "execution_count": 26,
   "id": "4584d944",
   "metadata": {},
   "outputs": [
    {
     "name": "stdout",
     "output_type": "stream",
     "text": [
      "Количество уникальных товаров 2176\n"
     ]
    }
   ],
   "source": [
    "print('Количество уникальных товаров', df_red['product'].nunique())"
   ]
  },
  {
   "cell_type": "markdown",
   "id": "102ee943",
   "metadata": {},
   "source": [
    "Создадим столбец `category_prod`, в котором мы будем названия продуктов менять на названия категорий."
   ]
  },
  {
   "cell_type": "code",
   "execution_count": 27,
   "id": "4e43766f",
   "metadata": {},
   "outputs": [
    {
     "name": "stderr",
     "output_type": "stream",
     "text": [
      "C:\\Users\\HP\\AppData\\Local\\Temp\\ipykernel_10400\\1181106238.py:1: SettingWithCopyWarning: \n",
      "A value is trying to be set on a copy of a slice from a DataFrame.\n",
      "Try using .loc[row_indexer,col_indexer] = value instead\n",
      "\n",
      "See the caveats in the documentation: https://pandas.pydata.org/pandas-docs/stable/user_guide/indexing.html#returning-a-view-versus-a-copy\n",
      "  df_red['category_prod'] = df_red['product']\n"
     ]
    }
   ],
   "source": [
    "df_red['category_prod'] = df_red['product']"
   ]
  },
  {
   "cell_type": "markdown",
   "id": "0ae328a7",
   "metadata": {},
   "source": [
    "А теперь пропишем функцию, которая будет по ключевому слову определять в указанную категорию."
   ]
  },
  {
   "cell_type": "code",
   "execution_count": 28,
   "id": "00e19baf",
   "metadata": {},
   "outputs": [],
   "source": [
    "def categories (name, category):\n",
    "    name=name\n",
    "    category = category\n",
    "    df_red.loc[df_red['product'].str.find(name) >= 0, 'category_prod'] = category"
   ]
  },
  {
   "cell_type": "markdown",
   "id": "44a28b78",
   "metadata": {},
   "source": [
    "Создвдим категории: `растение`, `для дома`, `приборка`, `посуда`, `тележка`, `рассада`,\n",
    "       `декор`, `текстиль`, `техника`, `химия`, `инструмент`, `семена`."
   ]
  },
  {
   "cell_type": "markdown",
   "id": "40e17d8a",
   "metadata": {},
   "source": [
    "**Категория - `растение`, сюда поместим все растения**"
   ]
  },
  {
   "cell_type": "code",
   "execution_count": 29,
   "id": "ff835c4e",
   "metadata": {},
   "outputs": [],
   "source": [
    "categories ('растение', 'растение')\n",
    "categories ('роза', 'растение')\n",
    "categories ('каллуна', 'растение')\n",
    "categories ('капсикум', 'растение')\n",
    "categories ('черенок', 'растение')\n",
    "categories ('пеларгония', 'растение')\n",
    "categories ('бакопа', 'растение')\n",
    "categories ('калибрахоа', 'растение')\n",
    "categories ('лобелия', 'растение')\n",
    "categories ('эвкалипт', 'растение')\n",
    "categories ('петуния', 'растение')\n",
    "categories ('циперус', 'растение')\n",
    "categories ('вербена', 'растение')\n",
    "categories ('вербейник', 'растение')\n",
    "categories ('дерево', 'растение')\n",
    "categories ('базилик', 'растение')\n",
    "categories ('в горшк', 'растение')\n",
    "categories ('хлорофитум', 'растение')\n",
    "categories ('сорт', 'растение')\n",
    "categories ('тимьян', 'растение')\n",
    "categories ('фуксия', 'растение')\n",
    "categories ('колокольчик', 'растение')\n",
    "categories ('гвоздика', 'растение')\n",
    "categories ('настурция', 'растение')\n",
    "categories ('клубника', 'растение')\n",
    "categories ('калла', 'растение')\n",
    "categories ('котовник', 'растение')\n",
    "categories ('ромашка', 'растение')\n",
    "categories ('суккулент', 'растение')\n",
    "categories ('алоэ', 'растение')\n",
    "categories ('адиантум', 'растение')\n",
    "categories ('гортензия', 'растение')\n",
    "categories ('хризантема', 'растение')\n",
    "categories ('примула', 'растение')\n",
    "categories ('укроп', 'растение')\n",
    "categories ('дыня', 'растение')\n",
    "categories ('арбуз', 'растение')\n",
    "categories ('капуст', 'растение')\n",
    "categories ('томат', 'растение')\n",
    "categories ('лук', 'растение')\n",
    "categories ('камнеломка', 'растение')\n",
    "categories ('ясколка', 'растение')\n",
    "categories ('фиалка', 'растение')\n",
    "categories ('кориандр', 'растение')\n",
    "categories ('сельдерей', 'растение')\n",
    "categories ('бархацы', 'растение')\n",
    "categories ('морковь', 'растение')\n",
    "categories ('огурец', 'растение')\n",
    "categories ('кампанула', 'растение')\n",
    "categories ('афеляндра', 'растение')\n",
    "categories ('седум', 'растение')\n",
    "categories ('меднил', 'растение')\n",
    "categories ('эхеверия', 'растение')\n",
    "categories ('лапчатка', 'растение')\n",
    "categories ('папоротник', 'растение')\n",
    "categories ('алис', 'растение')\n",
    "categories ('петрушка', 'растение')\n",
    "categories ('лен', 'растение')\n",
    "categories ('бегония', 'растение')\n",
    "categories ('цикламен', 'растение')\n",
    "categories ('коея', 'растение')\n",
    "categories ('пуансеттия', 'растение')\n",
    "categories ('незабудка', 'растение')\n",
    "categories ('d20', 'растение')\n",
    "categories ('d19', 'растение')\n",
    "categories ('d17', 'растение')\n",
    "categories ('d15', 'растение')\n",
    "categories ('d13', 'растение')\n",
    "categories ('d12', 'растение')\n",
    "categories ('d10', 'растение')\n",
    "categories ('d9', 'растение')\n",
    "categories ('d7', 'растение')\n",
    "categories ('d5', 'растение')\n"
   ]
  },
  {
   "cell_type": "markdown",
   "id": "12ff3df4",
   "metadata": {},
   "source": [
    "**Категория - `рассада`**"
   ]
  },
  {
   "cell_type": "code",
   "execution_count": 30,
   "id": "5fccdae5",
   "metadata": {},
   "outputs": [],
   "source": [
    "categories ('рассада', 'рассада')"
   ]
  },
  {
   "cell_type": "markdown",
   "id": "7e4aa253",
   "metadata": {},
   "source": [
    "**Категория - `семена`, у некоторых названий растений рядом стоит маленький вес, скорее всего это семена**"
   ]
  },
  {
   "cell_type": "code",
   "execution_count": 31,
   "id": "b5179460",
   "metadata": {},
   "outputs": [],
   "source": [
    "categories (' 01 г', 'семена')\n",
    "categories (' 02 г', 'семена')\n",
    "categories (' 03 г', 'семена')\n",
    "categories (' 04 г', 'семена')\n",
    "categories (' 05 г', 'семена')\n",
    "categories (' 06 г', 'семена')\n",
    "categories (' 07 г', 'семена')\n",
    "categories (' 001 г', 'семена')\n",
    "categories (' 002 г', 'семена')\n",
    "categories (' 003 г', 'семена')\n",
    "categories (' 004 г', 'семена')\n",
    "categories (' 005 г', 'семена')\n",
    "categories (' 006 г', 'семена')\n",
    "categories (' 007 г', 'семена')\n",
    "\n",
    "categories (' 1 г', 'семена')"
   ]
  },
  {
   "cell_type": "markdown",
   "id": "272977ec",
   "metadata": {},
   "source": [
    "**Категория - `тележка`, немаленькая категория, объединим их пока отдельно**"
   ]
  },
  {
   "cell_type": "code",
   "execution_count": 32,
   "id": "643acb05",
   "metadata": {},
   "outputs": [],
   "source": [
    "categories ('тележк', 'тележка')\n",
    "categories ('сумк', 'тележка')"
   ]
  },
  {
   "cell_type": "markdown",
   "id": "f231c670",
   "metadata": {},
   "source": [
    "**Категория - `декор`, элемнеты декора**"
   ]
  },
  {
   "cell_type": "code",
   "execution_count": 33,
   "id": "18d9ea96",
   "metadata": {},
   "outputs": [],
   "source": [
    "categories ('муляж', 'декор')\n",
    "categories ('искуствен', 'декор')\n",
    "categories ('искусствен', 'декор')\n",
    "categories ('фото', 'декор')\n",
    "categories ('картин', 'декор')\n",
    "categories ('кашпо', 'декор')"
   ]
  },
  {
   "cell_type": "markdown",
   "id": "78547af2",
   "metadata": {},
   "source": [
    "**Категория - `для дома`, товары для дома**"
   ]
  },
  {
   "cell_type": "code",
   "execution_count": 34,
   "id": "e0a8fc0a",
   "metadata": {},
   "outputs": [],
   "source": [
    "categories ('сушилка', 'для дома')\n",
    "categories ('доска', 'для дома')\n",
    "categories ('термометр', 'для дома')\n",
    "categories ('полки', 'для дома')\n",
    "categories ('стремянк', 'для дома')\n",
    "categories ('карниз', 'для дома')\n",
    "categories ('штор', 'для дома')\n",
    "categories ('сиденье', 'для дома')\n",
    "categories ('коврик', 'для дома')\n",
    "categories ('для ванной', 'для дома')\n",
    "categories ('для туалета', 'для дома')\n",
    "categories ('корзина', 'для дома')\n",
    "categories ('чехол', 'для дома')\n",
    "categories ('вешалка', 'для дома')\n",
    "categories ('подушка', 'для дома')\n",
    "categories ('короб', 'для дома')\n",
    "categories ('комод', 'для дома')\n",
    "categories ('ящик', 'для дома')\n",
    "categories ('ковер', 'для дома')\n",
    "categories ('ковёр', 'для дома')\n",
    "categories ('рукав', 'для дома')\n",
    "categories ('обув', 'для дома')\n",
    "categories ('плечики', 'для дома')\n",
    "categories ('вешал', 'для дома')\n",
    "categories ('сетка', 'для дома')\n",
    "categories ('пробка', 'для дома')\n",
    "categories ('держател', 'для дома')\n",
    "categories ('крючок', 'для дома')\n",
    "categories ('подголовн', 'для дома')\n",
    "categories ('петл', 'для дома')\n",
    "categories ('прищеп', 'для дома')\n",
    "categories ('гладильн', 'для дома')\n",
    "categories ('бак', 'для дома')\n",
    "categories ('мебельн', 'для дома')\n",
    "categories ('пуф', 'для дома')\n",
    "categories ('ванн', 'для дома')\n",
    "categories ('хранен', 'для дома')\n",
    "categories ('вентиляц', 'для дома')\n",
    "categories ('стяжка', 'для дома')\n",
    "categories ('кофр', 'для дома')"
   ]
  },
  {
   "cell_type": "markdown",
   "id": "a4b415b6",
   "metadata": {},
   "source": [
    "**Категория - `посуда`**"
   ]
  },
  {
   "cell_type": "code",
   "execution_count": 35,
   "id": "eb571370",
   "metadata": {},
   "outputs": [],
   "source": [
    "categories ('салатник', 'посуда')\n",
    "categories ('кувшин', 'посуда')\n",
    "categories ('тарелка', 'посуда')\n",
    "categories ('банка', 'посуда')\n",
    "categories ('блюдо', 'посуда')\n",
    "categories ('нож', 'посуда')\n",
    "categories ('ложка', 'посуда')\n",
    "categories ('вилка', 'посуда')\n",
    "categories ('сковород', 'посуда')\n",
    "categories ('кружк', 'посуда')\n",
    "categories ('чайник', 'посуда')\n",
    "categories ('овощеварка', 'посуда')\n",
    "categories ('толкушка', 'посуда')\n",
    "categories ('противень', 'посуда')\n",
    "categories ('посуд', 'посуда')\n",
    "categories ('кружек', 'посуда')\n",
    "categories ('кружек', 'посуда')\n",
    "categories ('миксер', 'посуда')\n",
    "categories ('фужер', 'посуда')\n",
    "categories ('масленка', 'посуда')\n",
    "categories ('рыбочистка', 'посуда')\n",
    "categories ('чайный', 'посуда')\n",
    "categories ('для продуктов', 'посуда')\n",
    "categories ('для овощей', 'посуда')\n",
    "categories ('лопатка', 'посуда')\n",
    "categories ('контейнер', 'посуда')\n",
    "categories ('терка', 'посуда')\n",
    "categories ('дозатор', 'посуда')\n",
    "categories ('кисточка', 'посуда')\n",
    "categories ('скребок', 'посуда')\n",
    "categories ('хлебница', 'посуда')\n",
    "categories ('котел', 'посуда')\n",
    "categories ('просеиватель', 'посуда')\n",
    "categories ('салфет', 'посуда')\n",
    "categories ('стакан', 'посуда')\n",
    "categories ('лоток', 'посуда')\n",
    "categories ('бокал', 'посуда')\n",
    "categories ('овоще', 'посуда')\n",
    "categories ('дуршлаг', 'посуда')\n",
    "categories ('термос', 'посуда')\n",
    "categories ('миска', 'посуда')\n",
    "categories ('сито', 'посуда')\n",
    "categories ('блюдце', 'посуда')\n",
    "categories ('прес', 'посуда')\n",
    "categories ('для кексов', 'посуда')\n",
    "categories ('картофелемялк', 'посуда')\n",
    "categories ('бульонниц', 'посуда')\n",
    "categories ('столовых', 'посуда')\n",
    "categories ('венчик', 'посуда')\n",
    "categories ('для выпечки', 'посуда')\n",
    "categories ('плит', 'посуда')\n",
    "categories ('мыльниц', 'посуда')\n",
    "categories ('варк', 'посуда')\n",
    "categories ('кастрюл', 'посуда')\n",
    "categories ('скалк', 'посуда')\n",
    "categories ('свч', 'посуда')\n",
    "categories ('штопор', 'посуда')\n",
    "categories ('орехоколк', 'посуда')\n",
    "categories ('сотейник', 'посуда')\n",
    "categories ('крышк', 'посуда')\n",
    "categories ('отделитель', 'посуда')\n",
    "categories ('кондитерск', 'посуда')\n",
    "categories ('соковыжималк', 'посуда')\n",
    "categories ('подставк', 'посуда')\n",
    "categories ('пакет', 'посуда')\n",
    "categories ('сахарница', 'посуда')\n",
    "categories ('бидон', 'посуда')\n",
    "categories ('торт', 'посуда')\n"
   ]
  },
  {
   "cell_type": "markdown",
   "id": "6976a9a6",
   "metadata": {},
   "source": [
    "**Категория - `приборка`, необходимое для приборки**"
   ]
  },
  {
   "cell_type": "code",
   "execution_count": 36,
   "id": "9840b85b",
   "metadata": {},
   "outputs": [],
   "source": [
    "categories ('таз', 'приборка')\n",
    "categories ('корыт', 'приборка')\n",
    "categories ('окномойк', 'приборка')\n",
    "categories ('щетк', 'приборка')\n",
    "categories ('урн', 'приборка')\n",
    "categories ('для мусора', 'приборка')\n",
    "categories ('перчатки', 'приборка')\n",
    "categories ('швабр', 'приборка')\n",
    "categories ('тряпк', 'приборка')\n",
    "categories ('губк', 'приборка')\n",
    "categories ('чистк', 'приборка')\n",
    "categories ('ролик', 'приборка')\n",
    "categories ('ведр', 'приборка')\n",
    "categories ('вантуз', 'приборка')\n",
    "categories ('ёрш', 'приборка')\n",
    "categories ('ерш', 'приборка')\n",
    "categories ('веник', 'приборка')\n",
    "categories ('для мытья', 'приборка')\n",
    "categories ('ковш', 'приборка')\n",
    "categories ('совок', 'приборка')\n",
    "categories ('насадк', 'приборка')"
   ]
  },
  {
   "cell_type": "markdown",
   "id": "f5a39c7c",
   "metadata": {},
   "source": [
    "**Категория - `химия`, бытовая химия**"
   ]
  },
  {
   "cell_type": "code",
   "execution_count": 37,
   "id": "b0873930",
   "metadata": {},
   "outputs": [],
   "source": [
    "categories ('крем', 'химия')\n",
    "categories ('мыло', 'химия')\n",
    "categories ('паста', 'химия')\n",
    "categories ('бензин', 'химия')\n",
    "categories ('пена', 'химия')\n",
    "categories ('средство', 'химия')\n",
    "categories ('порошок', 'химия')\n",
    "categories ('антижир', 'химия')\n",
    "categories ('маска', 'химия')\n",
    "categories ('кондиционер', 'химия')\n",
    "categories ('гель', 'химия')\n"
   ]
  },
  {
   "cell_type": "markdown",
   "id": "95b80c00",
   "metadata": {},
   "source": [
    "**Категория - `текстиль`**"
   ]
  },
  {
   "cell_type": "code",
   "execution_count": 38,
   "id": "0d2a2618",
   "metadata": {},
   "outputs": [],
   "source": [
    "categories ('простын', 'текстиль')\n",
    "categories ('ковер', 'текстиль')\n",
    "categories ('плед', 'текстиль')\n",
    "categories ('скатерт', 'текстиль')\n",
    "categories ('наматрасн', 'текстиль')\n",
    "categories ('халат', 'текстиль')\n",
    "categories ('полотен', 'текстиль')\n",
    "categories ('покрывал', 'текстиль')\n",
    "categories ('одеял', 'текстиль')\n",
    "categories ('одеял', 'текстиль')\n",
    "categories ('наволочк', 'текстиль')\n",
    "categories ('белье', 'текстиль')\n",
    "categories ('мешок', 'текстиль')\n"
   ]
  },
  {
   "cell_type": "markdown",
   "id": "55ec8b2c",
   "metadata": {},
   "source": [
    "**Категория - `техника`**"
   ]
  },
  {
   "cell_type": "code",
   "execution_count": 39,
   "id": "d3e1961d",
   "metadata": {},
   "outputs": [],
   "source": [
    "categories ('светильник', 'техника')\n",
    "categories ('чайник', 'техника')\n",
    "categories ('утюг', 'техника')\n",
    "categories ('пылесос', 'техника')\n",
    "categories ('фен', 'техника')\n",
    "categories ('весы', 'техника')\n",
    "categories ('электрическ', 'техника')\n",
    "categories ('зажигалк', 'техника')"
   ]
  },
  {
   "cell_type": "markdown",
   "id": "cb7390fb",
   "metadata": {},
   "source": [
    "**Категория - `инструмент`**"
   ]
  },
  {
   "cell_type": "code",
   "execution_count": 40,
   "id": "abba0620",
   "metadata": {},
   "outputs": [],
   "source": [
    "categories ('сварк', 'инструмент')\n",
    "categories ('шило', 'инструмент')\n",
    "categories ('свер', 'инструмент')\n",
    "categories ('инструмент', 'инструмент')\n",
    "categories ('напильн', 'инструмент')\n",
    "categories ('линейк', 'инструмент')\n",
    "categories ('измерительн', 'инструмент')\n",
    "categories ('скоб', 'инструмент')\n",
    "categories ('циркул', 'инструмент')\n",
    "categories ('шнур', 'инструмент')\n"
   ]
  },
  {
   "cell_type": "markdown",
   "id": "f7660efb",
   "metadata": {},
   "source": [
    "Посмотрим, какие товары остались не распределенными."
   ]
  },
  {
   "cell_type": "code",
   "execution_count": 41,
   "id": "ae0cde97",
   "metadata": {},
   "outputs": [
    {
     "name": "stdout",
     "output_type": "stream",
     "text": [
      "Количество уникальных наименований 55\n"
     ]
    },
    {
     "data": {
      "text/plain": [
       "array(['растение', 'для дома', 'приборка', 'тележка', 'рассада', 'декор',\n",
       "       'посуда', 'текстиль', 'техника', 'химия', 'инструмент', 'семена',\n",
       "       'ель канадская коника ртк 303 горшок 9 л нидерланды',\n",
       "       'кипарисовик лавсона элвуди ртк 106 горшок 9 л нидерланды',\n",
       "       'антуриум тропик найт нидерланды 1 штука в упаковке',\n",
       "       'фал капроновый 6 мм в бухте 300м т1 1201050',\n",
       "       'гипсофила аврора 80  израиль 25 штук в упаковке',\n",
       "       'дендробиум фиолетовый россия 10 штук в упаковке',\n",
       "       'аквилегия обыкновенная барлоу микс объем 1 л',\n",
       "       'горох амброзия 100 г 4660010772616',\n",
       "       'дендробиум яблоневый россия 10 штук в упаковке',\n",
       "       'овсянница сизая серый объем 1 л',\n",
       "       'георгина черная красавица 5 шт 4650091480579',\n",
       "       'цинния ацтек бургунди биколор 10 шт 4650091480739',\n",
       "       'виола рогатая сиреневый объем 05 л',\n",
       "       'лилейник высокорослый есь окрасок объем 1 л',\n",
       "       'платикодон махровый синий объем 05 л',\n",
       "       'энотера миссурийская золотая желтый объем 1 л',\n",
       "       'цитрофортунелла кумкват штамбовая d21  h75 ',\n",
       "       'пиретрум робинсон красный объем 1 л',\n",
       "       'кореопсис золотой маяк желтый объем 1 л',\n",
       "       'вероника колосковая микс объем 1 л', 'хоста микс объем 075 л',\n",
       "       'гайлардия крупноцветковая желтокрасный объем 075 л',\n",
       "       'монарда гибридная бергамо красный объем 1 л',\n",
       "       'рудбекия тайгер голд золотой объем 075 л',\n",
       "       'осина обыкновенная высота 2550 ',\n",
       "       'осина обыкновенная высота 50100 ',\n",
       "       'аквилегия махровая тауэр есь окрасок объем 1 л',\n",
       "       'астра альпийская микс объем 1 л',\n",
       "       'девичий виноград пятилисточковый p9 h20  крым',\n",
       "       'солидаго желтый объем 1 л',\n",
       "       'физостегия вергинская белый объем 05 л',\n",
       "       'бадан сердцелистный красная звезда красный объем 1 л',\n",
       "       'анемона белый объем 05 л',\n",
       "       'валериана лекарственная кардиола в кассете 4 штуки',\n",
       "       'змееголовник молдавский горыныч в кассете 4 штуки среднеспелый',\n",
       "       'любисток удалец в кассете 6 штук',\n",
       "       'цинерария серебряная в кассете 10 штук',\n",
       "       'шалфей овощной нектар в кассете 4 штуки',\n",
       "       'спатифиллум свит лауретта d21  h95 ',\n",
       "       'отбеливатель пероксоль лилиям 100 гр россия 4670008040078',\n",
       "       'тюльпан louvre (лувр) бахромчатый 25 шт',\n",
       "       'флокс растопыренный голубой объем 05 л',\n",
       "       'ранункулус клуни ханои 45  нидерланды 10 штук в упаковке'],\n",
       "      dtype=object)"
      ]
     },
     "execution_count": 41,
     "metadata": {},
     "output_type": "execute_result"
    }
   ],
   "source": [
    "print('Количество уникальных наименований',df_red['category_prod'].nunique())\n",
    "df_red['category_prod'].unique()"
   ]
  },
  {
   "cell_type": "markdown",
   "id": "14905a88",
   "metadata": {},
   "source": [
    "Видим, что остались только названия растений.  \n",
    "Определим продукты, длина строк которых до 15, в раздел \"растение\"."
   ]
  },
  {
   "cell_type": "code",
   "execution_count": 42,
   "id": "0f169cb0",
   "metadata": {},
   "outputs": [
    {
     "name": "stderr",
     "output_type": "stream",
     "text": [
      "C:\\Users\\HP\\AppData\\Local\\Temp\\ipykernel_10400\\4014592314.py:1: SettingWithCopyWarning: \n",
      "A value is trying to be set on a copy of a slice from a DataFrame.\n",
      "Try using .loc[row_indexer,col_indexer] = value instead\n",
      "\n",
      "See the caveats in the documentation: https://pandas.pydata.org/pandas-docs/stable/user_guide/indexing.html#returning-a-view-versus-a-copy\n",
      "  df_red['category_prod'] = df_red['category_prod'] \\\n"
     ]
    }
   ],
   "source": [
    "df_red['category_prod'] = df_red['category_prod'] \\\n",
    "                          .apply(lambda x : 'растение' if len(str(x)) > 15 else x)"
   ]
  },
  {
   "cell_type": "markdown",
   "id": "c9841a33",
   "metadata": {},
   "source": [
    "Проверим и заодно посмотрим количество срок в каждой категории."
   ]
  },
  {
   "cell_type": "code",
   "execution_count": 43,
   "id": "d3ac25b4",
   "metadata": {
    "scrolled": true
   },
   "outputs": [
    {
     "data": {
      "text/plain": [
       "растение      1891\n",
       "для дома      1119\n",
       "рассада        617\n",
       "посуда         417\n",
       "тележка        369\n",
       "декор          285\n",
       "приборка       241\n",
       "текстиль        96\n",
       "химия           56\n",
       "семена          49\n",
       "техника         48\n",
       "инструмент      22\n",
       "Name: category_prod, dtype: int64"
      ]
     },
     "execution_count": 43,
     "metadata": {},
     "output_type": "execute_result"
    }
   ],
   "source": [
    "df_red['category_prod'].value_counts()"
   ]
  },
  {
   "cell_type": "markdown",
   "id": "126f78cd",
   "metadata": {},
   "source": [
    "Чтобы товары на категории разделить верно, оставим категории `растения` и `для дома`."
   ]
  },
  {
   "cell_type": "code",
   "execution_count": 44,
   "id": "ea751fbc",
   "metadata": {},
   "outputs": [],
   "source": [
    "df_red.loc[df_red['category_prod'] == 'семена', 'category_prod'] = 'растения'\n",
    "df_red.loc[df_red['category_prod'] == 'рассада', 'category_prod'] = 'растения'\n",
    "df_red.loc[df_red['category_prod'] == 'растение', 'category_prod'] = 'растения'\n",
    "\n",
    "df_red.loc[df_red['category_prod'] == 'техника', 'category_prod'] = 'для дома'\n",
    "df_red.loc[df_red['category_prod'] == 'текстиль', 'category_prod'] = 'для дома'\n",
    "df_red.loc[df_red['category_prod'] == 'декор', 'category_prod'] = 'для дома'\n",
    "df_red.loc[df_red['category_prod'] == 'посуда', 'category_prod'] = 'для дома'\n",
    "df_red.loc[df_red['category_prod'] == 'приборка', 'category_prod'] = 'для дома'\n",
    "df_red.loc[df_red['category_prod'] == 'химия', 'category_prod'] = 'для дома'\n",
    "df_red.loc[df_red['category_prod'] == 'тележка', 'category_prod'] = 'для дома'\n",
    "df_red.loc[df_red['category_prod'] == 'инструмент', 'category_prod'] = 'для дома'"
   ]
  },
  {
   "cell_type": "markdown",
   "id": "8ddfd944",
   "metadata": {},
   "source": [
    "Посмотрим, что получилось."
   ]
  },
  {
   "cell_type": "code",
   "execution_count": 45,
   "id": "ce9e064c",
   "metadata": {},
   "outputs": [
    {
     "data": {
      "text/plain": [
       "для дома    2653\n",
       "растения    2557\n",
       "Name: category_prod, dtype: int64"
      ]
     },
     "execution_count": 45,
     "metadata": {},
     "output_type": "execute_result"
    }
   ],
   "source": [
    "df_red['category_prod'].value_counts()"
   ]
  },
  {
   "cell_type": "markdown",
   "id": "e2587857",
   "metadata": {},
   "source": [
    "Отлично. Получилось 2 примерно одинаковые категории - `растения` и `для дома`. Для избежания ошибок при делении на категории оставим категории таким образом."
   ]
  },
  {
   "cell_type": "markdown",
   "id": "be45fb1d",
   "metadata": {},
   "source": [
    "### Анализ категорий"
   ]
  },
  {
   "cell_type": "markdown",
   "id": "545e7252",
   "metadata": {},
   "source": [
    "Создадим новый столбец с общей суммой товара `all_price`."
   ]
  },
  {
   "cell_type": "code",
   "execution_count": 46,
   "id": "01c36607",
   "metadata": {},
   "outputs": [
    {
     "name": "stderr",
     "output_type": "stream",
     "text": [
      "C:\\Users\\HP\\AppData\\Local\\Temp\\ipykernel_10400\\2345014464.py:1: SettingWithCopyWarning: \n",
      "A value is trying to be set on a copy of a slice from a DataFrame.\n",
      "Try using .loc[row_indexer,col_indexer] = value instead\n",
      "\n",
      "See the caveats in the documentation: https://pandas.pydata.org/pandas-docs/stable/user_guide/indexing.html#returning-a-view-versus-a-copy\n",
      "  df_red['all_price'] = df_red['price'] * df_red['quantity']\n"
     ]
    }
   ],
   "source": [
    "df_red['all_price'] = df_red['price'] * df_red['quantity']"
   ]
  },
  {
   "cell_type": "markdown",
   "id": "7698a2a1",
   "metadata": {},
   "source": [
    "Изучим, какое количество товаров было куплено в каждой категории и итоговую выручку за каждую категорию."
   ]
  },
  {
   "cell_type": "code",
   "execution_count": 47,
   "id": "53b71b43",
   "metadata": {},
   "outputs": [
    {
     "data": {
      "text/html": [
       "<div>\n",
       "<style scoped>\n",
       "    .dataframe tbody tr th:only-of-type {\n",
       "        vertical-align: middle;\n",
       "    }\n",
       "\n",
       "    .dataframe tbody tr th {\n",
       "        vertical-align: top;\n",
       "    }\n",
       "\n",
       "    .dataframe thead th {\n",
       "        text-align: right;\n",
       "    }\n",
       "</style>\n",
       "<table border=\"1\" class=\"dataframe\">\n",
       "  <thead>\n",
       "    <tr style=\"text-align: right;\">\n",
       "      <th></th>\n",
       "      <th>quantity</th>\n",
       "      <th>all_price</th>\n",
       "    </tr>\n",
       "    <tr>\n",
       "      <th>category_prod</th>\n",
       "      <th></th>\n",
       "      <th></th>\n",
       "    </tr>\n",
       "  </thead>\n",
       "  <tbody>\n",
       "    <tr>\n",
       "      <th>для дома</th>\n",
       "      <td>4077</td>\n",
       "      <td>2.849832e+06</td>\n",
       "    </tr>\n",
       "    <tr>\n",
       "      <th>растения</th>\n",
       "      <td>3529</td>\n",
       "      <td>4.905508e+05</td>\n",
       "    </tr>\n",
       "  </tbody>\n",
       "</table>\n",
       "</div>"
      ],
      "text/plain": [
       "               quantity     all_price\n",
       "category_prod                        \n",
       "для дома           4077  2.849832e+06\n",
       "растения           3529  4.905508e+05"
      ]
     },
     "execution_count": 47,
     "metadata": {},
     "output_type": "execute_result"
    }
   ],
   "source": [
    "category = df_red.groupby('category_prod') \\\n",
    "                 .agg({'quantity':'sum', 'all_price':'sum'})\n",
    "category"
   ]
  },
  {
   "cell_type": "code",
   "execution_count": 48,
   "id": "084b77fc",
   "metadata": {},
   "outputs": [
    {
     "data": {
      "image/png": "[encoded data removed]",
      "text/plain": [
       "<Figure size 1000x600 with 1 Axes>"
      ]
     },
     "metadata": {},
     "output_type": "display_data"
    },
    {
     "data": {
      "image/png": "[encoded data removed]",
      "text/plain": [
       "<Figure size 1000x600 with 1 Axes>"
      ]
     },
     "metadata": {},
     "output_type": "display_data"
    }
   ],
   "source": [
    "plt.figure(figsize=(10, 6))\n",
    "plt.pie(category['quantity'], \n",
    "        autopct='%.1f%%', \n",
    "        labels=category.index,\n",
    "        colors=('lightgreen','#3BB143'))\n",
    "plt.title('Распределение кол-ва проданных товаров по категориям')\n",
    "plt.show()\n",
    "\n",
    "plt.figure(figsize=(10, 6))\n",
    "plt.pie(category['all_price'], \n",
    "        autopct='%.1f%%', \n",
    "        labels=category.index,\n",
    "        colors=('lightgreen','#3BB143')\n",
    "       )\n",
    "plt.title('Распределение выручки по категориям')\n",
    "plt.show()"
   ]
  },
  {
   "cell_type": "markdown",
   "id": "da836b73",
   "metadata": {},
   "source": [
    "Количество товаров в категории \"растения\" продано на 7,2% меньше, и выручка значительно выше от продаж в категории \"для дома\"(85,3% от общего числа).  \n",
    "В категории товаров \"для дома\" более догоростоящие товары."
   ]
  },
  {
   "cell_type": "markdown",
   "id": "e3cea238",
   "metadata": {},
   "source": [
    "### Количество товаров в чеке."
   ]
  },
  {
   "cell_type": "markdown",
   "id": "d9ed45ed",
   "metadata": {},
   "source": [
    "Сгруппируем данные по номеру заказа."
   ]
  },
  {
   "cell_type": "code",
   "execution_count": 49,
   "id": "8ce7a6b1",
   "metadata": {},
   "outputs": [
    {
     "data": {
      "text/html": [
       "<div>\n",
       "<style scoped>\n",
       "    .dataframe tbody tr th:only-of-type {\n",
       "        vertical-align: middle;\n",
       "    }\n",
       "\n",
       "    .dataframe tbody tr th {\n",
       "        vertical-align: top;\n",
       "    }\n",
       "\n",
       "    .dataframe thead th {\n",
       "        text-align: right;\n",
       "    }\n",
       "</style>\n",
       "<table border=\"1\" class=\"dataframe\">\n",
       "  <thead>\n",
       "    <tr style=\"text-align: right;\">\n",
       "      <th></th>\n",
       "      <th>date</th>\n",
       "      <th>customer_id</th>\n",
       "      <th>quantity</th>\n",
       "      <th>all_price</th>\n",
       "    </tr>\n",
       "    <tr>\n",
       "      <th>order_id</th>\n",
       "      <th></th>\n",
       "      <th></th>\n",
       "      <th></th>\n",
       "      <th></th>\n",
       "    </tr>\n",
       "  </thead>\n",
       "  <tbody>\n",
       "    <tr>\n",
       "      <th>12624</th>\n",
       "      <td>2019-06-03</td>\n",
       "      <td>d17861fa-db5f-4de4-93fd-dc5e60d24d3e</td>\n",
       "      <td>2</td>\n",
       "      <td>375.0</td>\n",
       "    </tr>\n",
       "    <tr>\n",
       "      <th>14480</th>\n",
       "      <td>2018-10-02</td>\n",
       "      <td>f08d9018-438e-4e96-b519-f74c0302a433</td>\n",
       "      <td>3</td>\n",
       "      <td>359.0</td>\n",
       "    </tr>\n",
       "    <tr>\n",
       "      <th>14481</th>\n",
       "      <td>2018-10-03</td>\n",
       "      <td>49b9c587-c19e-4481-bace-967aeac357fa</td>\n",
       "      <td>4</td>\n",
       "      <td>600.0</td>\n",
       "    </tr>\n",
       "    <tr>\n",
       "      <th>14482</th>\n",
       "      <td>2018-10-08</td>\n",
       "      <td>43993fd2-20c9-44f7-8634-cf0aee26df4f</td>\n",
       "      <td>2</td>\n",
       "      <td>376.0</td>\n",
       "    </tr>\n",
       "    <tr>\n",
       "      <th>14485</th>\n",
       "      <td>2018-10-11</td>\n",
       "      <td>f2c89d9e-9cec-45c8-85ed-883cb1170e47</td>\n",
       "      <td>4</td>\n",
       "      <td>676.0</td>\n",
       "    </tr>\n",
       "    <tr>\n",
       "      <th>...</th>\n",
       "      <td>...</td>\n",
       "      <td>...</td>\n",
       "      <td>...</td>\n",
       "      <td>...</td>\n",
       "    </tr>\n",
       "    <tr>\n",
       "      <th>112722</th>\n",
       "      <td>2019-12-12</td>\n",
       "      <td>a479e857-7300-43d4-833c-55dc5bb65c83</td>\n",
       "      <td>1</td>\n",
       "      <td>450.0</td>\n",
       "    </tr>\n",
       "    <tr>\n",
       "      <th>112732</th>\n",
       "      <td>2019-11-20</td>\n",
       "      <td>db5c1840-bdb7-4f2f-8239-2ab779fd9706</td>\n",
       "      <td>1</td>\n",
       "      <td>90.0</td>\n",
       "    </tr>\n",
       "    <tr>\n",
       "      <th>112767</th>\n",
       "      <td>2019-12-24</td>\n",
       "      <td>493d53bf-ff1f-4487-a6e7-b1bedddb73fd</td>\n",
       "      <td>1</td>\n",
       "      <td>38.0</td>\n",
       "    </tr>\n",
       "    <tr>\n",
       "      <th>112779</th>\n",
       "      <td>2020-01-12</td>\n",
       "      <td>66c57efd-4dd1-49c9-b921-987ab6e161fa</td>\n",
       "      <td>1</td>\n",
       "      <td>172.0</td>\n",
       "    </tr>\n",
       "    <tr>\n",
       "      <th>112789</th>\n",
       "      <td>2019-12-27</td>\n",
       "      <td>65ed0726-5565-4c0e-905c-f9e9bd9f7642</td>\n",
       "      <td>2</td>\n",
       "      <td>2698.0</td>\n",
       "    </tr>\n",
       "  </tbody>\n",
       "</table>\n",
       "<p>3212 rows × 4 columns</p>\n",
       "</div>"
      ],
      "text/plain": [
       "               date                           customer_id  quantity  all_price\n",
       "order_id                                                                      \n",
       "12624    2019-06-03  d17861fa-db5f-4de4-93fd-dc5e60d24d3e         2      375.0\n",
       "14480    2018-10-02  f08d9018-438e-4e96-b519-f74c0302a433         3      359.0\n",
       "14481    2018-10-03  49b9c587-c19e-4481-bace-967aeac357fa         4      600.0\n",
       "14482    2018-10-08  43993fd2-20c9-44f7-8634-cf0aee26df4f         2      376.0\n",
       "14485    2018-10-11  f2c89d9e-9cec-45c8-85ed-883cb1170e47         4      676.0\n",
       "...             ...                                   ...       ...        ...\n",
       "112722   2019-12-12  a479e857-7300-43d4-833c-55dc5bb65c83         1      450.0\n",
       "112732   2019-11-20  db5c1840-bdb7-4f2f-8239-2ab779fd9706         1       90.0\n",
       "112767   2019-12-24  493d53bf-ff1f-4487-a6e7-b1bedddb73fd         1       38.0\n",
       "112779   2020-01-12  66c57efd-4dd1-49c9-b921-987ab6e161fa         1      172.0\n",
       "112789   2019-12-27  65ed0726-5565-4c0e-905c-f9e9bd9f7642         2     2698.0\n",
       "\n",
       "[3212 rows x 4 columns]"
      ]
     },
     "execution_count": 49,
     "metadata": {},
     "output_type": "execute_result"
    }
   ],
   "source": [
    "df_order = df_red.groupby('order_id').agg({'date':'first',\n",
    "                               'customer_id':'first', \n",
    "                               'quantity':'sum',\n",
    "                               'all_price':'sum'}) \n",
    "df_order"
   ]
  },
  {
   "cell_type": "markdown",
   "id": "39b42dd6",
   "metadata": {},
   "source": [
    "Проанализируем, сколько обычно позиций в чеке."
   ]
  },
  {
   "cell_type": "code",
   "execution_count": 50,
   "id": "a241b54a",
   "metadata": {},
   "outputs": [
    {
     "data": {
      "image/png": "[encoded data removed]",
      "text/plain": [
       "<Figure size 1000x600 with 1 Axes>"
      ]
     },
     "metadata": {},
     "output_type": "display_data"
    }
   ],
   "source": [
    "plt.figure(figsize=(10, 6))\n",
    "sns.histplot(df_order, x='quantity', bins=30)\n",
    "plt.ylabel('Количество заказов')\n",
    "plt.xlabel('Количество товаров в чеке')\n",
    "plt.title('Количество товаров в чеке', fontsize = 14, pad=15)\n",
    "plt.show()"
   ]
  },
  {
   "cell_type": "markdown",
   "id": "3d93739c",
   "metadata": {},
   "source": [
    "Мы видим аномально высокие значения товаров в чеке. Уберем из датафрейма строки, где количество товарво в чеке больше 30.  \n",
    "И еще раз посмотрим на график."
   ]
  },
  {
   "cell_type": "code",
   "execution_count": 51,
   "id": "efa29dfc",
   "metadata": {},
   "outputs": [
    {
     "data": {
      "image/png": "[encoded data removed]",
      "text/plain": [
       "<Figure size 1000x600 with 1 Axes>"
      ]
     },
     "metadata": {},
     "output_type": "display_data"
    }
   ],
   "source": [
    "df_order = df_order.query('quantity < 30')\n",
    "\n",
    "plt.figure(figsize=(10, 6))\n",
    "sns.histplot(df_order, x='quantity', bins=30)\n",
    "plt.ylabel('Количество заказов')\n",
    "plt.xlabel('Количество товаров в чеке')\n",
    "plt.title('Количество товаров в чеке', fontsize = 14, pad=15)\n",
    "plt.show()"
   ]
  },
  {
   "cell_type": "markdown",
   "id": "e7503e60",
   "metadata": {},
   "source": [
    "Чаще всего в чеке 1 товар."
   ]
  },
  {
   "cell_type": "markdown",
   "id": "75cb32b0",
   "metadata": {},
   "source": [
    "### Динамика среднего чека"
   ]
  },
  {
   "cell_type": "markdown",
   "id": "1f7ab18f",
   "metadata": {},
   "source": [
    "Посмотрим динамику среднего чека по месяцам."
   ]
  },
  {
   "cell_type": "markdown",
   "id": "63be8906",
   "metadata": {},
   "source": [
    "Добавим в таблицу df_order столбец с округлением по месяцу заказа и сгруппируем данные по месяцам, и сгруппируем по месяцам."
   ]
  },
  {
   "cell_type": "code",
   "execution_count": 52,
   "id": "30f3fd74",
   "metadata": {},
   "outputs": [
    {
     "name": "stderr",
     "output_type": "stream",
     "text": [
      "C:\\Users\\HP\\AppData\\Local\\Temp\\ipykernel_10400\\417685239.py:1: SettingWithCopyWarning: \n",
      "A value is trying to be set on a copy of a slice from a DataFrame.\n",
      "Try using .loc[row_indexer,col_indexer] = value instead\n",
      "\n",
      "See the caveats in the documentation: https://pandas.pydata.org/pandas-docs/stable/user_guide/indexing.html#returning-a-view-versus-a-copy\n",
      "  df_order['month'] = df_order['date'].astype(\"datetime64[M]\")\n"
     ]
    }
   ],
   "source": [
    "df_order['month'] = df_order['date'].astype(\"datetime64[M]\")"
   ]
  },
  {
   "cell_type": "markdown",
   "id": "e3451e0b",
   "metadata": {},
   "source": [
    "Сгруппируем данные по месяцам, чтобы можно было определить средний чек по каждому месяцу."
   ]
  },
  {
   "cell_type": "code",
   "execution_count": 53,
   "id": "e1cef722",
   "metadata": {
    "scrolled": true
   },
   "outputs": [
    {
     "data": {
      "text/html": [
       "<div>\n",
       "<style scoped>\n",
       "    .dataframe tbody tr th:only-of-type {\n",
       "        vertical-align: middle;\n",
       "    }\n",
       "\n",
       "    .dataframe tbody tr th {\n",
       "        vertical-align: top;\n",
       "    }\n",
       "\n",
       "    .dataframe thead th {\n",
       "        text-align: right;\n",
       "    }\n",
       "</style>\n",
       "<table border=\"1\" class=\"dataframe\">\n",
       "  <thead>\n",
       "    <tr style=\"text-align: right;\">\n",
       "      <th></th>\n",
       "      <th>month</th>\n",
       "      <th>order_id</th>\n",
       "      <th>all_price</th>\n",
       "      <th>avg_check</th>\n",
       "    </tr>\n",
       "  </thead>\n",
       "  <tbody>\n",
       "    <tr>\n",
       "      <th>0</th>\n",
       "      <td>2018-10-01</td>\n",
       "      <td>212</td>\n",
       "      <td>269156.000000</td>\n",
       "      <td>1269.60</td>\n",
       "    </tr>\n",
       "    <tr>\n",
       "      <th>1</th>\n",
       "      <td>2018-11-01</td>\n",
       "      <td>186</td>\n",
       "      <td>276470.000000</td>\n",
       "      <td>1486.40</td>\n",
       "    </tr>\n",
       "    <tr>\n",
       "      <th>2</th>\n",
       "      <td>2018-12-01</td>\n",
       "      <td>249</td>\n",
       "      <td>276246.000000</td>\n",
       "      <td>1109.42</td>\n",
       "    </tr>\n",
       "    <tr>\n",
       "      <th>3</th>\n",
       "      <td>2019-01-01</td>\n",
       "      <td>139</td>\n",
       "      <td>141667.000000</td>\n",
       "      <td>1019.19</td>\n",
       "    </tr>\n",
       "    <tr>\n",
       "      <th>4</th>\n",
       "      <td>2019-02-01</td>\n",
       "      <td>249</td>\n",
       "      <td>239715.000000</td>\n",
       "      <td>962.71</td>\n",
       "    </tr>\n",
       "    <tr>\n",
       "      <th>5</th>\n",
       "      <td>2019-03-01</td>\n",
       "      <td>210</td>\n",
       "      <td>220286.000000</td>\n",
       "      <td>1048.98</td>\n",
       "    </tr>\n",
       "    <tr>\n",
       "      <th>6</th>\n",
       "      <td>2019-04-01</td>\n",
       "      <td>223</td>\n",
       "      <td>240006.000000</td>\n",
       "      <td>1076.26</td>\n",
       "    </tr>\n",
       "    <tr>\n",
       "      <th>7</th>\n",
       "      <td>2019-05-01</td>\n",
       "      <td>159</td>\n",
       "      <td>180721.000000</td>\n",
       "      <td>1136.61</td>\n",
       "    </tr>\n",
       "    <tr>\n",
       "      <th>8</th>\n",
       "      <td>2019-06-01</td>\n",
       "      <td>142</td>\n",
       "      <td>175360.000000</td>\n",
       "      <td>1234.93</td>\n",
       "    </tr>\n",
       "    <tr>\n",
       "      <th>9</th>\n",
       "      <td>2019-07-01</td>\n",
       "      <td>183</td>\n",
       "      <td>228133.000000</td>\n",
       "      <td>1246.63</td>\n",
       "    </tr>\n",
       "    <tr>\n",
       "      <th>10</th>\n",
       "      <td>2019-08-01</td>\n",
       "      <td>164</td>\n",
       "      <td>187434.000000</td>\n",
       "      <td>1142.89</td>\n",
       "    </tr>\n",
       "    <tr>\n",
       "      <th>11</th>\n",
       "      <td>2019-09-01</td>\n",
       "      <td>167</td>\n",
       "      <td>169135.000000</td>\n",
       "      <td>1012.78</td>\n",
       "    </tr>\n",
       "    <tr>\n",
       "      <th>12</th>\n",
       "      <td>2019-10-01</td>\n",
       "      <td>175</td>\n",
       "      <td>180179.000000</td>\n",
       "      <td>1029.59</td>\n",
       "    </tr>\n",
       "    <tr>\n",
       "      <th>13</th>\n",
       "      <td>2019-11-01</td>\n",
       "      <td>220</td>\n",
       "      <td>124457.750000</td>\n",
       "      <td>565.72</td>\n",
       "    </tr>\n",
       "    <tr>\n",
       "      <th>14</th>\n",
       "      <td>2019-12-01</td>\n",
       "      <td>243</td>\n",
       "      <td>202839.333333</td>\n",
       "      <td>834.73</td>\n",
       "    </tr>\n",
       "    <tr>\n",
       "      <th>15</th>\n",
       "      <td>2020-01-01</td>\n",
       "      <td>275</td>\n",
       "      <td>179817.333333</td>\n",
       "      <td>653.88</td>\n",
       "    </tr>\n",
       "    <tr>\n",
       "      <th>16</th>\n",
       "      <td>2020-02-01</td>\n",
       "      <td>1</td>\n",
       "      <td>104.000000</td>\n",
       "      <td>104.00</td>\n",
       "    </tr>\n",
       "  </tbody>\n",
       "</table>\n",
       "</div>"
      ],
      "text/plain": [
       "        month  order_id      all_price  avg_check\n",
       "0  2018-10-01       212  269156.000000    1269.60\n",
       "1  2018-11-01       186  276470.000000    1486.40\n",
       "2  2018-12-01       249  276246.000000    1109.42\n",
       "3  2019-01-01       139  141667.000000    1019.19\n",
       "4  2019-02-01       249  239715.000000     962.71\n",
       "5  2019-03-01       210  220286.000000    1048.98\n",
       "6  2019-04-01       223  240006.000000    1076.26\n",
       "7  2019-05-01       159  180721.000000    1136.61\n",
       "8  2019-06-01       142  175360.000000    1234.93\n",
       "9  2019-07-01       183  228133.000000    1246.63\n",
       "10 2019-08-01       164  187434.000000    1142.89\n",
       "11 2019-09-01       167  169135.000000    1012.78\n",
       "12 2019-10-01       175  180179.000000    1029.59\n",
       "13 2019-11-01       220  124457.750000     565.72\n",
       "14 2019-12-01       243  202839.333333     834.73\n",
       "15 2020-01-01       275  179817.333333     653.88\n",
       "16 2020-02-01         1     104.000000     104.00"
      ]
     },
     "execution_count": 53,
     "metadata": {},
     "output_type": "execute_result"
    }
   ],
   "source": [
    "df_avg_check = df_order.reset_index() \\\n",
    "                       .groupby('month')\\\n",
    "                       .agg({'order_id':'count',\n",
    "                             'all_price':'sum'})\\\n",
    "                       .reset_index()\n",
    "            \n",
    "df_avg_check['avg_check'] = round(df_avg_check['all_price'] / df_avg_check['order_id'] , 2)\n",
    "\n",
    "df_avg_check"
   ]
  },
  {
   "cell_type": "code",
   "execution_count": 54,
   "id": "3d9e96db",
   "metadata": {},
   "outputs": [
    {
     "name": "stdout",
     "output_type": "stream",
     "text": [
      "Средний чек за период - 1029.63\n"
     ]
    }
   ],
   "source": [
    "print('Средний чек за период -', (round(sum(df_avg_check['all_price']) / sum(df_avg_check['order_id']) , 2)))"
   ]
  },
  {
   "cell_type": "markdown",
   "id": "46df8a5d",
   "metadata": {},
   "source": [
    "Построим график, чтобы визуально оценить динамику."
   ]
  },
  {
   "cell_type": "code",
   "execution_count": 55,
   "id": "46a28e0a",
   "metadata": {},
   "outputs": [
    {
     "data": {
      "text/plain": [
       "<Figure size 1000x600 with 0 Axes>"
      ]
     },
     "metadata": {},
     "output_type": "display_data"
    },
    {
     "data": {
      "image/png": "[encoded data removed]",
      "text/plain": [
       "<Figure size 640x480 with 1 Axes>"
      ]
     },
     "metadata": {},
     "output_type": "display_data"
    }
   ],
   "source": [
    "plt.figure(figsize=(10, 6))\n",
    "df_avg_check.plot(x='month', y='avg_check', legend=False)\n",
    "plt.ylabel('Средний чек')\n",
    "plt.xlabel('Месяц')\n",
    "plt.title('Динамика среднего чека за период', fontsize = 14, pad=15)\n",
    "\n",
    "plt.show();"
   ]
  },
  {
   "cell_type": "markdown",
   "id": "a0d1c1da",
   "metadata": {},
   "source": [
    "Средний чек за весь период - 1029,63 руб.  \n",
    "Самый высокий средний чек был в ноябре 2018 года (в районе 1486,4 руб). А самый низкий в ноябре 2019 года - 565,72 руб.  \n",
    "По среднему чеку заметно снижение динамики."
   ]
  },
  {
   "cell_type": "markdown",
   "id": "f39353f5",
   "metadata": {},
   "source": [
    "### Динамика выручки и количества заказов"
   ]
  },
  {
   "cell_type": "code",
   "execution_count": 56,
   "id": "a4159cc3",
   "metadata": {},
   "outputs": [
    {
     "data": {
      "image/png": "[encoded data removed]",
      "text/plain": [
       "<Figure size 1000x600 with 1 Axes>"
      ]
     },
     "metadata": {},
     "output_type": "display_data"
    }
   ],
   "source": [
    "plt.figure(figsize=(10, 6))\n",
    "df_order.groupby('month')['all_price'].agg('sum') \\\n",
    ".plot(x='month', y='all_price')\n",
    "plt.ylabel('Выручка')\n",
    "plt.xlabel('Месяц заказа')\n",
    "plt.title('Динамика выручки за период', fontsize = 14, pad=15)\n",
    "\n",
    "plt.show()"
   ]
  },
  {
   "cell_type": "markdown",
   "id": "963d0b42",
   "metadata": {},
   "source": [
    "Мы видим постеменное снижение выручки за период и спады в январе, июне и ноябре.  \n",
    "Посмотрим распределение количества заказов во времени."
   ]
  },
  {
   "cell_type": "code",
   "execution_count": 57,
   "id": "79a46f25",
   "metadata": {},
   "outputs": [
    {
     "data": {
      "text/html": [
       "<div>\n",
       "<style scoped>\n",
       "    .dataframe tbody tr th:only-of-type {\n",
       "        vertical-align: middle;\n",
       "    }\n",
       "\n",
       "    .dataframe tbody tr th {\n",
       "        vertical-align: top;\n",
       "    }\n",
       "\n",
       "    .dataframe thead th {\n",
       "        text-align: right;\n",
       "    }\n",
       "</style>\n",
       "<table border=\"1\" class=\"dataframe\">\n",
       "  <thead>\n",
       "    <tr style=\"text-align: right;\">\n",
       "      <th></th>\n",
       "      <th>date</th>\n",
       "      <th>customer_id</th>\n",
       "      <th>quantity</th>\n",
       "      <th>all_price</th>\n",
       "      <th>month</th>\n",
       "    </tr>\n",
       "    <tr>\n",
       "      <th>order_id</th>\n",
       "      <th></th>\n",
       "      <th></th>\n",
       "      <th></th>\n",
       "      <th></th>\n",
       "      <th></th>\n",
       "    </tr>\n",
       "  </thead>\n",
       "  <tbody>\n",
       "    <tr>\n",
       "      <th>12624</th>\n",
       "      <td>2019-06-03</td>\n",
       "      <td>d17861fa-db5f-4de4-93fd-dc5e60d24d3e</td>\n",
       "      <td>2</td>\n",
       "      <td>375.0</td>\n",
       "      <td>2019-06-01</td>\n",
       "    </tr>\n",
       "    <tr>\n",
       "      <th>14480</th>\n",
       "      <td>2018-10-02</td>\n",
       "      <td>f08d9018-438e-4e96-b519-f74c0302a433</td>\n",
       "      <td>3</td>\n",
       "      <td>359.0</td>\n",
       "      <td>2018-10-01</td>\n",
       "    </tr>\n",
       "    <tr>\n",
       "      <th>14481</th>\n",
       "      <td>2018-10-03</td>\n",
       "      <td>49b9c587-c19e-4481-bace-967aeac357fa</td>\n",
       "      <td>4</td>\n",
       "      <td>600.0</td>\n",
       "      <td>2018-10-01</td>\n",
       "    </tr>\n",
       "    <tr>\n",
       "      <th>14482</th>\n",
       "      <td>2018-10-08</td>\n",
       "      <td>43993fd2-20c9-44f7-8634-cf0aee26df4f</td>\n",
       "      <td>2</td>\n",
       "      <td>376.0</td>\n",
       "      <td>2018-10-01</td>\n",
       "    </tr>\n",
       "    <tr>\n",
       "      <th>14485</th>\n",
       "      <td>2018-10-11</td>\n",
       "      <td>f2c89d9e-9cec-45c8-85ed-883cb1170e47</td>\n",
       "      <td>4</td>\n",
       "      <td>676.0</td>\n",
       "      <td>2018-10-01</td>\n",
       "    </tr>\n",
       "    <tr>\n",
       "      <th>...</th>\n",
       "      <td>...</td>\n",
       "      <td>...</td>\n",
       "      <td>...</td>\n",
       "      <td>...</td>\n",
       "      <td>...</td>\n",
       "    </tr>\n",
       "    <tr>\n",
       "      <th>112722</th>\n",
       "      <td>2019-12-12</td>\n",
       "      <td>a479e857-7300-43d4-833c-55dc5bb65c83</td>\n",
       "      <td>1</td>\n",
       "      <td>450.0</td>\n",
       "      <td>2019-12-01</td>\n",
       "    </tr>\n",
       "    <tr>\n",
       "      <th>112732</th>\n",
       "      <td>2019-11-20</td>\n",
       "      <td>db5c1840-bdb7-4f2f-8239-2ab779fd9706</td>\n",
       "      <td>1</td>\n",
       "      <td>90.0</td>\n",
       "      <td>2019-11-01</td>\n",
       "    </tr>\n",
       "    <tr>\n",
       "      <th>112767</th>\n",
       "      <td>2019-12-24</td>\n",
       "      <td>493d53bf-ff1f-4487-a6e7-b1bedddb73fd</td>\n",
       "      <td>1</td>\n",
       "      <td>38.0</td>\n",
       "      <td>2019-12-01</td>\n",
       "    </tr>\n",
       "    <tr>\n",
       "      <th>112779</th>\n",
       "      <td>2020-01-12</td>\n",
       "      <td>66c57efd-4dd1-49c9-b921-987ab6e161fa</td>\n",
       "      <td>1</td>\n",
       "      <td>172.0</td>\n",
       "      <td>2020-01-01</td>\n",
       "    </tr>\n",
       "    <tr>\n",
       "      <th>112789</th>\n",
       "      <td>2019-12-27</td>\n",
       "      <td>65ed0726-5565-4c0e-905c-f9e9bd9f7642</td>\n",
       "      <td>2</td>\n",
       "      <td>2698.0</td>\n",
       "      <td>2019-12-01</td>\n",
       "    </tr>\n",
       "  </tbody>\n",
       "</table>\n",
       "<p>3197 rows × 5 columns</p>\n",
       "</div>"
      ],
      "text/plain": [
       "               date                           customer_id  quantity  \\\n",
       "order_id                                                              \n",
       "12624    2019-06-03  d17861fa-db5f-4de4-93fd-dc5e60d24d3e         2   \n",
       "14480    2018-10-02  f08d9018-438e-4e96-b519-f74c0302a433         3   \n",
       "14481    2018-10-03  49b9c587-c19e-4481-bace-967aeac357fa         4   \n",
       "14482    2018-10-08  43993fd2-20c9-44f7-8634-cf0aee26df4f         2   \n",
       "14485    2018-10-11  f2c89d9e-9cec-45c8-85ed-883cb1170e47         4   \n",
       "...             ...                                   ...       ...   \n",
       "112722   2019-12-12  a479e857-7300-43d4-833c-55dc5bb65c83         1   \n",
       "112732   2019-11-20  db5c1840-bdb7-4f2f-8239-2ab779fd9706         1   \n",
       "112767   2019-12-24  493d53bf-ff1f-4487-a6e7-b1bedddb73fd         1   \n",
       "112779   2020-01-12  66c57efd-4dd1-49c9-b921-987ab6e161fa         1   \n",
       "112789   2019-12-27  65ed0726-5565-4c0e-905c-f9e9bd9f7642         2   \n",
       "\n",
       "          all_price      month  \n",
       "order_id                        \n",
       "12624         375.0 2019-06-01  \n",
       "14480         359.0 2018-10-01  \n",
       "14481         600.0 2018-10-01  \n",
       "14482         376.0 2018-10-01  \n",
       "14485         676.0 2018-10-01  \n",
       "...             ...        ...  \n",
       "112722        450.0 2019-12-01  \n",
       "112732         90.0 2019-11-01  \n",
       "112767         38.0 2019-12-01  \n",
       "112779        172.0 2020-01-01  \n",
       "112789       2698.0 2019-12-01  \n",
       "\n",
       "[3197 rows x 5 columns]"
      ]
     },
     "execution_count": 57,
     "metadata": {},
     "output_type": "execute_result"
    }
   ],
   "source": [
    "df_order"
   ]
  },
  {
   "cell_type": "code",
   "execution_count": 58,
   "id": "8da54e25",
   "metadata": {},
   "outputs": [
    {
     "data": {
      "image/png": "[encoded data removed]",
      "text/plain": [
       "<Figure size 1000x600 with 1 Axes>"
      ]
     },
     "metadata": {},
     "output_type": "display_data"
    }
   ],
   "source": [
    "plt.figure(figsize=(10, 6))\n",
    "df_order.reset_index().groupby('month')['order_id'].agg('count') \\\n",
    ".plot(x='month', y='order_id')\n",
    "plt.ylabel('Количество заказов')\n",
    "plt.xlabel('Месяц заказа')\n",
    "plt.title('Динамика заказов за период', fontsize = 14, pad=15)\n",
    "\n",
    "plt.show()"
   ]
  },
  {
   "cell_type": "markdown",
   "id": "2b477f54",
   "metadata": {},
   "source": [
    "По заказам мы видим провал в январе и июне 2019г (менее 150 заказов в месяц), а самый высокий показатель количества заказов в январе 2020г (более 250). С учетом того, что все остальные метрики к 2020 году снижаются, можно предположить, что в этот период начали закупаться \"дешевыми\" товарами."
   ]
  },
  {
   "cell_type": "markdown",
   "id": "ba68cdc2",
   "metadata": {},
   "source": [
    "### Анализ заказов по клиентам"
   ]
  },
  {
   "cell_type": "markdown",
   "id": "6c734838",
   "metadata": {},
   "source": [
    "Сгруппируем таблицу по пользователям. Дату заказа возьмем последнюю."
   ]
  },
  {
   "cell_type": "code",
   "execution_count": 59,
   "id": "0c6c8089",
   "metadata": {},
   "outputs": [
    {
     "data": {
      "text/html": [
       "<div>\n",
       "<style scoped>\n",
       "    .dataframe tbody tr th:only-of-type {\n",
       "        vertical-align: middle;\n",
       "    }\n",
       "\n",
       "    .dataframe tbody tr th {\n",
       "        vertical-align: top;\n",
       "    }\n",
       "\n",
       "    .dataframe thead th {\n",
       "        text-align: right;\n",
       "    }\n",
       "</style>\n",
       "<table border=\"1\" class=\"dataframe\">\n",
       "  <thead>\n",
       "    <tr style=\"text-align: right;\">\n",
       "      <th></th>\n",
       "      <th>date</th>\n",
       "      <th>order_id</th>\n",
       "      <th>quantity</th>\n",
       "      <th>all_price</th>\n",
       "    </tr>\n",
       "    <tr>\n",
       "      <th>customer_id</th>\n",
       "      <th></th>\n",
       "      <th></th>\n",
       "      <th></th>\n",
       "      <th></th>\n",
       "    </tr>\n",
       "  </thead>\n",
       "  <tbody>\n",
       "    <tr>\n",
       "      <th>000d6849-084e-4d9f-ac03-37174eaf60c4</th>\n",
       "      <td>2019-10-16</td>\n",
       "      <td>1</td>\n",
       "      <td>4</td>\n",
       "      <td>555.0</td>\n",
       "    </tr>\n",
       "    <tr>\n",
       "      <th>001cee7f-0b29-4716-b202-0042213ab038</th>\n",
       "      <td>2019-02-16</td>\n",
       "      <td>1</td>\n",
       "      <td>1</td>\n",
       "      <td>442.0</td>\n",
       "    </tr>\n",
       "    <tr>\n",
       "      <th>00299f34-5385-4d13-9aea-c80b81658e1b</th>\n",
       "      <td>2019-10-15</td>\n",
       "      <td>1</td>\n",
       "      <td>2</td>\n",
       "      <td>914.0</td>\n",
       "    </tr>\n",
       "    <tr>\n",
       "      <th>002d4d3a-4a59-406b-86ec-c3314357e498</th>\n",
       "      <td>2019-01-28</td>\n",
       "      <td>1</td>\n",
       "      <td>1</td>\n",
       "      <td>1649.0</td>\n",
       "    </tr>\n",
       "    <tr>\n",
       "      <th>003bbd39-0000-41ff-b7f9-2ddaec152037</th>\n",
       "      <td>2019-09-30</td>\n",
       "      <td>1</td>\n",
       "      <td>2</td>\n",
       "      <td>2324.0</td>\n",
       "    </tr>\n",
       "    <tr>\n",
       "      <th>...</th>\n",
       "      <td>...</td>\n",
       "      <td>...</td>\n",
       "      <td>...</td>\n",
       "      <td>...</td>\n",
       "    </tr>\n",
       "    <tr>\n",
       "      <th>ff0c73c3-6b62-4e67-8e12-bb83ed1851d5</th>\n",
       "      <td>2019-10-31</td>\n",
       "      <td>1</td>\n",
       "      <td>1</td>\n",
       "      <td>899.0</td>\n",
       "    </tr>\n",
       "    <tr>\n",
       "      <th>ff422162-fc4a-4b65-a0e2-17f5095ea2c6</th>\n",
       "      <td>2019-03-12</td>\n",
       "      <td>3</td>\n",
       "      <td>3</td>\n",
       "      <td>1610.0</td>\n",
       "    </tr>\n",
       "    <tr>\n",
       "      <th>ff601403-b094-4b86-9ac6-264d725b9277</th>\n",
       "      <td>2020-01-19</td>\n",
       "      <td>2</td>\n",
       "      <td>2</td>\n",
       "      <td>1739.0</td>\n",
       "    </tr>\n",
       "    <tr>\n",
       "      <th>ffb80538-3fda-4351-8ea9-9d2bec58bb07</th>\n",
       "      <td>2019-09-09</td>\n",
       "      <td>1</td>\n",
       "      <td>1</td>\n",
       "      <td>974.0</td>\n",
       "    </tr>\n",
       "    <tr>\n",
       "      <th>ffe82299-3f5b-4214-87fe-3d36ecccfac3</th>\n",
       "      <td>2019-10-23</td>\n",
       "      <td>1</td>\n",
       "      <td>1</td>\n",
       "      <td>577.0</td>\n",
       "    </tr>\n",
       "  </tbody>\n",
       "</table>\n",
       "<p>2161 rows × 4 columns</p>\n",
       "</div>"
      ],
      "text/plain": [
       "                                           date  order_id  quantity  all_price\n",
       "customer_id                                                                   \n",
       "000d6849-084e-4d9f-ac03-37174eaf60c4 2019-10-16         1         4      555.0\n",
       "001cee7f-0b29-4716-b202-0042213ab038 2019-02-16         1         1      442.0\n",
       "00299f34-5385-4d13-9aea-c80b81658e1b 2019-10-15         1         2      914.0\n",
       "002d4d3a-4a59-406b-86ec-c3314357e498 2019-01-28         1         1     1649.0\n",
       "003bbd39-0000-41ff-b7f9-2ddaec152037 2019-09-30         1         2     2324.0\n",
       "...                                         ...       ...       ...        ...\n",
       "ff0c73c3-6b62-4e67-8e12-bb83ed1851d5 2019-10-31         1         1      899.0\n",
       "ff422162-fc4a-4b65-a0e2-17f5095ea2c6 2019-03-12         3         3     1610.0\n",
       "ff601403-b094-4b86-9ac6-264d725b9277 2020-01-19         2         2     1739.0\n",
       "ffb80538-3fda-4351-8ea9-9d2bec58bb07 2019-09-09         1         1      974.0\n",
       "ffe82299-3f5b-4214-87fe-3d36ecccfac3 2019-10-23         1         1      577.0\n",
       "\n",
       "[2161 rows x 4 columns]"
      ]
     },
     "execution_count": 59,
     "metadata": {},
     "output_type": "execute_result"
    }
   ],
   "source": [
    "df_customer = df_order.reset_index().groupby('customer_id').agg({'date':'last',\n",
    "                                                  'order_id':'count',\n",
    "                                                  'quantity':'sum',\n",
    "                                                  'all_price':'sum'})\n",
    "df_customer"
   ]
  },
  {
   "cell_type": "markdown",
   "id": "3edb4ccc",
   "metadata": {},
   "source": [
    "Мы можем найти покупателей, которые купили на самые высокие суммы."
   ]
  },
  {
   "cell_type": "code",
   "execution_count": 60,
   "id": "b6aaa4b5",
   "metadata": {},
   "outputs": [
    {
     "name": "stdout",
     "output_type": "stream",
     "text": [
      "Наши любимые покупатели:\n"
     ]
    },
    {
     "data": {
      "text/html": [
       "<div>\n",
       "<style scoped>\n",
       "    .dataframe tbody tr th:only-of-type {\n",
       "        vertical-align: middle;\n",
       "    }\n",
       "\n",
       "    .dataframe tbody tr th {\n",
       "        vertical-align: top;\n",
       "    }\n",
       "\n",
       "    .dataframe thead th {\n",
       "        text-align: right;\n",
       "    }\n",
       "</style>\n",
       "<table border=\"1\" class=\"dataframe\">\n",
       "  <thead>\n",
       "    <tr style=\"text-align: right;\">\n",
       "      <th></th>\n",
       "      <th>customer_id</th>\n",
       "      <th>date</th>\n",
       "      <th>order_id</th>\n",
       "      <th>quantity</th>\n",
       "      <th>all_price</th>\n",
       "    </tr>\n",
       "  </thead>\n",
       "  <tbody>\n",
       "    <tr>\n",
       "      <th>0</th>\n",
       "      <td>c971fb21-d54c-4134-938f-16b62ee86d3b</td>\n",
       "      <td>2019-03-07</td>\n",
       "      <td>121</td>\n",
       "      <td>222</td>\n",
       "      <td>145294.0</td>\n",
       "    </tr>\n",
       "    <tr>\n",
       "      <th>1</th>\n",
       "      <td>4d93d3f6-8b24-403b-a74b-f5173e40d7db</td>\n",
       "      <td>2018-10-25</td>\n",
       "      <td>28</td>\n",
       "      <td>61</td>\n",
       "      <td>37206.0</td>\n",
       "    </tr>\n",
       "    <tr>\n",
       "      <th>2</th>\n",
       "      <td>1b2764ad-9151-4051-a46a-9b01b62e6335</td>\n",
       "      <td>2018-11-07</td>\n",
       "      <td>1</td>\n",
       "      <td>5</td>\n",
       "      <td>24370.0</td>\n",
       "    </tr>\n",
       "    <tr>\n",
       "      <th>3</th>\n",
       "      <td>73d1cd35-5e5f-4629-8cf2-3fda829d4e58</td>\n",
       "      <td>2019-11-01</td>\n",
       "      <td>17</td>\n",
       "      <td>18</td>\n",
       "      <td>21713.0</td>\n",
       "    </tr>\n",
       "    <tr>\n",
       "      <th>4</th>\n",
       "      <td>940c175f-ea87-44e0-9e16-0a3d0a9abecd</td>\n",
       "      <td>2019-06-12</td>\n",
       "      <td>2</td>\n",
       "      <td>18</td>\n",
       "      <td>20232.0</td>\n",
       "    </tr>\n",
       "  </tbody>\n",
       "</table>\n",
       "</div>"
      ],
      "text/plain": [
       "                            customer_id       date  order_id  quantity  \\\n",
       "0  c971fb21-d54c-4134-938f-16b62ee86d3b 2019-03-07       121       222   \n",
       "1  4d93d3f6-8b24-403b-a74b-f5173e40d7db 2018-10-25        28        61   \n",
       "2  1b2764ad-9151-4051-a46a-9b01b62e6335 2018-11-07         1         5   \n",
       "3  73d1cd35-5e5f-4629-8cf2-3fda829d4e58 2019-11-01        17        18   \n",
       "4  940c175f-ea87-44e0-9e16-0a3d0a9abecd 2019-06-12         2        18   \n",
       "\n",
       "   all_price  \n",
       "0   145294.0  \n",
       "1    37206.0  \n",
       "2    24370.0  \n",
       "3    21713.0  \n",
       "4    20232.0  "
      ]
     },
     "execution_count": 60,
     "metadata": {},
     "output_type": "execute_result"
    }
   ],
   "source": [
    "print('Наши любимые покупатели:')\n",
    "df_customer.sort_values('all_price', ascending=False).head().reset_index()"
   ]
  },
  {
   "cell_type": "markdown",
   "id": "2e5a998f",
   "metadata": {},
   "source": [
    "Аналогичным образом определим постоянных покупатлей - тех, кто чаще всего совершает покупки."
   ]
  },
  {
   "cell_type": "code",
   "execution_count": 61,
   "id": "5ab3833b",
   "metadata": {},
   "outputs": [
    {
     "name": "stdout",
     "output_type": "stream",
     "text": [
      "Наши постоянные клиенты:\n"
     ]
    },
    {
     "data": {
      "text/html": [
       "<div>\n",
       "<style scoped>\n",
       "    .dataframe tbody tr th:only-of-type {\n",
       "        vertical-align: middle;\n",
       "    }\n",
       "\n",
       "    .dataframe tbody tr th {\n",
       "        vertical-align: top;\n",
       "    }\n",
       "\n",
       "    .dataframe thead th {\n",
       "        text-align: right;\n",
       "    }\n",
       "</style>\n",
       "<table border=\"1\" class=\"dataframe\">\n",
       "  <thead>\n",
       "    <tr style=\"text-align: right;\">\n",
       "      <th></th>\n",
       "      <th>customer_id</th>\n",
       "      <th>date</th>\n",
       "      <th>order_id</th>\n",
       "      <th>quantity</th>\n",
       "      <th>all_price</th>\n",
       "    </tr>\n",
       "  </thead>\n",
       "  <tbody>\n",
       "    <tr>\n",
       "      <th>0</th>\n",
       "      <td>c971fb21-d54c-4134-938f-16b62ee86d3b</td>\n",
       "      <td>2019-03-07</td>\n",
       "      <td>121</td>\n",
       "      <td>222</td>\n",
       "      <td>145294.0</td>\n",
       "    </tr>\n",
       "    <tr>\n",
       "      <th>1</th>\n",
       "      <td>4d93d3f6-8b24-403b-a74b-f5173e40d7db</td>\n",
       "      <td>2018-10-25</td>\n",
       "      <td>28</td>\n",
       "      <td>61</td>\n",
       "      <td>37206.0</td>\n",
       "    </tr>\n",
       "    <tr>\n",
       "      <th>2</th>\n",
       "      <td>73d1cd35-5e5f-4629-8cf2-3fda829d4e58</td>\n",
       "      <td>2019-11-01</td>\n",
       "      <td>17</td>\n",
       "      <td>18</td>\n",
       "      <td>21713.0</td>\n",
       "    </tr>\n",
       "    <tr>\n",
       "      <th>3</th>\n",
       "      <td>b7b865ab-0735-407f-8d0c-31f74d2806cc</td>\n",
       "      <td>2019-04-24</td>\n",
       "      <td>6</td>\n",
       "      <td>38</td>\n",
       "      <td>2639.0</td>\n",
       "    </tr>\n",
       "    <tr>\n",
       "      <th>4</th>\n",
       "      <td>e0535076-6270-4df2-8621-cb06264a94fa</td>\n",
       "      <td>2019-06-01</td>\n",
       "      <td>4</td>\n",
       "      <td>4</td>\n",
       "      <td>636.0</td>\n",
       "    </tr>\n",
       "  </tbody>\n",
       "</table>\n",
       "</div>"
      ],
      "text/plain": [
       "                            customer_id       date  order_id  quantity  \\\n",
       "0  c971fb21-d54c-4134-938f-16b62ee86d3b 2019-03-07       121       222   \n",
       "1  4d93d3f6-8b24-403b-a74b-f5173e40d7db 2018-10-25        28        61   \n",
       "2  73d1cd35-5e5f-4629-8cf2-3fda829d4e58 2019-11-01        17        18   \n",
       "3  b7b865ab-0735-407f-8d0c-31f74d2806cc 2019-04-24         6        38   \n",
       "4  e0535076-6270-4df2-8621-cb06264a94fa 2019-06-01         4         4   \n",
       "\n",
       "   all_price  \n",
       "0   145294.0  \n",
       "1    37206.0  \n",
       "2    21713.0  \n",
       "3     2639.0  \n",
       "4      636.0  "
      ]
     },
     "execution_count": 61,
     "metadata": {},
     "output_type": "execute_result"
    }
   ],
   "source": [
    "print('Наши постоянные клиенты:')\n",
    "df_customer.sort_values('order_id', ascending=False).head().reset_index()"
   ]
  },
  {
   "cell_type": "markdown",
   "id": "d44ffb32",
   "metadata": {},
   "source": [
    "Мы видим, что 2 клиена в списках совпадают."
   ]
  },
  {
   "cell_type": "markdown",
   "id": "4fae09c5",
   "metadata": {},
   "source": [
    "Создадим график, на котором можно будет увидеть сколько раз за анализируемый период делал заказ клиент."
   ]
  },
  {
   "cell_type": "code",
   "execution_count": 62,
   "id": "57287ca1",
   "metadata": {},
   "outputs": [
    {
     "data": {
      "image/png": "[encoded data removed]",
      "text/plain": [
       "<Figure size 1000x600 with 1 Axes>"
      ]
     },
     "metadata": {},
     "output_type": "display_data"
    }
   ],
   "source": [
    "plt.figure(figsize=(10, 6))\n",
    "sns.histplot(df_customer, x='order_id', bins=60)\n",
    "plt.ylabel('Количество клиентов')\n",
    "plt.xlabel('Количество заказов')\n",
    "plt.title('Количество заказов', fontsize = 14, pad=15)\n",
    "plt.show()"
   ]
  },
  {
   "cell_type": "markdown",
   "id": "b9aaa672",
   "metadata": {},
   "source": [
    "Ограничим для наглядности график по линии х."
   ]
  },
  {
   "cell_type": "code",
   "execution_count": 63,
   "id": "c0f84e2d",
   "metadata": {},
   "outputs": [
    {
     "data": {
      "image/png": "[encoded data removed]",
      "text/plain": [
       "<Figure size 1000x600 with 1 Axes>"
      ]
     },
     "metadata": {},
     "output_type": "display_data"
    }
   ],
   "source": [
    "plt.figure(figsize=(10, 6))\n",
    "sns.histplot(df_customer, x='order_id', bins=150)\n",
    "plt.xlim(0,10)\n",
    "plt.ylabel('Количество клиентов')\n",
    "plt.xlabel('Количество заказов')\n",
    "plt.title('Количество заказов на одного клиента', fontsize = 14, pad=15)\n",
    "plt.show()"
   ]
  },
  {
   "cell_type": "markdown",
   "id": "2f730ae7",
   "metadata": {},
   "source": [
    "Мы видим, что большинство клиентов совершали покупку в магазине 1-2 раза. Также есть клиент, который за период совершил покупку 117 раз, можно предположить, что это покупка некой организации."
   ]
  },
  {
   "cell_type": "markdown",
   "id": "f77bb8ed",
   "metadata": {},
   "source": [
    "**Изучим, какие суммы оставили у нас клиенты за период.**"
   ]
  },
  {
   "cell_type": "code",
   "execution_count": 64,
   "id": "ed585203",
   "metadata": {},
   "outputs": [
    {
     "data": {
      "image/png": "[encoded data removed]",
      "text/plain": [
       "<Figure size 1000x600 with 1 Axes>"
      ]
     },
     "metadata": {},
     "output_type": "display_data"
    }
   ],
   "source": [
    "plt.figure(figsize=(10, 6))\n",
    "sns.histplot(df_customer, x='all_price', bins=200)\n",
    "plt.ylabel('Количество клиентов')\n",
    "plt.xlabel('Сумма покупок')\n",
    "\n",
    "plt.title('Потраченная сумма одним клиентом', fontsize = 14, pad=15)\n",
    "plt.show()"
   ]
  },
  {
   "cell_type": "markdown",
   "id": "380ac6ed",
   "metadata": {},
   "source": [
    "Посмотрим на график крупнее, сократим значения оси х до 5000."
   ]
  },
  {
   "cell_type": "code",
   "execution_count": 65,
   "id": "89832715",
   "metadata": {},
   "outputs": [
    {
     "data": {
      "image/png": "[encoded data removed]",
      "text/plain": [
       "<Figure size 1000x600 with 1 Axes>"
      ]
     },
     "metadata": {},
     "output_type": "display_data"
    }
   ],
   "source": [
    "plt.figure(figsize=(10, 6))\n",
    "sns.histplot(df_customer, x='all_price', bins=1200)\n",
    "plt.ylabel('Количество клиентов')\n",
    "plt.xlabel('Сумма покупок')\n",
    "plt.xlim(0,5000)\n",
    "plt.title('Потраченная сумма одним клиентом', fontsize = 14, pad=15)\n",
    "plt.show()"
   ]
  },
  {
   "cell_type": "markdown",
   "id": "6c314c9c",
   "metadata": {},
   "source": [
    "Большинство клиентов за предоставленный период потратили в магазине до 1000 рублей."
   ]
  },
  {
   "cell_type": "markdown",
   "id": "6b6c8519",
   "metadata": {},
   "source": [
    "**Проанализируем дату последнего заказа, с целью использования этой информации для деления на категории в дальнейшем.**"
   ]
  },
  {
   "cell_type": "code",
   "execution_count": 66,
   "id": "368e6fe1",
   "metadata": {},
   "outputs": [
    {
     "data": {
      "image/png": "[encoded data removed]",
      "text/plain": [
       "<Figure size 1000x600 with 1 Axes>"
      ]
     },
     "metadata": {},
     "output_type": "display_data"
    }
   ],
   "source": [
    "plt.figure(figsize=(10, 6))\n",
    "sns.histplot(df_customer, x='date', bins=16)\n",
    "plt.ylabel('Количество клиентов')\n",
    "plt.xlabel('Дата')\n",
    "plt.xticks(rotation=55);\n",
    "plt.title('Дата последнего заказа', fontsize = 14, pad=15)\n",
    "plt.show()"
   ]
  },
  {
   "cell_type": "markdown",
   "id": "1475218b",
   "metadata": {},
   "source": [
    "Пользователей, которые сделали последний заказ с октября 2019г по январь 2020г больше, чем в остальные периоды. Для деления на категории можно выбрать пограничную дату 1 сентября 2019 года."
   ]
  },
  {
   "cell_type": "code",
   "execution_count": 67,
   "id": "dd4a7520",
   "metadata": {},
   "outputs": [
    {
     "data": {
      "text/html": [
       "<div>\n",
       "<style scoped>\n",
       "    .dataframe tbody tr th:only-of-type {\n",
       "        vertical-align: middle;\n",
       "    }\n",
       "\n",
       "    .dataframe tbody tr th {\n",
       "        vertical-align: top;\n",
       "    }\n",
       "\n",
       "    .dataframe thead th {\n",
       "        text-align: right;\n",
       "    }\n",
       "</style>\n",
       "<table border=\"1\" class=\"dataframe\">\n",
       "  <thead>\n",
       "    <tr style=\"text-align: right;\">\n",
       "      <th></th>\n",
       "      <th>date</th>\n",
       "      <th>order_id</th>\n",
       "      <th>quantity</th>\n",
       "      <th>all_price</th>\n",
       "      <th>avg_check</th>\n",
       "    </tr>\n",
       "    <tr>\n",
       "      <th>customer_id</th>\n",
       "      <th></th>\n",
       "      <th></th>\n",
       "      <th></th>\n",
       "      <th></th>\n",
       "      <th></th>\n",
       "    </tr>\n",
       "  </thead>\n",
       "  <tbody>\n",
       "    <tr>\n",
       "      <th>000d6849-084e-4d9f-ac03-37174eaf60c4</th>\n",
       "      <td>2019-10-16</td>\n",
       "      <td>1</td>\n",
       "      <td>4</td>\n",
       "      <td>555.0</td>\n",
       "      <td>555.0</td>\n",
       "    </tr>\n",
       "    <tr>\n",
       "      <th>001cee7f-0b29-4716-b202-0042213ab038</th>\n",
       "      <td>2019-02-16</td>\n",
       "      <td>1</td>\n",
       "      <td>1</td>\n",
       "      <td>442.0</td>\n",
       "      <td>442.0</td>\n",
       "    </tr>\n",
       "    <tr>\n",
       "      <th>00299f34-5385-4d13-9aea-c80b81658e1b</th>\n",
       "      <td>2019-10-15</td>\n",
       "      <td>1</td>\n",
       "      <td>2</td>\n",
       "      <td>914.0</td>\n",
       "      <td>914.0</td>\n",
       "    </tr>\n",
       "    <tr>\n",
       "      <th>002d4d3a-4a59-406b-86ec-c3314357e498</th>\n",
       "      <td>2019-01-28</td>\n",
       "      <td>1</td>\n",
       "      <td>1</td>\n",
       "      <td>1649.0</td>\n",
       "      <td>1649.0</td>\n",
       "    </tr>\n",
       "    <tr>\n",
       "      <th>003bbd39-0000-41ff-b7f9-2ddaec152037</th>\n",
       "      <td>2019-09-30</td>\n",
       "      <td>1</td>\n",
       "      <td>2</td>\n",
       "      <td>2324.0</td>\n",
       "      <td>2324.0</td>\n",
       "    </tr>\n",
       "  </tbody>\n",
       "</table>\n",
       "</div>"
      ],
      "text/plain": [
       "                                           date  order_id  quantity  \\\n",
       "customer_id                                                           \n",
       "000d6849-084e-4d9f-ac03-37174eaf60c4 2019-10-16         1         4   \n",
       "001cee7f-0b29-4716-b202-0042213ab038 2019-02-16         1         1   \n",
       "00299f34-5385-4d13-9aea-c80b81658e1b 2019-10-15         1         2   \n",
       "002d4d3a-4a59-406b-86ec-c3314357e498 2019-01-28         1         1   \n",
       "003bbd39-0000-41ff-b7f9-2ddaec152037 2019-09-30         1         2   \n",
       "\n",
       "                                      all_price  avg_check  \n",
       "customer_id                                                 \n",
       "000d6849-084e-4d9f-ac03-37174eaf60c4      555.0      555.0  \n",
       "001cee7f-0b29-4716-b202-0042213ab038      442.0      442.0  \n",
       "00299f34-5385-4d13-9aea-c80b81658e1b      914.0      914.0  \n",
       "002d4d3a-4a59-406b-86ec-c3314357e498     1649.0     1649.0  \n",
       "003bbd39-0000-41ff-b7f9-2ddaec152037     2324.0     2324.0  "
      ]
     },
     "execution_count": 67,
     "metadata": {},
     "output_type": "execute_result"
    }
   ],
   "source": [
    "df_customer['avg_check'] = df_customer['all_price'] / df_customer['order_id']\n",
    "df_customer.head(5)"
   ]
  },
  {
   "cell_type": "markdown",
   "id": "107c2e36",
   "metadata": {},
   "source": [
    "Посмотрим распределение среднего чека на графике."
   ]
  },
  {
   "cell_type": "code",
   "execution_count": 68,
   "id": "3ee5bd23",
   "metadata": {},
   "outputs": [
    {
     "data": {
      "image/png": "[encoded data removed]",
      "text/plain": [
       "<Figure size 1000x600 with 1 Axes>"
      ]
     },
     "metadata": {},
     "output_type": "display_data"
    }
   ],
   "source": [
    "plt.figure(figsize=(10, 6))\n",
    "sns.histplot(df_customer, x='avg_check', bins=60)\n",
    "plt.ylabel('Количество клиентов')\n",
    "plt.xlabel('Средний чек')\n",
    "plt.title('Распределение среднего чека по клиентам', fontsize = 14, pad=15)\n",
    "plt.show()"
   ]
  },
  {
   "cell_type": "markdown",
   "id": "c10e7c19",
   "metadata": {},
   "source": [
    "Скорее всего значения среднего чека больше 5000 - это крупные разовые покупки. Зададим графику лимит и посмотрим еще раз."
   ]
  },
  {
   "cell_type": "code",
   "execution_count": 69,
   "id": "eebe8f81",
   "metadata": {},
   "outputs": [
    {
     "data": {
      "image/png": "[encoded data removed]",
      "text/plain": [
       "<Figure size 1000x600 with 1 Axes>"
      ]
     },
     "metadata": {},
     "output_type": "display_data"
    }
   ],
   "source": [
    "plt.figure(figsize=(10, 6))\n",
    "sns.histplot(df_customer, x='avg_check', bins=250)\n",
    "plt.ylabel('Количество клиентов')\n",
    "plt.xlabel('Средний чек')\n",
    "plt.xlim(0,5000)\n",
    "plt.title('Распределение среднего чека по клиентам', fontsize = 14, pad=15)\n",
    "plt.show()"
   ]
  },
  {
   "cell_type": "markdown",
   "id": "105db32b",
   "metadata": {},
   "source": [
    "Чаще всего значение среднего чека для одного клиента приходится на сумму до 600 руб и совсем редко значение среднего чека превышает 3000 руб."
   ]
  },
  {
   "cell_type": "markdown",
   "id": "708e9248",
   "metadata": {},
   "source": [
    "### Вывод по разделу"
   ]
  },
  {
   "cell_type": "markdown",
   "id": "e75353ca",
   "metadata": {},
   "source": [
    "- Аномалий в столбце `date` не обнаружено. Данные предоставлены за период с 10 октября 2018 года по 1 февраля 2020 года.\n",
    "- В датасете 2451 уникальных клиентов, 3521 уникальный заказ.  \n",
    "Поскольку строк в таблице больше (7474), чем количество покупателей и заказов, то можно сказть, что некоторые покупатели совершали не одну покупку и в покупке бывает несколько позиций.\n",
    "- Чаще всего товары заказывают по 1й позиции (в 82,57% случаев) и редко - больше.\n",
    "- Большинство товаров стоят до 1000 рублей. Есть аномально высокие цены товаров, изучив подробнее информацию о данных товаров, пришли к выводу, что ошибок в данных нет.\n",
    "-  Разделили все товары на 2 примерно одинаковые категории - `растения`(4022 сторок) и `для дома`(3182 строки). Для избежания ошибок при делении на категории оставили только 2. Если есть дополнительные данные, поясняющие категории, деление в дальнейшем можно проводить по ним.\n",
    "- Количество товаров в категории \"растения\" продано на 7,2% меньше, и выручка значительно выше от продаж в категории \"для дома\"(85,3% от общего числа).  \n",
    "В категории товаров \"для дома\" более догоростоящие товары. \n",
    "В категории товаров `для дома` более догоростоящие товары.\n",
    "- Чаще всего в чеке 1 товар. Заказы, где более 30 позиций в чеке мы убрали для дальнейшего анализа, признав аномалиями.\n",
    "- Средний чек за весь период - 1029,63 руб.  \n",
    "Самый высокий средний чек был в ноябре 2018 года (1486,4 руб). А самый низкий в ноябре 2019 года - 565,72 руб.  \n",
    "По среднему чеку заметно снижение динамики.\n",
    "- Мы видим постеменное снижение выручки за период и спады в январе, июне и ноябре.  \n",
    "Посмотрим распределение количества заказов во времени.\n",
    "- По заказам мы видим провал в январе и июне 2019г (менее 150 заказов в месяц), а самый высокий показатель количества заказов в январе 2020г (более 250). С учетом того, что все остальные метрики к 2020 году снижаются, можно предположить, что в этот период начали закупаться \"дешевыми\" товарами.\n",
    "- Большинство клиентов за анализируемый период совершали покупку в магазине 1-2 раза. Также есть клиент, который за период совершил покупку 117 раз, можно предположить, что это покупка некой организаци.\n",
    "- Большинство клиентов за предоставленный период потратили в магазине до 1000 рублей.\n",
    "- Пользователей, которые сделали последний заказ с октября 2019г по январь 2020г больше, чем в остальные периоды. Для деления на категории можно выбрать пограничную дату 1 сентября 2019 года.\n",
    "- Чаще всего значение среднего чека для одного клиента приходится на сумму до 600 руб и совсем редко значение среднего чека превышает 3000 руб."
   ]
  },
  {
   "cell_type": "markdown",
   "id": "f1021915",
   "metadata": {},
   "source": [
    "## Формирование сегментов клиентов"
   ]
  },
  {
   "cell_type": "markdown",
   "id": "c3e8bb5b",
   "metadata": {},
   "source": [
    "Предлагаю разделить клиентов на 4 категорий:\n",
    "1. **Случайные клиенты** (random_1 ) - сделали заказ 1 раз (недавно). 1 случайная покупка, еще непонятно, понравилось клиенту или нет. \n",
    "2. **Любимые клиенты** (favourite_2) - недавно заказывали, сделили больше 2 заказов + высокий средний чек. Они про компанию помнят и посещают достаточно регулярно и готовы оставлять больше денег.\n",
    "3. **Постоянные клиенты** (permanent_3) - надавно заказывали, сделили больше 2 заказов + низкий средний чек. Клиенты, которые уже были несколько раз, но пока оставляют не такие высокие суммы, как хотелось бы.\n",
    "4. **Бывшие клиенты** (former_4) - давно не заказывали. Включаем сюда и тех, кто делал только 1 заказ, т.к. они про компанию скорее всего тоже забыли и могут быть использованы те же активности, что и на тех, кто давно не заказывал."
   ]
  },
  {
   "cell_type": "markdown",
   "id": "08778874",
   "metadata": {},
   "source": [
    "За порог даты возьмем 1 сентября 2019 года, т.е. кто заказывал после этой даты, будет считаться недавно, а кто до, то будем считать, что они давно не делали заказ.  \n",
    "За порог среднего чека возьмем 600 руб.  \n",
    "Для деления возьмем таблицу `df_customer`, в которой собрана информация по каждому клинету."
   ]
  },
  {
   "cell_type": "code",
   "execution_count": 70,
   "id": "97d033ae",
   "metadata": {},
   "outputs": [],
   "source": [
    "check = 600\n",
    "date = '2019-09-01'"
   ]
  },
  {
   "cell_type": "code",
   "execution_count": 71,
   "id": "c9668f15",
   "metadata": {},
   "outputs": [
    {
     "data": {
      "text/html": [
       "<div>\n",
       "<style scoped>\n",
       "    .dataframe tbody tr th:only-of-type {\n",
       "        vertical-align: middle;\n",
       "    }\n",
       "\n",
       "    .dataframe tbody tr th {\n",
       "        vertical-align: top;\n",
       "    }\n",
       "\n",
       "    .dataframe thead th {\n",
       "        text-align: right;\n",
       "    }\n",
       "</style>\n",
       "<table border=\"1\" class=\"dataframe\">\n",
       "  <thead>\n",
       "    <tr style=\"text-align: right;\">\n",
       "      <th></th>\n",
       "      <th>date</th>\n",
       "      <th>order_id</th>\n",
       "      <th>quantity</th>\n",
       "      <th>all_price</th>\n",
       "      <th>avg_check</th>\n",
       "    </tr>\n",
       "    <tr>\n",
       "      <th>customer_id</th>\n",
       "      <th></th>\n",
       "      <th></th>\n",
       "      <th></th>\n",
       "      <th></th>\n",
       "      <th></th>\n",
       "    </tr>\n",
       "  </thead>\n",
       "  <tbody>\n",
       "    <tr>\n",
       "      <th>000d6849-084e-4d9f-ac03-37174eaf60c4</th>\n",
       "      <td>2019-10-16</td>\n",
       "      <td>1</td>\n",
       "      <td>4</td>\n",
       "      <td>555.0</td>\n",
       "      <td>555.0</td>\n",
       "    </tr>\n",
       "    <tr>\n",
       "      <th>00299f34-5385-4d13-9aea-c80b81658e1b</th>\n",
       "      <td>2019-10-15</td>\n",
       "      <td>1</td>\n",
       "      <td>2</td>\n",
       "      <td>914.0</td>\n",
       "      <td>914.0</td>\n",
       "    </tr>\n",
       "    <tr>\n",
       "      <th>003bbd39-0000-41ff-b7f9-2ddaec152037</th>\n",
       "      <td>2019-09-30</td>\n",
       "      <td>1</td>\n",
       "      <td>2</td>\n",
       "      <td>2324.0</td>\n",
       "      <td>2324.0</td>\n",
       "    </tr>\n",
       "    <tr>\n",
       "      <th>00c95d20-923e-4b45-88fc-53b12931d462</th>\n",
       "      <td>2019-12-20</td>\n",
       "      <td>1</td>\n",
       "      <td>1</td>\n",
       "      <td>186.5</td>\n",
       "      <td>186.5</td>\n",
       "    </tr>\n",
       "    <tr>\n",
       "      <th>0114e87e-78e2-49bf-9c8c-bbddd7191a3f</th>\n",
       "      <td>2019-10-16</td>\n",
       "      <td>1</td>\n",
       "      <td>1</td>\n",
       "      <td>974.0</td>\n",
       "      <td>974.0</td>\n",
       "    </tr>\n",
       "    <tr>\n",
       "      <th>...</th>\n",
       "      <td>...</td>\n",
       "      <td>...</td>\n",
       "      <td>...</td>\n",
       "      <td>...</td>\n",
       "      <td>...</td>\n",
       "    </tr>\n",
       "    <tr>\n",
       "      <th>fd4af93f-9fbd-449f-91f8-b42b830e265b</th>\n",
       "      <td>2020-01-01</td>\n",
       "      <td>1</td>\n",
       "      <td>1</td>\n",
       "      <td>569.0</td>\n",
       "      <td>569.0</td>\n",
       "    </tr>\n",
       "    <tr>\n",
       "      <th>fd4bc7b8-6ad6-4077-8e63-3593ab5e1cfd</th>\n",
       "      <td>2019-09-27</td>\n",
       "      <td>1</td>\n",
       "      <td>1</td>\n",
       "      <td>1087.0</td>\n",
       "      <td>1087.0</td>\n",
       "    </tr>\n",
       "    <tr>\n",
       "      <th>ff0c73c3-6b62-4e67-8e12-bb83ed1851d5</th>\n",
       "      <td>2019-10-31</td>\n",
       "      <td>1</td>\n",
       "      <td>1</td>\n",
       "      <td>899.0</td>\n",
       "      <td>899.0</td>\n",
       "    </tr>\n",
       "    <tr>\n",
       "      <th>ffb80538-3fda-4351-8ea9-9d2bec58bb07</th>\n",
       "      <td>2019-09-09</td>\n",
       "      <td>1</td>\n",
       "      <td>1</td>\n",
       "      <td>974.0</td>\n",
       "      <td>974.0</td>\n",
       "    </tr>\n",
       "    <tr>\n",
       "      <th>ffe82299-3f5b-4214-87fe-3d36ecccfac3</th>\n",
       "      <td>2019-10-23</td>\n",
       "      <td>1</td>\n",
       "      <td>1</td>\n",
       "      <td>577.0</td>\n",
       "      <td>577.0</td>\n",
       "    </tr>\n",
       "  </tbody>\n",
       "</table>\n",
       "<p>239 rows × 5 columns</p>\n",
       "</div>"
      ],
      "text/plain": [
       "                                           date  order_id  quantity  \\\n",
       "customer_id                                                           \n",
       "000d6849-084e-4d9f-ac03-37174eaf60c4 2019-10-16         1         4   \n",
       "00299f34-5385-4d13-9aea-c80b81658e1b 2019-10-15         1         2   \n",
       "003bbd39-0000-41ff-b7f9-2ddaec152037 2019-09-30         1         2   \n",
       "00c95d20-923e-4b45-88fc-53b12931d462 2019-12-20         1         1   \n",
       "0114e87e-78e2-49bf-9c8c-bbddd7191a3f 2019-10-16         1         1   \n",
       "...                                         ...       ...       ...   \n",
       "fd4af93f-9fbd-449f-91f8-b42b830e265b 2020-01-01         1         1   \n",
       "fd4bc7b8-6ad6-4077-8e63-3593ab5e1cfd 2019-09-27         1         1   \n",
       "ff0c73c3-6b62-4e67-8e12-bb83ed1851d5 2019-10-31         1         1   \n",
       "ffb80538-3fda-4351-8ea9-9d2bec58bb07 2019-09-09         1         1   \n",
       "ffe82299-3f5b-4214-87fe-3d36ecccfac3 2019-10-23         1         1   \n",
       "\n",
       "                                      all_price  avg_check  \n",
       "customer_id                                                 \n",
       "000d6849-084e-4d9f-ac03-37174eaf60c4      555.0      555.0  \n",
       "00299f34-5385-4d13-9aea-c80b81658e1b      914.0      914.0  \n",
       "003bbd39-0000-41ff-b7f9-2ddaec152037     2324.0     2324.0  \n",
       "00c95d20-923e-4b45-88fc-53b12931d462      186.5      186.5  \n",
       "0114e87e-78e2-49bf-9c8c-bbddd7191a3f      974.0      974.0  \n",
       "...                                         ...        ...  \n",
       "fd4af93f-9fbd-449f-91f8-b42b830e265b      569.0      569.0  \n",
       "fd4bc7b8-6ad6-4077-8e63-3593ab5e1cfd     1087.0     1087.0  \n",
       "ff0c73c3-6b62-4e67-8e12-bb83ed1851d5      899.0      899.0  \n",
       "ffb80538-3fda-4351-8ea9-9d2bec58bb07      974.0      974.0  \n",
       "ffe82299-3f5b-4214-87fe-3d36ecccfac3      577.0      577.0  \n",
       "\n",
       "[239 rows x 5 columns]"
      ]
     },
     "execution_count": 71,
     "metadata": {},
     "output_type": "execute_result"
    }
   ],
   "source": [
    "random_1 = df_customer.query('order_id == 1 and date >= @date')\n",
    "\n",
    "random_1"
   ]
  },
  {
   "cell_type": "code",
   "execution_count": 72,
   "id": "01ec7e64",
   "metadata": {},
   "outputs": [
    {
     "data": {
      "text/html": [
       "<div>\n",
       "<style scoped>\n",
       "    .dataframe tbody tr th:only-of-type {\n",
       "        vertical-align: middle;\n",
       "    }\n",
       "\n",
       "    .dataframe tbody tr th {\n",
       "        vertical-align: top;\n",
       "    }\n",
       "\n",
       "    .dataframe thead th {\n",
       "        text-align: right;\n",
       "    }\n",
       "</style>\n",
       "<table border=\"1\" class=\"dataframe\">\n",
       "  <thead>\n",
       "    <tr style=\"text-align: right;\">\n",
       "      <th></th>\n",
       "      <th>date</th>\n",
       "      <th>order_id</th>\n",
       "      <th>quantity</th>\n",
       "      <th>all_price</th>\n",
       "      <th>avg_check</th>\n",
       "    </tr>\n",
       "    <tr>\n",
       "      <th>customer_id</th>\n",
       "      <th></th>\n",
       "      <th></th>\n",
       "      <th></th>\n",
       "      <th></th>\n",
       "      <th></th>\n",
       "    </tr>\n",
       "  </thead>\n",
       "  <tbody>\n",
       "    <tr>\n",
       "      <th>005ba170-45e8-42de-93f7-192481ae2659</th>\n",
       "      <td>2019-11-06</td>\n",
       "      <td>2</td>\n",
       "      <td>3</td>\n",
       "      <td>7857.00</td>\n",
       "      <td>3928.500</td>\n",
       "    </tr>\n",
       "    <tr>\n",
       "      <th>01a53da1-c3ae-47cf-916e-7e345fe2f2bc</th>\n",
       "      <td>2020-01-13</td>\n",
       "      <td>2</td>\n",
       "      <td>2</td>\n",
       "      <td>2962.00</td>\n",
       "      <td>1481.000</td>\n",
       "    </tr>\n",
       "    <tr>\n",
       "      <th>02648fcc-ab94-4f94-ad3b-fbaef270d001</th>\n",
       "      <td>2019-11-14</td>\n",
       "      <td>2</td>\n",
       "      <td>2</td>\n",
       "      <td>2886.50</td>\n",
       "      <td>1443.250</td>\n",
       "    </tr>\n",
       "    <tr>\n",
       "      <th>036d75ea-b633-41a8-8974-3f84fee8c65e</th>\n",
       "      <td>2019-12-24</td>\n",
       "      <td>2</td>\n",
       "      <td>2</td>\n",
       "      <td>2743.50</td>\n",
       "      <td>1371.750</td>\n",
       "    </tr>\n",
       "    <tr>\n",
       "      <th>03b7b4a5-9e2c-42f9-a131-96f3d2772f17</th>\n",
       "      <td>2019-11-02</td>\n",
       "      <td>2</td>\n",
       "      <td>2</td>\n",
       "      <td>1776.00</td>\n",
       "      <td>888.000</td>\n",
       "    </tr>\n",
       "    <tr>\n",
       "      <th>...</th>\n",
       "      <td>...</td>\n",
       "      <td>...</td>\n",
       "      <td>...</td>\n",
       "      <td>...</td>\n",
       "      <td>...</td>\n",
       "    </tr>\n",
       "    <tr>\n",
       "      <th>fc7d1f38-a8cd-47ab-8d5e-3d9cedcc05cd</th>\n",
       "      <td>2019-11-30</td>\n",
       "      <td>2</td>\n",
       "      <td>2</td>\n",
       "      <td>1740.75</td>\n",
       "      <td>870.375</td>\n",
       "    </tr>\n",
       "    <tr>\n",
       "      <th>fd723976-e0e0-41bc-9f08-e81436ebfff3</th>\n",
       "      <td>2019-11-05</td>\n",
       "      <td>2</td>\n",
       "      <td>2</td>\n",
       "      <td>1693.00</td>\n",
       "      <td>846.500</td>\n",
       "    </tr>\n",
       "    <tr>\n",
       "      <th>fd9e34ca-13c6-486d-bc47-366fbfe488f8</th>\n",
       "      <td>2020-01-05</td>\n",
       "      <td>2</td>\n",
       "      <td>2</td>\n",
       "      <td>2384.00</td>\n",
       "      <td>1192.000</td>\n",
       "    </tr>\n",
       "    <tr>\n",
       "      <th>fe2ef13a-4c8f-4cad-9c2d-49b535b5857e</th>\n",
       "      <td>2020-01-22</td>\n",
       "      <td>2</td>\n",
       "      <td>2</td>\n",
       "      <td>2023.00</td>\n",
       "      <td>1011.500</td>\n",
       "    </tr>\n",
       "    <tr>\n",
       "      <th>ff601403-b094-4b86-9ac6-264d725b9277</th>\n",
       "      <td>2020-01-19</td>\n",
       "      <td>2</td>\n",
       "      <td>2</td>\n",
       "      <td>1739.00</td>\n",
       "      <td>869.500</td>\n",
       "    </tr>\n",
       "  </tbody>\n",
       "</table>\n",
       "<p>339 rows × 5 columns</p>\n",
       "</div>"
      ],
      "text/plain": [
       "                                           date  order_id  quantity  \\\n",
       "customer_id                                                           \n",
       "005ba170-45e8-42de-93f7-192481ae2659 2019-11-06         2         3   \n",
       "01a53da1-c3ae-47cf-916e-7e345fe2f2bc 2020-01-13         2         2   \n",
       "02648fcc-ab94-4f94-ad3b-fbaef270d001 2019-11-14         2         2   \n",
       "036d75ea-b633-41a8-8974-3f84fee8c65e 2019-12-24         2         2   \n",
       "03b7b4a5-9e2c-42f9-a131-96f3d2772f17 2019-11-02         2         2   \n",
       "...                                         ...       ...       ...   \n",
       "fc7d1f38-a8cd-47ab-8d5e-3d9cedcc05cd 2019-11-30         2         2   \n",
       "fd723976-e0e0-41bc-9f08-e81436ebfff3 2019-11-05         2         2   \n",
       "fd9e34ca-13c6-486d-bc47-366fbfe488f8 2020-01-05         2         2   \n",
       "fe2ef13a-4c8f-4cad-9c2d-49b535b5857e 2020-01-22         2         2   \n",
       "ff601403-b094-4b86-9ac6-264d725b9277 2020-01-19         2         2   \n",
       "\n",
       "                                      all_price  avg_check  \n",
       "customer_id                                                 \n",
       "005ba170-45e8-42de-93f7-192481ae2659    7857.00   3928.500  \n",
       "01a53da1-c3ae-47cf-916e-7e345fe2f2bc    2962.00   1481.000  \n",
       "02648fcc-ab94-4f94-ad3b-fbaef270d001    2886.50   1443.250  \n",
       "036d75ea-b633-41a8-8974-3f84fee8c65e    2743.50   1371.750  \n",
       "03b7b4a5-9e2c-42f9-a131-96f3d2772f17    1776.00    888.000  \n",
       "...                                         ...        ...  \n",
       "fc7d1f38-a8cd-47ab-8d5e-3d9cedcc05cd    1740.75    870.375  \n",
       "fd723976-e0e0-41bc-9f08-e81436ebfff3    1693.00    846.500  \n",
       "fd9e34ca-13c6-486d-bc47-366fbfe488f8    2384.00   1192.000  \n",
       "fe2ef13a-4c8f-4cad-9c2d-49b535b5857e    2023.00   1011.500  \n",
       "ff601403-b094-4b86-9ac6-264d725b9277    1739.00    869.500  \n",
       "\n",
       "[339 rows x 5 columns]"
      ]
     },
     "execution_count": 72,
     "metadata": {},
     "output_type": "execute_result"
    }
   ],
   "source": [
    "favourite_2 = df_customer.query('order_id > 1 and date >= @date and avg_check >= @check')\n",
    "\n",
    "favourite_2"
   ]
  },
  {
   "cell_type": "code",
   "execution_count": 73,
   "id": "8dac1b00",
   "metadata": {},
   "outputs": [
    {
     "data": {
      "text/html": [
       "<div>\n",
       "<style scoped>\n",
       "    .dataframe tbody tr th:only-of-type {\n",
       "        vertical-align: middle;\n",
       "    }\n",
       "\n",
       "    .dataframe tbody tr th {\n",
       "        vertical-align: top;\n",
       "    }\n",
       "\n",
       "    .dataframe thead th {\n",
       "        text-align: right;\n",
       "    }\n",
       "</style>\n",
       "<table border=\"1\" class=\"dataframe\">\n",
       "  <thead>\n",
       "    <tr style=\"text-align: right;\">\n",
       "      <th></th>\n",
       "      <th>date</th>\n",
       "      <th>order_id</th>\n",
       "      <th>quantity</th>\n",
       "      <th>all_price</th>\n",
       "      <th>avg_check</th>\n",
       "    </tr>\n",
       "    <tr>\n",
       "      <th>customer_id</th>\n",
       "      <th></th>\n",
       "      <th></th>\n",
       "      <th></th>\n",
       "      <th></th>\n",
       "      <th></th>\n",
       "    </tr>\n",
       "  </thead>\n",
       "  <tbody>\n",
       "    <tr>\n",
       "      <th>00c0f92a-121a-4883-a78d-2c7b5fe187de</th>\n",
       "      <td>2019-12-12</td>\n",
       "      <td>2</td>\n",
       "      <td>2</td>\n",
       "      <td>321.0</td>\n",
       "      <td>160.50</td>\n",
       "    </tr>\n",
       "    <tr>\n",
       "      <th>00cd704a-a65c-4865-b39a-779f1b4f1d1a</th>\n",
       "      <td>2019-12-12</td>\n",
       "      <td>2</td>\n",
       "      <td>2</td>\n",
       "      <td>213.0</td>\n",
       "      <td>106.50</td>\n",
       "    </tr>\n",
       "    <tr>\n",
       "      <th>00ff5327-0fba-481c-8a07-47a95093a213</th>\n",
       "      <td>2019-12-19</td>\n",
       "      <td>2</td>\n",
       "      <td>2</td>\n",
       "      <td>1146.5</td>\n",
       "      <td>573.25</td>\n",
       "    </tr>\n",
       "    <tr>\n",
       "      <th>01f95d43-4a8d-45e5-9c23-cccd211e6d30</th>\n",
       "      <td>2019-12-30</td>\n",
       "      <td>2</td>\n",
       "      <td>2</td>\n",
       "      <td>118.0</td>\n",
       "      <td>59.00</td>\n",
       "    </tr>\n",
       "    <tr>\n",
       "      <th>02a27adc-a1fe-4aaf-9945-1ab779979537</th>\n",
       "      <td>2020-01-22</td>\n",
       "      <td>2</td>\n",
       "      <td>2</td>\n",
       "      <td>165.0</td>\n",
       "      <td>82.50</td>\n",
       "    </tr>\n",
       "    <tr>\n",
       "      <th>...</th>\n",
       "      <td>...</td>\n",
       "      <td>...</td>\n",
       "      <td>...</td>\n",
       "      <td>...</td>\n",
       "      <td>...</td>\n",
       "    </tr>\n",
       "    <tr>\n",
       "      <th>fcd98d5f-e9d6-48da-827b-a30b4e35bbf3</th>\n",
       "      <td>2019-12-19</td>\n",
       "      <td>2</td>\n",
       "      <td>2</td>\n",
       "      <td>1108.5</td>\n",
       "      <td>554.25</td>\n",
       "    </tr>\n",
       "    <tr>\n",
       "      <th>fd003d94-d728-49ca-9b6a-f17a43786d8a</th>\n",
       "      <td>2019-11-28</td>\n",
       "      <td>2</td>\n",
       "      <td>2</td>\n",
       "      <td>599.0</td>\n",
       "      <td>299.50</td>\n",
       "    </tr>\n",
       "    <tr>\n",
       "      <th>fd81297f-0495-4045-be04-d65061ab5e98</th>\n",
       "      <td>2019-11-27</td>\n",
       "      <td>2</td>\n",
       "      <td>2</td>\n",
       "      <td>899.0</td>\n",
       "      <td>449.50</td>\n",
       "    </tr>\n",
       "    <tr>\n",
       "      <th>fe3e6382-3272-4045-8601-c9acfc08006f</th>\n",
       "      <td>2019-12-10</td>\n",
       "      <td>2</td>\n",
       "      <td>2</td>\n",
       "      <td>636.0</td>\n",
       "      <td>318.00</td>\n",
       "    </tr>\n",
       "    <tr>\n",
       "      <th>fef19457-5e7b-4d5d-b031-806041bc251a</th>\n",
       "      <td>2019-11-21</td>\n",
       "      <td>2</td>\n",
       "      <td>2</td>\n",
       "      <td>839.0</td>\n",
       "      <td>419.50</td>\n",
       "    </tr>\n",
       "  </tbody>\n",
       "</table>\n",
       "<p>400 rows × 5 columns</p>\n",
       "</div>"
      ],
      "text/plain": [
       "                                           date  order_id  quantity  \\\n",
       "customer_id                                                           \n",
       "00c0f92a-121a-4883-a78d-2c7b5fe187de 2019-12-12         2         2   \n",
       "00cd704a-a65c-4865-b39a-779f1b4f1d1a 2019-12-12         2         2   \n",
       "00ff5327-0fba-481c-8a07-47a95093a213 2019-12-19         2         2   \n",
       "01f95d43-4a8d-45e5-9c23-cccd211e6d30 2019-12-30         2         2   \n",
       "02a27adc-a1fe-4aaf-9945-1ab779979537 2020-01-22         2         2   \n",
       "...                                         ...       ...       ...   \n",
       "fcd98d5f-e9d6-48da-827b-a30b4e35bbf3 2019-12-19         2         2   \n",
       "fd003d94-d728-49ca-9b6a-f17a43786d8a 2019-11-28         2         2   \n",
       "fd81297f-0495-4045-be04-d65061ab5e98 2019-11-27         2         2   \n",
       "fe3e6382-3272-4045-8601-c9acfc08006f 2019-12-10         2         2   \n",
       "fef19457-5e7b-4d5d-b031-806041bc251a 2019-11-21         2         2   \n",
       "\n",
       "                                      all_price  avg_check  \n",
       "customer_id                                                 \n",
       "00c0f92a-121a-4883-a78d-2c7b5fe187de      321.0     160.50  \n",
       "00cd704a-a65c-4865-b39a-779f1b4f1d1a      213.0     106.50  \n",
       "00ff5327-0fba-481c-8a07-47a95093a213     1146.5     573.25  \n",
       "01f95d43-4a8d-45e5-9c23-cccd211e6d30      118.0      59.00  \n",
       "02a27adc-a1fe-4aaf-9945-1ab779979537      165.0      82.50  \n",
       "...                                         ...        ...  \n",
       "fcd98d5f-e9d6-48da-827b-a30b4e35bbf3     1108.5     554.25  \n",
       "fd003d94-d728-49ca-9b6a-f17a43786d8a      599.0     299.50  \n",
       "fd81297f-0495-4045-be04-d65061ab5e98      899.0     449.50  \n",
       "fe3e6382-3272-4045-8601-c9acfc08006f      636.0     318.00  \n",
       "fef19457-5e7b-4d5d-b031-806041bc251a      839.0     419.50  \n",
       "\n",
       "[400 rows x 5 columns]"
      ]
     },
     "execution_count": 73,
     "metadata": {},
     "output_type": "execute_result"
    }
   ],
   "source": [
    "permanent_3 = df_customer.query('order_id > 1 and date >= @date and avg_check < @check')\n",
    "\n",
    "permanent_3"
   ]
  },
  {
   "cell_type": "code",
   "execution_count": 74,
   "id": "1dff4394",
   "metadata": {
    "scrolled": true
   },
   "outputs": [
    {
     "data": {
      "text/html": [
       "<div>\n",
       "<style scoped>\n",
       "    .dataframe tbody tr th:only-of-type {\n",
       "        vertical-align: middle;\n",
       "    }\n",
       "\n",
       "    .dataframe tbody tr th {\n",
       "        vertical-align: top;\n",
       "    }\n",
       "\n",
       "    .dataframe thead th {\n",
       "        text-align: right;\n",
       "    }\n",
       "</style>\n",
       "<table border=\"1\" class=\"dataframe\">\n",
       "  <thead>\n",
       "    <tr style=\"text-align: right;\">\n",
       "      <th></th>\n",
       "      <th>date</th>\n",
       "      <th>order_id</th>\n",
       "      <th>quantity</th>\n",
       "      <th>all_price</th>\n",
       "      <th>avg_check</th>\n",
       "    </tr>\n",
       "    <tr>\n",
       "      <th>customer_id</th>\n",
       "      <th></th>\n",
       "      <th></th>\n",
       "      <th></th>\n",
       "      <th></th>\n",
       "      <th></th>\n",
       "    </tr>\n",
       "  </thead>\n",
       "  <tbody>\n",
       "    <tr>\n",
       "      <th>001cee7f-0b29-4716-b202-0042213ab038</th>\n",
       "      <td>2019-02-16</td>\n",
       "      <td>1</td>\n",
       "      <td>1</td>\n",
       "      <td>442.0</td>\n",
       "      <td>442.000000</td>\n",
       "    </tr>\n",
       "    <tr>\n",
       "      <th>002d4d3a-4a59-406b-86ec-c3314357e498</th>\n",
       "      <td>2019-01-28</td>\n",
       "      <td>1</td>\n",
       "      <td>1</td>\n",
       "      <td>1649.0</td>\n",
       "      <td>1649.000000</td>\n",
       "    </tr>\n",
       "    <tr>\n",
       "      <th>00bd74b1-2792-47db-a2f1-680a09ac5026</th>\n",
       "      <td>2018-10-21</td>\n",
       "      <td>1</td>\n",
       "      <td>1</td>\n",
       "      <td>937.0</td>\n",
       "      <td>937.000000</td>\n",
       "    </tr>\n",
       "    <tr>\n",
       "      <th>00e59a12-06d5-47fc-9a33-bfc53aca1e9f</th>\n",
       "      <td>2019-07-14</td>\n",
       "      <td>1</td>\n",
       "      <td>2</td>\n",
       "      <td>1798.0</td>\n",
       "      <td>1798.000000</td>\n",
       "    </tr>\n",
       "    <tr>\n",
       "      <th>0131d2f9-e553-4cb6-ac85-f96e9cb7cb47</th>\n",
       "      <td>2019-08-16</td>\n",
       "      <td>1</td>\n",
       "      <td>1</td>\n",
       "      <td>1574.0</td>\n",
       "      <td>1574.000000</td>\n",
       "    </tr>\n",
       "    <tr>\n",
       "      <th>...</th>\n",
       "      <td>...</td>\n",
       "      <td>...</td>\n",
       "      <td>...</td>\n",
       "      <td>...</td>\n",
       "      <td>...</td>\n",
       "    </tr>\n",
       "    <tr>\n",
       "      <th>fe7fbb35-03de-4f95-9386-14439d62c03e</th>\n",
       "      <td>2019-02-21</td>\n",
       "      <td>1</td>\n",
       "      <td>2</td>\n",
       "      <td>374.0</td>\n",
       "      <td>374.000000</td>\n",
       "    </tr>\n",
       "    <tr>\n",
       "      <th>fe83266d-760d-4b93-8905-586dd96012b1</th>\n",
       "      <td>2018-12-21</td>\n",
       "      <td>1</td>\n",
       "      <td>1</td>\n",
       "      <td>1049.0</td>\n",
       "      <td>1049.000000</td>\n",
       "    </tr>\n",
       "    <tr>\n",
       "      <th>fe99fee2-d40c-4ef9-a589-8679f42076fa</th>\n",
       "      <td>2019-02-09</td>\n",
       "      <td>1</td>\n",
       "      <td>1</td>\n",
       "      <td>292.0</td>\n",
       "      <td>292.000000</td>\n",
       "    </tr>\n",
       "    <tr>\n",
       "      <th>feeaebd0-2c7c-4408-a75a-0081d395888f</th>\n",
       "      <td>2019-04-02</td>\n",
       "      <td>1</td>\n",
       "      <td>6</td>\n",
       "      <td>84.0</td>\n",
       "      <td>84.000000</td>\n",
       "    </tr>\n",
       "    <tr>\n",
       "      <th>ff422162-fc4a-4b65-a0e2-17f5095ea2c6</th>\n",
       "      <td>2019-03-12</td>\n",
       "      <td>3</td>\n",
       "      <td>3</td>\n",
       "      <td>1610.0</td>\n",
       "      <td>536.666667</td>\n",
       "    </tr>\n",
       "  </tbody>\n",
       "</table>\n",
       "<p>1183 rows × 5 columns</p>\n",
       "</div>"
      ],
      "text/plain": [
       "                                           date  order_id  quantity  \\\n",
       "customer_id                                                           \n",
       "001cee7f-0b29-4716-b202-0042213ab038 2019-02-16         1         1   \n",
       "002d4d3a-4a59-406b-86ec-c3314357e498 2019-01-28         1         1   \n",
       "00bd74b1-2792-47db-a2f1-680a09ac5026 2018-10-21         1         1   \n",
       "00e59a12-06d5-47fc-9a33-bfc53aca1e9f 2019-07-14         1         2   \n",
       "0131d2f9-e553-4cb6-ac85-f96e9cb7cb47 2019-08-16         1         1   \n",
       "...                                         ...       ...       ...   \n",
       "fe7fbb35-03de-4f95-9386-14439d62c03e 2019-02-21         1         2   \n",
       "fe83266d-760d-4b93-8905-586dd96012b1 2018-12-21         1         1   \n",
       "fe99fee2-d40c-4ef9-a589-8679f42076fa 2019-02-09         1         1   \n",
       "feeaebd0-2c7c-4408-a75a-0081d395888f 2019-04-02         1         6   \n",
       "ff422162-fc4a-4b65-a0e2-17f5095ea2c6 2019-03-12         3         3   \n",
       "\n",
       "                                      all_price    avg_check  \n",
       "customer_id                                                   \n",
       "001cee7f-0b29-4716-b202-0042213ab038      442.0   442.000000  \n",
       "002d4d3a-4a59-406b-86ec-c3314357e498     1649.0  1649.000000  \n",
       "00bd74b1-2792-47db-a2f1-680a09ac5026      937.0   937.000000  \n",
       "00e59a12-06d5-47fc-9a33-bfc53aca1e9f     1798.0  1798.000000  \n",
       "0131d2f9-e553-4cb6-ac85-f96e9cb7cb47     1574.0  1574.000000  \n",
       "...                                         ...          ...  \n",
       "fe7fbb35-03de-4f95-9386-14439d62c03e      374.0   374.000000  \n",
       "fe83266d-760d-4b93-8905-586dd96012b1     1049.0  1049.000000  \n",
       "fe99fee2-d40c-4ef9-a589-8679f42076fa      292.0   292.000000  \n",
       "feeaebd0-2c7c-4408-a75a-0081d395888f       84.0    84.000000  \n",
       "ff422162-fc4a-4b65-a0e2-17f5095ea2c6     1610.0   536.666667  \n",
       "\n",
       "[1183 rows x 5 columns]"
      ]
     },
     "execution_count": 74,
     "metadata": {},
     "output_type": "execute_result"
    }
   ],
   "source": [
    "former_4 = df_customer.query('date < @date ')\n",
    "\n",
    "former_4"
   ]
  },
  {
   "cell_type": "markdown",
   "id": "a61cd802",
   "metadata": {},
   "source": [
    "Отлично, клиенты разделены на группы. Проверим, есть ли пересечения в этих группах."
   ]
  },
  {
   "cell_type": "code",
   "execution_count": 75,
   "id": "f4708f12",
   "metadata": {},
   "outputs": [
    {
     "data": {
      "text/html": [
       "<div>\n",
       "<style scoped>\n",
       "    .dataframe tbody tr th:only-of-type {\n",
       "        vertical-align: middle;\n",
       "    }\n",
       "\n",
       "    .dataframe tbody tr th {\n",
       "        vertical-align: top;\n",
       "    }\n",
       "\n",
       "    .dataframe thead th {\n",
       "        text-align: right;\n",
       "    }\n",
       "</style>\n",
       "<table border=\"1\" class=\"dataframe\">\n",
       "  <thead>\n",
       "    <tr style=\"text-align: right;\">\n",
       "      <th></th>\n",
       "      <th>date</th>\n",
       "      <th>order_id</th>\n",
       "      <th>quantity</th>\n",
       "      <th>all_price</th>\n",
       "      <th>avg_check</th>\n",
       "    </tr>\n",
       "    <tr>\n",
       "      <th>customer_id</th>\n",
       "      <th></th>\n",
       "      <th></th>\n",
       "      <th></th>\n",
       "      <th></th>\n",
       "      <th></th>\n",
       "    </tr>\n",
       "  </thead>\n",
       "  <tbody>\n",
       "  </tbody>\n",
       "</table>\n",
       "</div>"
      ],
      "text/plain": [
       "Empty DataFrame\n",
       "Columns: [date, order_id, quantity, all_price, avg_check]\n",
       "Index: []"
      ]
     },
     "execution_count": 75,
     "metadata": {},
     "output_type": "execute_result"
    }
   ],
   "source": [
    "random_1.query('index in @favourite_2.index')"
   ]
  },
  {
   "cell_type": "code",
   "execution_count": 76,
   "id": "24022ed3",
   "metadata": {},
   "outputs": [
    {
     "data": {
      "text/html": [
       "<div>\n",
       "<style scoped>\n",
       "    .dataframe tbody tr th:only-of-type {\n",
       "        vertical-align: middle;\n",
       "    }\n",
       "\n",
       "    .dataframe tbody tr th {\n",
       "        vertical-align: top;\n",
       "    }\n",
       "\n",
       "    .dataframe thead th {\n",
       "        text-align: right;\n",
       "    }\n",
       "</style>\n",
       "<table border=\"1\" class=\"dataframe\">\n",
       "  <thead>\n",
       "    <tr style=\"text-align: right;\">\n",
       "      <th></th>\n",
       "      <th>date</th>\n",
       "      <th>order_id</th>\n",
       "      <th>quantity</th>\n",
       "      <th>all_price</th>\n",
       "      <th>avg_check</th>\n",
       "    </tr>\n",
       "    <tr>\n",
       "      <th>customer_id</th>\n",
       "      <th></th>\n",
       "      <th></th>\n",
       "      <th></th>\n",
       "      <th></th>\n",
       "      <th></th>\n",
       "    </tr>\n",
       "  </thead>\n",
       "  <tbody>\n",
       "  </tbody>\n",
       "</table>\n",
       "</div>"
      ],
      "text/plain": [
       "Empty DataFrame\n",
       "Columns: [date, order_id, quantity, all_price, avg_check]\n",
       "Index: []"
      ]
     },
     "execution_count": 76,
     "metadata": {},
     "output_type": "execute_result"
    }
   ],
   "source": [
    "random_1.query('index in @permanent_3.index')"
   ]
  },
  {
   "cell_type": "code",
   "execution_count": 77,
   "id": "08c41b96",
   "metadata": {},
   "outputs": [
    {
     "data": {
      "text/html": [
       "<div>\n",
       "<style scoped>\n",
       "    .dataframe tbody tr th:only-of-type {\n",
       "        vertical-align: middle;\n",
       "    }\n",
       "\n",
       "    .dataframe tbody tr th {\n",
       "        vertical-align: top;\n",
       "    }\n",
       "\n",
       "    .dataframe thead th {\n",
       "        text-align: right;\n",
       "    }\n",
       "</style>\n",
       "<table border=\"1\" class=\"dataframe\">\n",
       "  <thead>\n",
       "    <tr style=\"text-align: right;\">\n",
       "      <th></th>\n",
       "      <th>date</th>\n",
       "      <th>order_id</th>\n",
       "      <th>quantity</th>\n",
       "      <th>all_price</th>\n",
       "      <th>avg_check</th>\n",
       "    </tr>\n",
       "    <tr>\n",
       "      <th>customer_id</th>\n",
       "      <th></th>\n",
       "      <th></th>\n",
       "      <th></th>\n",
       "      <th></th>\n",
       "      <th></th>\n",
       "    </tr>\n",
       "  </thead>\n",
       "  <tbody>\n",
       "  </tbody>\n",
       "</table>\n",
       "</div>"
      ],
      "text/plain": [
       "Empty DataFrame\n",
       "Columns: [date, order_id, quantity, all_price, avg_check]\n",
       "Index: []"
      ]
     },
     "execution_count": 77,
     "metadata": {},
     "output_type": "execute_result"
    }
   ],
   "source": [
    "random_1.query('index in @former_4.index')"
   ]
  },
  {
   "cell_type": "code",
   "execution_count": 78,
   "id": "0b7d5883",
   "metadata": {},
   "outputs": [
    {
     "data": {
      "text/html": [
       "<div>\n",
       "<style scoped>\n",
       "    .dataframe tbody tr th:only-of-type {\n",
       "        vertical-align: middle;\n",
       "    }\n",
       "\n",
       "    .dataframe tbody tr th {\n",
       "        vertical-align: top;\n",
       "    }\n",
       "\n",
       "    .dataframe thead th {\n",
       "        text-align: right;\n",
       "    }\n",
       "</style>\n",
       "<table border=\"1\" class=\"dataframe\">\n",
       "  <thead>\n",
       "    <tr style=\"text-align: right;\">\n",
       "      <th></th>\n",
       "      <th>date</th>\n",
       "      <th>order_id</th>\n",
       "      <th>quantity</th>\n",
       "      <th>all_price</th>\n",
       "      <th>avg_check</th>\n",
       "    </tr>\n",
       "    <tr>\n",
       "      <th>customer_id</th>\n",
       "      <th></th>\n",
       "      <th></th>\n",
       "      <th></th>\n",
       "      <th></th>\n",
       "      <th></th>\n",
       "    </tr>\n",
       "  </thead>\n",
       "  <tbody>\n",
       "  </tbody>\n",
       "</table>\n",
       "</div>"
      ],
      "text/plain": [
       "Empty DataFrame\n",
       "Columns: [date, order_id, quantity, all_price, avg_check]\n",
       "Index: []"
      ]
     },
     "execution_count": 78,
     "metadata": {},
     "output_type": "execute_result"
    }
   ],
   "source": [
    "favourite_2.query('index in @permanent_3.index')"
   ]
  },
  {
   "cell_type": "code",
   "execution_count": 79,
   "id": "62c2753f",
   "metadata": {},
   "outputs": [
    {
     "data": {
      "text/html": [
       "<div>\n",
       "<style scoped>\n",
       "    .dataframe tbody tr th:only-of-type {\n",
       "        vertical-align: middle;\n",
       "    }\n",
       "\n",
       "    .dataframe tbody tr th {\n",
       "        vertical-align: top;\n",
       "    }\n",
       "\n",
       "    .dataframe thead th {\n",
       "        text-align: right;\n",
       "    }\n",
       "</style>\n",
       "<table border=\"1\" class=\"dataframe\">\n",
       "  <thead>\n",
       "    <tr style=\"text-align: right;\">\n",
       "      <th></th>\n",
       "      <th>date</th>\n",
       "      <th>order_id</th>\n",
       "      <th>quantity</th>\n",
       "      <th>all_price</th>\n",
       "      <th>avg_check</th>\n",
       "    </tr>\n",
       "    <tr>\n",
       "      <th>customer_id</th>\n",
       "      <th></th>\n",
       "      <th></th>\n",
       "      <th></th>\n",
       "      <th></th>\n",
       "      <th></th>\n",
       "    </tr>\n",
       "  </thead>\n",
       "  <tbody>\n",
       "  </tbody>\n",
       "</table>\n",
       "</div>"
      ],
      "text/plain": [
       "Empty DataFrame\n",
       "Columns: [date, order_id, quantity, all_price, avg_check]\n",
       "Index: []"
      ]
     },
     "execution_count": 79,
     "metadata": {},
     "output_type": "execute_result"
    }
   ],
   "source": [
    "favourite_2.query('index in @former_4.index')"
   ]
  },
  {
   "cell_type": "code",
   "execution_count": 80,
   "id": "d64185a7",
   "metadata": {},
   "outputs": [
    {
     "data": {
      "text/html": [
       "<div>\n",
       "<style scoped>\n",
       "    .dataframe tbody tr th:only-of-type {\n",
       "        vertical-align: middle;\n",
       "    }\n",
       "\n",
       "    .dataframe tbody tr th {\n",
       "        vertical-align: top;\n",
       "    }\n",
       "\n",
       "    .dataframe thead th {\n",
       "        text-align: right;\n",
       "    }\n",
       "</style>\n",
       "<table border=\"1\" class=\"dataframe\">\n",
       "  <thead>\n",
       "    <tr style=\"text-align: right;\">\n",
       "      <th></th>\n",
       "      <th>date</th>\n",
       "      <th>order_id</th>\n",
       "      <th>quantity</th>\n",
       "      <th>all_price</th>\n",
       "      <th>avg_check</th>\n",
       "    </tr>\n",
       "    <tr>\n",
       "      <th>customer_id</th>\n",
       "      <th></th>\n",
       "      <th></th>\n",
       "      <th></th>\n",
       "      <th></th>\n",
       "      <th></th>\n",
       "    </tr>\n",
       "  </thead>\n",
       "  <tbody>\n",
       "  </tbody>\n",
       "</table>\n",
       "</div>"
      ],
      "text/plain": [
       "Empty DataFrame\n",
       "Columns: [date, order_id, quantity, all_price, avg_check]\n",
       "Index: []"
      ]
     },
     "execution_count": 80,
     "metadata": {},
     "output_type": "execute_result"
    }
   ],
   "source": [
    "permanent_3.query('index in @former_4.index')"
   ]
  },
  {
   "cell_type": "markdown",
   "id": "e21e3acb",
   "metadata": {},
   "source": [
    "Пересечений между группами не найдено, можно идти дальше."
   ]
  },
  {
   "cell_type": "markdown",
   "id": "e7f18793",
   "metadata": {},
   "source": [
    "**Рекомендации:**  \n",
    "- Категория `случайные` - оставьте отзыв (это будет полезно для всех категорий, но именно для новых клиентов хорошо произвести первое впечатление), предложение специально для вас - .... .\n",
    "- Категория `любимые` клиенты максимально лояльна - предлагаем их пригласить друзей - рассылку на подобие \"приведи друга, получи бонус\".\n",
    "- Категория `постоянные` - скидка или кешбэк от покупки более чем на 700 рублей (чуть выше порогового значения), чтобы \"вытянуть\" их чек выше.\n",
    "- Категория `бывшие` - предложения на возвращаемость - мы вас ждем, начислили вам .... бонусов на покупки или дарим скидку 15% действует неделю."
   ]
  },
  {
   "cell_type": "markdown",
   "id": "880f4f54",
   "metadata": {},
   "source": [
    "## Проверка гипотез."
   ]
  },
  {
   "cell_type": "markdown",
   "id": "9d46512c",
   "metadata": {},
   "source": [
    "Проверим имеет ли статистическую значимость разница между сегментами клиентов. Для проверки возьмем показатель выручки."
   ]
  },
  {
   "cell_type": "markdown",
   "id": "d29fba9b",
   "metadata": {},
   "source": [
    "### Подготовим данные для проведения теста"
   ]
  },
  {
   "cell_type": "markdown",
   "id": "fd69f6f0",
   "metadata": {},
   "source": [
    "Оставим для каждой группы показатель выручки, отсортируем и очистим по 99-перцентилю, чтобы убрать аномальные значения выручки с клиента и оставить при этом максимум данных для проверки гипотез."
   ]
  },
  {
   "cell_type": "markdown",
   "id": "89731ef8",
   "metadata": {},
   "source": [
    "Группа **случайные клиенты**."
   ]
  },
  {
   "cell_type": "code",
   "execution_count": 81,
   "id": "66cb875d",
   "metadata": {},
   "outputs": [],
   "source": [
    "rangom = random_1['all_price'].sort_values()\n",
    "\n",
    "percentile = np.percentile(rangom, 99)\n",
    "\n",
    "rangom_filtr = rangom[rangom <= percentile]"
   ]
  },
  {
   "cell_type": "markdown",
   "id": "4ad6a318",
   "metadata": {},
   "source": [
    "Группа **любимые клиенты**."
   ]
  },
  {
   "cell_type": "code",
   "execution_count": 82,
   "id": "2ccc060a",
   "metadata": {},
   "outputs": [],
   "source": [
    "favourite = favourite_2['all_price'].sort_values()\n",
    "\n",
    "percentile = np.percentile(favourite, 99)\n",
    "\n",
    "favourite_filtr = favourite[favourite <= percentile]"
   ]
  },
  {
   "cell_type": "markdown",
   "id": "54fb78d4",
   "metadata": {},
   "source": [
    "Группа **постоянные клиенты**."
   ]
  },
  {
   "cell_type": "code",
   "execution_count": 83,
   "id": "4732e480",
   "metadata": {},
   "outputs": [],
   "source": [
    "permanent = permanent_3['all_price'].sort_values()\n",
    "\n",
    "percentile = np.percentile(permanent, 99)\n",
    "\n",
    "permanent_filtr = permanent[permanent <= percentile]"
   ]
  },
  {
   "cell_type": "markdown",
   "id": "3473d5f9",
   "metadata": {},
   "source": [
    "Группа **бывшие клиенты**."
   ]
  },
  {
   "cell_type": "code",
   "execution_count": 84,
   "id": "82bba4b4",
   "metadata": {},
   "outputs": [],
   "source": [
    "former = former_4['all_price'].sort_values()\n",
    "\n",
    "percentile = np.percentile(former, 99)\n",
    "\n",
    "former_filtr = former[former <= percentile]"
   ]
  },
  {
   "cell_type": "markdown",
   "id": "aea9a4c2",
   "metadata": {},
   "source": [
    "Данные очищены, можно приступать к анализу."
   ]
  },
  {
   "cell_type": "markdown",
   "id": "5376b1f4",
   "metadata": {},
   "source": [
    "### Создание функции для проверки гипотез"
   ]
  },
  {
   "cell_type": "markdown",
   "id": "3198050a",
   "metadata": {},
   "source": [
    "Создадим функцию для более быстрой проверки гипотез."
   ]
  },
  {
   "cell_type": "code",
   "execution_count": 85,
   "id": "6795c6d1",
   "metadata": {},
   "outputs": [],
   "source": [
    "alpha = 0.05\n",
    "def test (A, B):\n",
    "    results = st.ttest_ind(A, B)[1]\n",
    "\n",
    "    print(\"p-value {0:.3f}\".format(results))\n",
    "    print(\"Относительная разница группы B относительно А {0:.3f}\".format(B.mean() / A.mean() - 1))\n",
    "\n",
    "    if results < alpha:\n",
    "        print('Отвергаем нулевую гипотезу: разница между средним значением выручки есть')\n",
    "    else:\n",
    "        print('Не получилось отвергнуть нулевую гипотезу, вывод о различии сделать нельзя')"
   ]
  },
  {
   "cell_type": "markdown",
   "id": "65d2d786",
   "metadata": {},
   "source": [
    "### Проверка гипотез"
   ]
  },
  {
   "cell_type": "markdown",
   "id": "91ddce31",
   "metadata": {},
   "source": [
    "**Для всех тестов возьмем гипотезы:**  \n",
    "Нулевая гипотеза: различий в среднем значении выручки на клиента между группами нет.  \n",
    "Альтернативная: различия в среднем значении выручки между группами есть.  \n",
    "Возьмем alpha равным 0.05 и применим поправку Бонферрони."
   ]
  },
  {
   "cell_type": "code",
   "execution_count": 86,
   "id": "c8c70bde",
   "metadata": {},
   "outputs": [],
   "source": [
    "alpha = 0.05/6"
   ]
  },
  {
   "cell_type": "markdown",
   "id": "c9e85eb2",
   "metadata": {},
   "source": [
    "**Сравненение групп случайные клиенты и любимые клиенты**"
   ]
  },
  {
   "cell_type": "code",
   "execution_count": 87,
   "id": "6cea98a7",
   "metadata": {},
   "outputs": [
    {
     "name": "stdout",
     "output_type": "stream",
     "text": [
      "p-value 0.000\n",
      "Относительная разница группы B относительно А 2.242\n",
      "Отвергаем нулевую гипотезу: разница между средним значением выручки есть\n"
     ]
    }
   ],
   "source": [
    "test (rangom_filtr, favourite_filtr)"
   ]
  },
  {
   "cell_type": "markdown",
   "id": "bae40f6f",
   "metadata": {},
   "source": [
    "**Сравненение групп случайные клиенты и постоянные клиенты**"
   ]
  },
  {
   "cell_type": "code",
   "execution_count": 88,
   "id": "76f83a08",
   "metadata": {},
   "outputs": [
    {
     "name": "stdout",
     "output_type": "stream",
     "text": [
      "p-value 0.000\n",
      "Относительная разница группы B относительно А -0.330\n",
      "Отвергаем нулевую гипотезу: разница между средним значением выручки есть\n"
     ]
    }
   ],
   "source": [
    "test (rangom_filtr, permanent_filtr)"
   ]
  },
  {
   "cell_type": "markdown",
   "id": "d1993162",
   "metadata": {},
   "source": [
    "**Сравненение групп случайные клиенты и бывшие клиенты**"
   ]
  },
  {
   "cell_type": "code",
   "execution_count": 89,
   "id": "b70b38ce",
   "metadata": {},
   "outputs": [
    {
     "name": "stdout",
     "output_type": "stream",
     "text": [
      "p-value 0.005\n",
      "Относительная разница группы B относительно А 0.297\n",
      "Отвергаем нулевую гипотезу: разница между средним значением выручки есть\n"
     ]
    }
   ],
   "source": [
    "test (rangom_filtr, former_filtr)"
   ]
  },
  {
   "cell_type": "markdown",
   "id": "6a7c4372",
   "metadata": {},
   "source": [
    "**Сравненение групп любимые клиенты и постоянные клиенты**"
   ]
  },
  {
   "cell_type": "code",
   "execution_count": 90,
   "id": "18e44e93",
   "metadata": {},
   "outputs": [
    {
     "name": "stdout",
     "output_type": "stream",
     "text": [
      "p-value 0.000\n",
      "Относительная разница группы B относительно А -0.793\n",
      "Отвергаем нулевую гипотезу: разница между средним значением выручки есть\n"
     ]
    }
   ],
   "source": [
    "test (favourite_filtr, permanent_filtr)"
   ]
  },
  {
   "cell_type": "markdown",
   "id": "97df0825",
   "metadata": {},
   "source": [
    "**Сравненение групп любимые клиенты и бывшие клиенты**"
   ]
  },
  {
   "cell_type": "code",
   "execution_count": 91,
   "id": "c414d391",
   "metadata": {},
   "outputs": [
    {
     "name": "stdout",
     "output_type": "stream",
     "text": [
      "p-value 0.000\n",
      "Относительная разница группы B относительно А -0.600\n",
      "Отвергаем нулевую гипотезу: разница между средним значением выручки есть\n"
     ]
    }
   ],
   "source": [
    "test (favourite_filtr, former_filtr)"
   ]
  },
  {
   "cell_type": "markdown",
   "id": "42413055",
   "metadata": {},
   "source": [
    "**Сравненение групп постоянные клиенты и бывшие клиенты**"
   ]
  },
  {
   "cell_type": "code",
   "execution_count": 92,
   "id": "25d78b7f",
   "metadata": {},
   "outputs": [
    {
     "name": "stdout",
     "output_type": "stream",
     "text": [
      "p-value 0.000\n",
      "Относительная разница группы B относительно А 0.935\n",
      "Отвергаем нулевую гипотезу: разница между средним значением выручки есть\n"
     ]
    }
   ],
   "source": [
    "test (permanent_filtr, former_filtr)"
   ]
  },
  {
   "cell_type": "markdown",
   "id": "e999d1eb",
   "metadata": {},
   "source": [
    "**Вывод:**  \n",
    "Мы видим, что разница в среднем значении выручки по всем группам между собой имеет статистическую значимость."
   ]
  },
  {
   "cell_type": "markdown",
   "id": "136b2d38",
   "metadata": {},
   "source": [
    "## Вывод"
   ]
  },
  {
   "cell_type": "markdown",
   "id": "e361e31a",
   "metadata": {},
   "source": [
    "**1. Анализ данных:**  \n",
    "- Аномалий в столбце `date` не обнаружено. Данные предоставлены за период с 10 октября 2018 года по 1 февраля 2020 года.\n",
    "- В датасете 2451 уникальных клиентов, 3521 уникальный заказ.  \n",
    "Поскольку строк в таблице больше (7474), чем количество покупателей и заказов, то можно сказть, что некоторые покупатели совершали не одну покупку и в покупке бывает несколько позиций.\n",
    "- Чаще всего товары заказывают по 1й позиции (в 82,57% случаев) и редко - больше.\n",
    "- Большинство товаров стоят до 1000 рублей. Есть аномально высокие цены товаров, изучив подробнее информацию о данных товаров, пришли к выводу, что ошибок в данных нет.\n",
    "-  Разделили все товары на 2 примерно одинаковые категории - `растения`(4022 сторок) и `для дома`(3182 строки). Для избежания ошибок при делении на категории оставили только 2. Если есть дополнительные данные, поясняющие категории, деление в дальнейшем можно проводить по ним.\n",
    "- Количество товаров в категории \"растения\" продано на 7,2% меньше, и выручка значительно выше от продаж в категории \"для дома\"(85,3% от общего числа).  \n",
    "В категории товаров \"для дома\" более догоростоящие товары. \n",
    "В категории товаров `для дома` более догоростоящие товары.\n",
    "- Чаще всего в чеке 1 товар. Заказы, где более 30 позиций в чеке мы убрали для дальнейшего анализа, признав аномалиями.\n",
    "- Средний чек за весь период - 1029,63 руб.  \n",
    "Самый высокий средний чек был в ноябре 2018 года (1486,4 руб). А самый низкий в ноябре 2019 года - 565,72 руб.  \n",
    "По среднему чеку заметно снижение динамики.\n",
    "- Мы видим постеменное снижение выручки за период и спады в январе, июне и ноябре.  \n",
    "Посмотрим распределение количества заказов во времени.\n",
    "- По заказам мы видим провал в январе и июне 2019г (менее 150 заказов в месяц), а самый высокий показатель количества заказов в январе 2020г (более 250). С учетом того, что все остальные метрики к 2020 году снижаются, можно предположить, что в этот период начали закупаться \"дешевыми\" товарами.\n",
    "- Большинство клиентов за анализируемый период совершали покупку в магазине 1-2 раза. Также есть клиент, который за период совершил покупку 117 раз, можно предположить, что это покупка некой организаци.\n",
    "- Большинство клиентов за предоставленный период потратили в магазине до 1000 рублей.\n",
    "- Пользователей, которые сделали последний заказ с октября 2019г по январь 2020г больше, чем в остальные периоды. Для деления на категории можно выбрать пограничную дату 1 сентября 2019 года.\n",
    "- Чаще всего значение среднего чека для одного клиента приходится на сумму до 600 руб и совсем редко значение среднего чека превышает 3000 руб."
   ]
  },
  {
   "cell_type": "markdown",
   "id": "ceada532",
   "metadata": {},
   "source": [
    "**2. Формирование сегментов клиентов**  \n",
    "  \n",
    "Сформированы 4 сегмента клиентов:  \n",
    "1. **Случайные клиенты** (random_1 ) - сделали заказ 1 раз (недавно). 1 случайная покупка, еще непонятно, понравилось клиенту или нет. \n",
    "2. **Любимые клиенты** (favourite_2) - недавно заказывали, сделили больше 2 заказов + высокий средний чек. Они про компанию помнят и посещают достаточно регулярно и готовы оставлять больше денег, чем остальные клиенты.\n",
    "3. **Постоянные клиенты** (permanent_3) - надавно заказывали, сделили больше 2 заказов + низкий средний чек. Клиенты, которые уже были несколько раз, но пока оставляют не такие высокие суммы, как хотелось бы.\n",
    "4. **Бывшие клиенты** (former_4) - давно не заказывали. Включаем сюда и тех, кто делал только 1 заказ, т.к. они про компанию скорее всего тоже забыли и могут быть использованы те же активности, что и на тех, кто давно не заказывал.\n",
    "  \n",
    "**Рекомендации:**  \n",
    "- Категория `случайные` - оставьте отзыв (это будет полезно для всех категорий, но именно для новых клиентов хорошо произвести первое впечатление), предложение специально для вас - .... .\n",
    "- Категория `любимые` клиенты максимально лояльна - предлагаем их пригласить друзей - рассылку на подобие \"приведи друга, получи бонус\".\n",
    "- Категория `постоянные` - скидка или кешбэк от покупки более чем на 700 рублей (чуть выше порогового значения), чтобы \"вытянуть\" их чек выше.\n",
    "- Категория `бывшие` - предложения на возвращаемость - мы вас ждем, начислили вам .... бонусов на покупки или дарим скидку 15% действует неделю.  \n",
    "  \n",
    "Однако, для формирования более точных сегментов было бы хорошо проанализировать данные за 2 года, чтобы оценить сезонность."
   ]
  },
  {
   "cell_type": "markdown",
   "id": "fe838167",
   "metadata": {},
   "source": [
    "**3. Проверка полученных сегментов на наличия статистически значимых различий.**  \n",
    "  \n",
    "Предварительно очистив данные, для проведения теста мы выбрали такой показатель как выручка.  \n",
    "По итогам проведения теста - разница в среднем значении выручки по всем группам между собой имеет статистическую значимость."
   ]
  },
  {
   "cell_type": "code",
   "execution_count": null,
   "id": "c7e33be2",
   "metadata": {},
   "outputs": [],
   "source": []
  }
 ],
 "metadata": {
  "ExecuteTimeLog": [
   {
    "duration": 1400,
    "start_time": "2023-09-04T20:10:05.697Z"
   },
   {
    "duration": 1482,
    "start_time": "2023-09-04T20:10:07.099Z"
   },
   {
    "duration": 22,
    "start_time": "2023-09-04T20:10:08.583Z"
   },
   {
    "duration": 41,
    "start_time": "2023-09-04T20:10:08.607Z"
   },
   {
    "duration": 104,
    "start_time": "2023-09-04T20:10:08.650Z"
   },
   {
    "duration": 11,
    "start_time": "2023-09-04T20:10:08.764Z"
   },
   {
    "duration": 22,
    "start_time": "2023-09-04T20:10:08.777Z"
   },
   {
    "duration": 43,
    "start_time": "2023-09-04T20:10:08.800Z"
   },
   {
    "duration": 16,
    "start_time": "2023-09-04T20:10:08.844Z"
   },
   {
    "duration": 11,
    "start_time": "2023-09-04T20:10:08.861Z"
   },
   {
    "duration": 351,
    "start_time": "2023-09-04T20:10:08.874Z"
   },
   {
    "duration": 14,
    "start_time": "2023-09-04T20:10:09.238Z"
   },
   {
    "duration": 209,
    "start_time": "2023-09-04T20:10:09.259Z"
   },
   {
    "duration": 6,
    "start_time": "2023-09-04T20:10:09.471Z"
   },
   {
    "duration": 203,
    "start_time": "2023-09-04T20:10:09.479Z"
   },
   {
    "duration": 6,
    "start_time": "2023-09-04T20:10:09.684Z"
   },
   {
    "duration": 188,
    "start_time": "2023-09-04T20:10:09.691Z"
   },
   {
    "duration": 7,
    "start_time": "2023-09-04T20:10:09.881Z"
   },
   {
    "duration": 215,
    "start_time": "2023-09-04T20:10:09.889Z"
   },
   {
    "duration": 48,
    "start_time": "2023-09-04T20:10:10.106Z"
   },
   {
    "duration": 9,
    "start_time": "2023-09-04T20:10:10.161Z"
   },
   {
    "duration": 15,
    "start_time": "2023-09-04T20:10:10.172Z"
   },
   {
    "duration": 50,
    "start_time": "2023-09-04T20:10:10.188Z"
   },
   {
    "duration": 502,
    "start_time": "2023-09-04T20:10:10.240Z"
   },
   {
    "duration": 14,
    "start_time": "2023-09-04T20:10:10.744Z"
   },
   {
    "duration": 108,
    "start_time": "2023-09-04T20:10:10.762Z"
   },
   {
    "duration": 13,
    "start_time": "2023-09-04T20:10:10.872Z"
   },
   {
    "duration": 66,
    "start_time": "2023-09-04T20:10:10.887Z"
   },
   {
    "duration": 251,
    "start_time": "2023-09-04T20:10:10.956Z"
   },
   {
    "duration": 456,
    "start_time": "2023-09-04T20:10:11.209Z"
   },
   {
    "duration": 131,
    "start_time": "2023-09-04T20:10:11.669Z"
   },
   {
    "duration": 133,
    "start_time": "2023-09-04T20:10:11.802Z"
   },
   {
    "duration": 209,
    "start_time": "2023-09-04T20:10:11.945Z"
   },
   {
    "duration": 109,
    "start_time": "2023-09-04T20:10:12.156Z"
   },
   {
    "duration": 203,
    "start_time": "2023-09-04T20:10:12.268Z"
   },
   {
    "duration": 7,
    "start_time": "2023-09-04T20:10:12.474Z"
   },
   {
    "duration": 11,
    "start_time": "2023-09-04T20:10:12.525Z"
   },
   {
    "duration": 9,
    "start_time": "2023-09-04T20:10:12.538Z"
   },
   {
    "duration": 34,
    "start_time": "2023-09-04T20:10:12.550Z"
   },
   {
    "duration": 33,
    "start_time": "2023-09-04T20:10:12.624Z"
   },
   {
    "duration": 6,
    "start_time": "2023-09-04T20:10:12.662Z"
   },
   {
    "duration": 14,
    "start_time": "2023-09-04T20:10:12.669Z"
   },
   {
    "duration": 581,
    "start_time": "2023-09-04T20:10:12.685Z"
   },
   {
    "duration": 71,
    "start_time": "2023-09-04T20:10:13.268Z"
   },
   {
    "duration": 485,
    "start_time": "2023-09-04T20:10:13.341Z"
   },
   {
    "duration": 434,
    "start_time": "2023-09-04T20:10:13.828Z"
   },
   {
    "duration": 8,
    "start_time": "2023-09-04T20:10:14.263Z"
   },
   {
    "duration": 67,
    "start_time": "2023-09-04T20:10:14.272Z"
   },
   {
    "duration": 6,
    "start_time": "2023-09-04T20:10:14.341Z"
   },
   {
    "duration": 252,
    "start_time": "2023-09-04T20:10:14.349Z"
   },
   {
    "duration": 197,
    "start_time": "2023-09-04T20:10:14.603Z"
   },
   {
    "duration": 190,
    "start_time": "2023-09-04T20:10:14.801Z"
   },
   {
    "duration": 17,
    "start_time": "2023-09-04T20:10:14.993Z"
   },
   {
    "duration": 43,
    "start_time": "2023-09-04T20:10:15.011Z"
   },
   {
    "duration": 14,
    "start_time": "2023-09-04T20:10:15.055Z"
   },
   {
    "duration": 233,
    "start_time": "2023-09-04T20:10:15.070Z"
   },
   {
    "duration": 332,
    "start_time": "2023-09-04T20:10:15.304Z"
   },
   {
    "duration": 556,
    "start_time": "2023-09-04T20:10:15.638Z"
   },
   {
    "duration": 1812,
    "start_time": "2023-09-04T20:10:16.196Z"
   },
   {
    "duration": 226,
    "start_time": "2023-09-04T20:10:18.009Z"
   },
   {
    "duration": 13,
    "start_time": "2023-09-04T20:10:18.236Z"
   },
   {
    "duration": 225,
    "start_time": "2023-09-04T20:10:18.250Z"
   },
   {
    "duration": 626,
    "start_time": "2023-09-04T20:10:18.476Z"
   },
   {
    "duration": 2,
    "start_time": "2023-09-04T20:10:19.104Z"
   },
   {
    "duration": 34,
    "start_time": "2023-09-04T20:10:19.108Z"
   },
   {
    "duration": 19,
    "start_time": "2023-09-04T20:10:19.145Z"
   },
   {
    "duration": 14,
    "start_time": "2023-09-04T20:10:19.165Z"
   },
   {
    "duration": 19,
    "start_time": "2023-09-04T20:10:19.180Z"
   },
   {
    "duration": 4,
    "start_time": "2023-09-04T20:10:19.201Z"
   },
   {
    "duration": 19,
    "start_time": "2023-09-04T20:10:19.206Z"
   },
   {
    "duration": 14,
    "start_time": "2023-09-04T20:10:19.226Z"
   },
   {
    "duration": 14,
    "start_time": "2023-09-04T20:10:19.242Z"
   },
   {
    "duration": 10,
    "start_time": "2023-09-04T20:10:19.258Z"
   },
   {
    "duration": 10,
    "start_time": "2023-09-04T20:10:19.270Z"
   },
   {
    "duration": 9,
    "start_time": "2023-09-04T20:10:19.281Z"
   },
   {
    "duration": 10,
    "start_time": "2023-09-04T20:10:19.291Z"
   },
   {
    "duration": 7,
    "start_time": "2023-09-04T20:10:19.303Z"
   },
   {
    "duration": 6,
    "start_time": "2023-09-04T20:10:19.311Z"
   },
   {
    "duration": 13,
    "start_time": "2023-09-04T20:10:19.319Z"
   },
   {
    "duration": 16,
    "start_time": "2023-09-04T20:10:19.341Z"
   },
   {
    "duration": 247,
    "start_time": "2023-09-04T20:11:57.015Z"
   },
   {
    "duration": 238,
    "start_time": "2023-09-04T20:12:09.122Z"
   },
   {
    "duration": 234,
    "start_time": "2023-09-04T20:12:19.508Z"
   },
   {
    "duration": 211,
    "start_time": "2023-09-04T20:12:32.184Z"
   },
   {
    "duration": 218,
    "start_time": "2023-09-04T20:12:37.857Z"
   },
   {
    "duration": 187,
    "start_time": "2023-09-04T20:12:58.187Z"
   },
   {
    "duration": 215,
    "start_time": "2023-09-04T20:13:11.353Z"
   },
   {
    "duration": 195,
    "start_time": "2023-09-04T20:13:17.477Z"
   },
   {
    "duration": 334,
    "start_time": "2023-09-04T20:13:24.261Z"
   },
   {
    "duration": 211,
    "start_time": "2023-09-04T20:13:34.116Z"
   },
   {
    "duration": 195,
    "start_time": "2023-09-04T20:13:38.294Z"
   },
   {
    "duration": 254,
    "start_time": "2023-09-04T20:14:38.805Z"
   },
   {
    "duration": 320,
    "start_time": "2023-09-04T20:14:47.566Z"
   },
   {
    "duration": 367,
    "start_time": "2023-09-04T20:14:53.031Z"
   },
   {
    "duration": 453,
    "start_time": "2023-09-04T20:15:11.587Z"
   },
   {
    "duration": 370,
    "start_time": "2023-09-04T20:15:19.781Z"
   },
   {
    "duration": 424,
    "start_time": "2023-09-04T20:16:06.371Z"
   },
   {
    "duration": 1881,
    "start_time": "2023-09-04T20:16:18.901Z"
   },
   {
    "duration": 223,
    "start_time": "2023-09-04T20:16:28.181Z"
   },
   {
    "duration": 385,
    "start_time": "2023-09-04T20:16:34.995Z"
   },
   {
    "duration": 498,
    "start_time": "2023-09-04T20:16:57.086Z"
   },
   {
    "duration": 1438,
    "start_time": "2023-09-05T14:55:01.416Z"
   },
   {
    "duration": 1552,
    "start_time": "2023-09-05T14:55:02.856Z"
   },
   {
    "duration": 27,
    "start_time": "2023-09-05T14:55:04.409Z"
   },
   {
    "duration": 54,
    "start_time": "2023-09-05T14:55:04.438Z"
   },
   {
    "duration": 49,
    "start_time": "2023-09-05T14:55:04.494Z"
   },
   {
    "duration": 122,
    "start_time": "2023-09-05T14:55:04.546Z"
   },
   {
    "duration": 15,
    "start_time": "2023-09-05T14:55:04.671Z"
   },
   {
    "duration": 51,
    "start_time": "2023-09-05T14:55:04.689Z"
   },
   {
    "duration": 157,
    "start_time": "2023-09-05T14:55:04.742Z"
   },
   {
    "duration": 15,
    "start_time": "2023-09-05T14:55:04.900Z"
   },
   {
    "duration": 353,
    "start_time": "2023-09-05T14:55:04.917Z"
   },
   {
    "duration": 7,
    "start_time": "2023-09-05T14:55:05.272Z"
   },
   {
    "duration": 225,
    "start_time": "2023-09-05T14:55:05.281Z"
   },
   {
    "duration": 8,
    "start_time": "2023-09-05T14:55:05.509Z"
   },
   {
    "duration": 255,
    "start_time": "2023-09-05T14:55:05.519Z"
   },
   {
    "duration": 9,
    "start_time": "2023-09-05T14:55:05.777Z"
   },
   {
    "duration": 353,
    "start_time": "2023-09-05T14:55:05.801Z"
   },
   {
    "duration": 8,
    "start_time": "2023-09-05T14:55:06.156Z"
   },
   {
    "duration": 238,
    "start_time": "2023-09-05T14:55:06.166Z"
   },
   {
    "duration": 22,
    "start_time": "2023-09-05T14:55:06.406Z"
   },
   {
    "duration": 36,
    "start_time": "2023-09-05T14:55:06.430Z"
   },
   {
    "duration": 14,
    "start_time": "2023-09-05T14:55:06.468Z"
   },
   {
    "duration": 17,
    "start_time": "2023-09-05T14:55:06.484Z"
   },
   {
    "duration": 461,
    "start_time": "2023-09-05T14:55:06.503Z"
   },
   {
    "duration": 8,
    "start_time": "2023-09-05T14:55:06.966Z"
   },
   {
    "duration": 110,
    "start_time": "2023-09-05T14:55:06.976Z"
   },
   {
    "duration": 26,
    "start_time": "2023-09-05T14:55:07.088Z"
   },
   {
    "duration": 119,
    "start_time": "2023-09-05T14:55:07.116Z"
   },
   {
    "duration": 288,
    "start_time": "2023-09-05T14:55:07.238Z"
   },
   {
    "duration": 420,
    "start_time": "2023-09-05T14:55:07.528Z"
   },
   {
    "duration": 141,
    "start_time": "2023-09-05T14:55:07.950Z"
   },
   {
    "duration": 90,
    "start_time": "2023-09-05T14:55:08.093Z"
   },
   {
    "duration": 89,
    "start_time": "2023-09-05T14:55:08.185Z"
   },
   {
    "duration": 68,
    "start_time": "2023-09-05T14:55:08.276Z"
   },
   {
    "duration": 84,
    "start_time": "2023-09-05T14:55:08.346Z"
   },
   {
    "duration": 11,
    "start_time": "2023-09-05T14:55:08.432Z"
   },
   {
    "duration": 55,
    "start_time": "2023-09-05T14:55:08.445Z"
   },
   {
    "duration": 54,
    "start_time": "2023-09-05T14:55:08.502Z"
   },
   {
    "duration": 49,
    "start_time": "2023-09-05T14:55:08.558Z"
   },
   {
    "duration": 8,
    "start_time": "2023-09-05T14:55:08.610Z"
   },
   {
    "duration": 41,
    "start_time": "2023-09-05T14:55:08.625Z"
   },
   {
    "duration": 51,
    "start_time": "2023-09-05T14:55:08.668Z"
   },
   {
    "duration": 308,
    "start_time": "2023-09-05T14:55:08.721Z"
   },
   {
    "duration": 19,
    "start_time": "2023-09-05T14:55:09.031Z"
   },
   {
    "duration": 221,
    "start_time": "2023-09-05T14:55:09.052Z"
   },
   {
    "duration": 216,
    "start_time": "2023-09-05T14:55:09.274Z"
   },
   {
    "duration": 10,
    "start_time": "2023-09-05T14:55:09.493Z"
   },
   {
    "duration": 39,
    "start_time": "2023-09-05T14:55:09.505Z"
   },
   {
    "duration": 6,
    "start_time": "2023-09-05T14:55:09.547Z"
   },
   {
    "duration": 229,
    "start_time": "2023-09-05T14:55:09.555Z"
   },
   {
    "duration": 201,
    "start_time": "2023-09-05T14:55:09.786Z"
   },
   {
    "duration": 188,
    "start_time": "2023-09-05T14:55:09.989Z"
   },
   {
    "duration": 34,
    "start_time": "2023-09-05T14:55:10.179Z"
   },
   {
    "duration": 13,
    "start_time": "2023-09-05T14:55:10.214Z"
   },
   {
    "duration": 13,
    "start_time": "2023-09-05T14:55:10.228Z"
   },
   {
    "duration": 268,
    "start_time": "2023-09-05T14:55:10.243Z"
   },
   {
    "duration": 373,
    "start_time": "2023-09-05T14:55:10.513Z"
   },
   {
    "duration": 553,
    "start_time": "2023-09-05T14:55:10.887Z"
   },
   {
    "duration": 1820,
    "start_time": "2023-09-05T14:55:11.442Z"
   },
   {
    "duration": 243,
    "start_time": "2023-09-05T14:55:13.264Z"
   },
   {
    "duration": 14,
    "start_time": "2023-09-05T14:55:13.509Z"
   },
   {
    "duration": 319,
    "start_time": "2023-09-05T14:55:13.525Z"
   },
   {
    "duration": 818,
    "start_time": "2023-09-05T14:55:13.846Z"
   },
   {
    "duration": 3,
    "start_time": "2023-09-05T14:55:14.667Z"
   },
   {
    "duration": 38,
    "start_time": "2023-09-05T14:55:14.673Z"
   },
   {
    "duration": 25,
    "start_time": "2023-09-05T14:55:14.714Z"
   },
   {
    "duration": 30,
    "start_time": "2023-09-05T14:55:14.741Z"
   },
   {
    "duration": 36,
    "start_time": "2023-09-05T14:55:14.774Z"
   },
   {
    "duration": 5,
    "start_time": "2023-09-05T14:55:14.812Z"
   },
   {
    "duration": 10,
    "start_time": "2023-09-05T14:55:14.818Z"
   },
   {
    "duration": 8,
    "start_time": "2023-09-05T14:55:14.830Z"
   },
   {
    "duration": 8,
    "start_time": "2023-09-05T14:55:14.840Z"
   },
   {
    "duration": 12,
    "start_time": "2023-09-05T14:55:14.849Z"
   },
   {
    "duration": 10,
    "start_time": "2023-09-05T14:55:14.863Z"
   },
   {
    "duration": 28,
    "start_time": "2023-09-05T14:55:14.875Z"
   },
   {
    "duration": 12,
    "start_time": "2023-09-05T14:55:14.905Z"
   },
   {
    "duration": 8,
    "start_time": "2023-09-05T14:55:14.919Z"
   },
   {
    "duration": 5,
    "start_time": "2023-09-05T14:55:14.929Z"
   },
   {
    "duration": 7,
    "start_time": "2023-09-05T14:55:14.936Z"
   },
   {
    "duration": 20,
    "start_time": "2023-09-05T14:55:14.945Z"
   },
   {
    "duration": 49,
    "start_time": "2023-09-06T03:52:42.675Z"
   },
   {
    "duration": 1633,
    "start_time": "2023-09-06T03:52:53.254Z"
   },
   {
    "duration": 1465,
    "start_time": "2023-09-06T03:52:54.890Z"
   },
   {
    "duration": 26,
    "start_time": "2023-09-06T03:52:56.357Z"
   },
   {
    "duration": 7,
    "start_time": "2023-09-06T03:52:56.386Z"
   },
   {
    "duration": 20,
    "start_time": "2023-09-06T03:52:56.395Z"
   },
   {
    "duration": 29,
    "start_time": "2023-09-06T03:52:56.417Z"
   },
   {
    "duration": 15,
    "start_time": "2023-09-06T03:52:56.448Z"
   },
   {
    "duration": 50,
    "start_time": "2023-09-06T03:52:56.465Z"
   },
   {
    "duration": 15,
    "start_time": "2023-09-06T03:52:56.516Z"
   },
   {
    "duration": 134,
    "start_time": "2023-09-06T03:52:56.535Z"
   },
   {
    "duration": 0,
    "start_time": "2023-09-06T03:52:56.673Z"
   },
   {
    "duration": 0,
    "start_time": "2023-09-06T03:52:56.674Z"
   },
   {
    "duration": 0,
    "start_time": "2023-09-06T03:52:56.676Z"
   },
   {
    "duration": 0,
    "start_time": "2023-09-06T03:52:56.678Z"
   },
   {
    "duration": 0,
    "start_time": "2023-09-06T03:52:56.680Z"
   },
   {
    "duration": 0,
    "start_time": "2023-09-06T03:52:56.681Z"
   },
   {
    "duration": 0,
    "start_time": "2023-09-06T03:52:56.683Z"
   },
   {
    "duration": 0,
    "start_time": "2023-09-06T03:52:56.701Z"
   },
   {
    "duration": 0,
    "start_time": "2023-09-06T03:52:56.703Z"
   },
   {
    "duration": 0,
    "start_time": "2023-09-06T03:52:56.705Z"
   },
   {
    "duration": 0,
    "start_time": "2023-09-06T03:52:56.706Z"
   },
   {
    "duration": 0,
    "start_time": "2023-09-06T03:52:56.707Z"
   },
   {
    "duration": 0,
    "start_time": "2023-09-06T03:52:56.708Z"
   },
   {
    "duration": 0,
    "start_time": "2023-09-06T03:52:56.709Z"
   },
   {
    "duration": 0,
    "start_time": "2023-09-06T03:52:56.711Z"
   },
   {
    "duration": 0,
    "start_time": "2023-09-06T03:52:56.712Z"
   },
   {
    "duration": 0,
    "start_time": "2023-09-06T03:52:56.713Z"
   },
   {
    "duration": 0,
    "start_time": "2023-09-06T03:52:56.714Z"
   },
   {
    "duration": 0,
    "start_time": "2023-09-06T03:52:56.716Z"
   },
   {
    "duration": 0,
    "start_time": "2023-09-06T03:52:56.717Z"
   },
   {
    "duration": 0,
    "start_time": "2023-09-06T03:52:56.718Z"
   },
   {
    "duration": 0,
    "start_time": "2023-09-06T03:52:56.719Z"
   },
   {
    "duration": 0,
    "start_time": "2023-09-06T03:52:56.721Z"
   },
   {
    "duration": 0,
    "start_time": "2023-09-06T03:52:56.722Z"
   },
   {
    "duration": 0,
    "start_time": "2023-09-06T03:52:56.723Z"
   },
   {
    "duration": 0,
    "start_time": "2023-09-06T03:52:56.725Z"
   },
   {
    "duration": 0,
    "start_time": "2023-09-06T03:52:56.726Z"
   },
   {
    "duration": 0,
    "start_time": "2023-09-06T03:52:56.727Z"
   },
   {
    "duration": 0,
    "start_time": "2023-09-06T03:52:56.729Z"
   },
   {
    "duration": 0,
    "start_time": "2023-09-06T03:52:56.730Z"
   },
   {
    "duration": 0,
    "start_time": "2023-09-06T03:52:56.731Z"
   },
   {
    "duration": 0,
    "start_time": "2023-09-06T03:52:56.732Z"
   },
   {
    "duration": 0,
    "start_time": "2023-09-06T03:52:56.733Z"
   },
   {
    "duration": 0,
    "start_time": "2023-09-06T03:52:56.735Z"
   },
   {
    "duration": 0,
    "start_time": "2023-09-06T03:52:56.736Z"
   },
   {
    "duration": 0,
    "start_time": "2023-09-06T03:52:56.737Z"
   },
   {
    "duration": 0,
    "start_time": "2023-09-06T03:52:56.738Z"
   },
   {
    "duration": 0,
    "start_time": "2023-09-06T03:52:56.802Z"
   },
   {
    "duration": 0,
    "start_time": "2023-09-06T03:52:56.804Z"
   },
   {
    "duration": 0,
    "start_time": "2023-09-06T03:52:56.806Z"
   },
   {
    "duration": 0,
    "start_time": "2023-09-06T03:52:56.807Z"
   },
   {
    "duration": 0,
    "start_time": "2023-09-06T03:52:56.809Z"
   },
   {
    "duration": 0,
    "start_time": "2023-09-06T03:52:56.810Z"
   },
   {
    "duration": 0,
    "start_time": "2023-09-06T03:52:56.811Z"
   },
   {
    "duration": 0,
    "start_time": "2023-09-06T03:52:56.813Z"
   },
   {
    "duration": 0,
    "start_time": "2023-09-06T03:52:56.815Z"
   },
   {
    "duration": 0,
    "start_time": "2023-09-06T03:52:56.816Z"
   },
   {
    "duration": 0,
    "start_time": "2023-09-06T03:52:56.817Z"
   },
   {
    "duration": 0,
    "start_time": "2023-09-06T03:52:56.819Z"
   },
   {
    "duration": 0,
    "start_time": "2023-09-06T03:52:56.823Z"
   },
   {
    "duration": 0,
    "start_time": "2023-09-06T03:52:56.824Z"
   },
   {
    "duration": 0,
    "start_time": "2023-09-06T03:52:56.825Z"
   },
   {
    "duration": 0,
    "start_time": "2023-09-06T03:52:56.827Z"
   },
   {
    "duration": 0,
    "start_time": "2023-09-06T03:52:56.828Z"
   },
   {
    "duration": 0,
    "start_time": "2023-09-06T03:52:56.829Z"
   },
   {
    "duration": 0,
    "start_time": "2023-09-06T03:52:56.830Z"
   },
   {
    "duration": 0,
    "start_time": "2023-09-06T03:52:56.832Z"
   },
   {
    "duration": 0,
    "start_time": "2023-09-06T03:52:56.833Z"
   },
   {
    "duration": 0,
    "start_time": "2023-09-06T03:52:56.834Z"
   },
   {
    "duration": 0,
    "start_time": "2023-09-06T03:52:56.836Z"
   },
   {
    "duration": 0,
    "start_time": "2023-09-06T03:52:56.837Z"
   },
   {
    "duration": 0,
    "start_time": "2023-09-06T03:52:56.902Z"
   },
   {
    "duration": 0,
    "start_time": "2023-09-06T03:52:56.903Z"
   },
   {
    "duration": 0,
    "start_time": "2023-09-06T03:52:56.904Z"
   },
   {
    "duration": 0,
    "start_time": "2023-09-06T03:52:56.905Z"
   },
   {
    "duration": 0,
    "start_time": "2023-09-06T03:52:56.906Z"
   },
   {
    "duration": 0,
    "start_time": "2023-09-06T03:52:56.908Z"
   },
   {
    "duration": 0,
    "start_time": "2023-09-06T03:52:56.909Z"
   },
   {
    "duration": 0,
    "start_time": "2023-09-06T03:52:56.910Z"
   },
   {
    "duration": 0,
    "start_time": "2023-09-06T03:52:56.911Z"
   },
   {
    "duration": 0,
    "start_time": "2023-09-06T03:52:56.912Z"
   },
   {
    "duration": 12,
    "start_time": "2023-09-06T03:53:14.518Z"
   },
   {
    "duration": 18,
    "start_time": "2023-09-06T03:53:47.395Z"
   },
   {
    "duration": 20,
    "start_time": "2023-09-06T03:53:57.647Z"
   },
   {
    "duration": 13,
    "start_time": "2023-09-06T03:55:06.821Z"
   },
   {
    "duration": 14,
    "start_time": "2023-09-06T03:56:08.000Z"
   },
   {
    "duration": 14,
    "start_time": "2023-09-06T03:56:59.257Z"
   },
   {
    "duration": 12,
    "start_time": "2023-09-06T03:57:34.462Z"
   },
   {
    "duration": 13,
    "start_time": "2023-09-06T03:58:01.391Z"
   },
   {
    "duration": 13,
    "start_time": "2023-09-06T03:59:52.074Z"
   },
   {
    "duration": 10,
    "start_time": "2023-09-06T04:02:10.270Z"
   },
   {
    "duration": 14,
    "start_time": "2023-09-06T04:03:53.679Z"
   },
   {
    "duration": 15,
    "start_time": "2023-09-06T04:04:20.633Z"
   },
   {
    "duration": 9,
    "start_time": "2023-09-06T04:04:24.672Z"
   },
   {
    "duration": 49,
    "start_time": "2023-09-06T04:06:00.207Z"
   },
   {
    "duration": 11,
    "start_time": "2023-09-06T04:08:45.327Z"
   },
   {
    "duration": 12,
    "start_time": "2023-09-06T04:08:56.751Z"
   },
   {
    "duration": 11,
    "start_time": "2023-09-06T04:09:08.038Z"
   },
   {
    "duration": 55,
    "start_time": "2023-09-06T04:09:11.271Z"
   },
   {
    "duration": 66,
    "start_time": "2023-09-06T04:09:49.547Z"
   },
   {
    "duration": 21,
    "start_time": "2023-09-06T04:09:53.123Z"
   },
   {
    "duration": 8,
    "start_time": "2023-09-06T04:10:10.146Z"
   },
   {
    "duration": 8,
    "start_time": "2023-09-06T04:10:28.860Z"
   },
   {
    "duration": 13,
    "start_time": "2023-09-06T04:10:55.426Z"
   },
   {
    "duration": 57,
    "start_time": "2023-09-06T04:11:03.473Z"
   },
   {
    "duration": 59,
    "start_time": "2023-09-06T04:11:28.268Z"
   },
   {
    "duration": 58,
    "start_time": "2023-09-06T04:14:09.454Z"
   },
   {
    "duration": 55,
    "start_time": "2023-09-06T04:14:13.019Z"
   },
   {
    "duration": 6,
    "start_time": "2023-09-06T04:19:55.971Z"
   },
   {
    "duration": 1394,
    "start_time": "2023-09-06T04:20:16.970Z"
   },
   {
    "duration": 1682,
    "start_time": "2023-09-06T04:20:18.367Z"
   },
   {
    "duration": 27,
    "start_time": "2023-09-06T04:20:20.054Z"
   },
   {
    "duration": 62,
    "start_time": "2023-09-06T04:20:20.083Z"
   },
   {
    "duration": 39,
    "start_time": "2023-09-06T04:20:20.147Z"
   },
   {
    "duration": 45,
    "start_time": "2023-09-06T04:20:20.188Z"
   },
   {
    "duration": 18,
    "start_time": "2023-09-06T04:20:20.235Z"
   },
   {
    "duration": 73,
    "start_time": "2023-09-06T04:20:20.254Z"
   },
   {
    "duration": 14,
    "start_time": "2023-09-06T04:20:20.330Z"
   },
   {
    "duration": 14,
    "start_time": "2023-09-06T04:20:20.346Z"
   },
   {
    "duration": 10,
    "start_time": "2023-09-06T04:20:20.362Z"
   },
   {
    "duration": 31,
    "start_time": "2023-09-06T04:20:20.374Z"
   },
   {
    "duration": 21,
    "start_time": "2023-09-06T04:20:20.408Z"
   },
   {
    "duration": 9,
    "start_time": "2023-09-06T04:20:20.431Z"
   },
   {
    "duration": 386,
    "start_time": "2023-09-06T04:20:20.442Z"
   },
   {
    "duration": 7,
    "start_time": "2023-09-06T04:20:20.830Z"
   },
   {
    "duration": 225,
    "start_time": "2023-09-06T04:20:20.838Z"
   },
   {
    "duration": 6,
    "start_time": "2023-09-06T04:20:21.065Z"
   },
   {
    "duration": 220,
    "start_time": "2023-09-06T04:20:21.073Z"
   },
   {
    "duration": 9,
    "start_time": "2023-09-06T04:20:21.302Z"
   },
   {
    "duration": 243,
    "start_time": "2023-09-06T04:20:21.316Z"
   },
   {
    "duration": 7,
    "start_time": "2023-09-06T04:20:21.561Z"
   },
   {
    "duration": 254,
    "start_time": "2023-09-06T04:20:21.569Z"
   },
   {
    "duration": 19,
    "start_time": "2023-09-06T04:20:21.830Z"
   },
   {
    "duration": 39,
    "start_time": "2023-09-06T04:20:21.851Z"
   },
   {
    "duration": 29,
    "start_time": "2023-09-06T04:20:21.892Z"
   },
   {
    "duration": 5,
    "start_time": "2023-09-06T04:20:21.928Z"
   },
   {
    "duration": 401,
    "start_time": "2023-09-06T04:20:21.935Z"
   },
   {
    "duration": 8,
    "start_time": "2023-09-06T04:20:22.338Z"
   },
   {
    "duration": 95,
    "start_time": "2023-09-06T04:20:22.348Z"
   },
   {
    "duration": 12,
    "start_time": "2023-09-06T04:20:22.445Z"
   },
   {
    "duration": 47,
    "start_time": "2023-09-06T04:20:22.459Z"
   },
   {
    "duration": 227,
    "start_time": "2023-09-06T04:20:22.509Z"
   },
   {
    "duration": 334,
    "start_time": "2023-09-06T04:20:22.738Z"
   },
   {
    "duration": 114,
    "start_time": "2023-09-06T04:20:23.074Z"
   },
   {
    "duration": 73,
    "start_time": "2023-09-06T04:20:23.189Z"
   },
   {
    "duration": 159,
    "start_time": "2023-09-06T04:20:23.264Z"
   },
   {
    "duration": 94,
    "start_time": "2023-09-06T04:20:23.424Z"
   },
   {
    "duration": 182,
    "start_time": "2023-09-06T04:20:23.520Z"
   },
   {
    "duration": 11,
    "start_time": "2023-09-06T04:20:23.704Z"
   },
   {
    "duration": 8,
    "start_time": "2023-09-06T04:20:23.717Z"
   },
   {
    "duration": 21,
    "start_time": "2023-09-06T04:20:23.726Z"
   },
   {
    "duration": 94,
    "start_time": "2023-09-06T04:20:23.748Z"
   },
   {
    "duration": 22,
    "start_time": "2023-09-06T04:20:23.844Z"
   },
   {
    "duration": 37,
    "start_time": "2023-09-06T04:20:23.868Z"
   },
   {
    "duration": 24,
    "start_time": "2023-09-06T04:20:23.907Z"
   },
   {
    "duration": 671,
    "start_time": "2023-09-06T04:20:23.933Z"
   },
   {
    "duration": 36,
    "start_time": "2023-09-06T04:20:24.606Z"
   },
   {
    "duration": 587,
    "start_time": "2023-09-06T04:20:24.644Z"
   },
   {
    "duration": 483,
    "start_time": "2023-09-06T04:20:25.233Z"
   },
   {
    "duration": 7,
    "start_time": "2023-09-06T04:20:25.718Z"
   },
   {
    "duration": 54,
    "start_time": "2023-09-06T04:20:25.727Z"
   },
   {
    "duration": 4,
    "start_time": "2023-09-06T04:20:25.783Z"
   },
   {
    "duration": 212,
    "start_time": "2023-09-06T04:20:25.789Z"
   },
   {
    "duration": 201,
    "start_time": "2023-09-06T04:20:26.003Z"
   },
   {
    "duration": 202,
    "start_time": "2023-09-06T04:20:26.206Z"
   },
   {
    "duration": 22,
    "start_time": "2023-09-06T04:20:26.410Z"
   },
   {
    "duration": 13,
    "start_time": "2023-09-06T04:20:26.434Z"
   },
   {
    "duration": 12,
    "start_time": "2023-09-06T04:20:26.448Z"
   },
   {
    "duration": 286,
    "start_time": "2023-09-06T04:20:26.462Z"
   },
   {
    "duration": 381,
    "start_time": "2023-09-06T04:20:26.750Z"
   },
   {
    "duration": 533,
    "start_time": "2023-09-06T04:20:27.133Z"
   },
   {
    "duration": 1853,
    "start_time": "2023-09-06T04:20:27.668Z"
   },
   {
    "duration": 252,
    "start_time": "2023-09-06T04:20:29.523Z"
   },
   {
    "duration": 11,
    "start_time": "2023-09-06T04:20:29.777Z"
   },
   {
    "duration": 267,
    "start_time": "2023-09-06T04:20:29.802Z"
   },
   {
    "duration": 714,
    "start_time": "2023-09-06T04:20:30.071Z"
   },
   {
    "duration": 3,
    "start_time": "2023-09-06T04:20:30.787Z"
   },
   {
    "duration": 44,
    "start_time": "2023-09-06T04:20:30.802Z"
   },
   {
    "duration": 81,
    "start_time": "2023-09-06T04:20:30.848Z"
   },
   {
    "duration": 68,
    "start_time": "2023-09-06T04:20:30.931Z"
   },
   {
    "duration": 74,
    "start_time": "2023-09-06T04:20:31.001Z"
   },
   {
    "duration": 397,
    "start_time": "2023-09-06T04:20:31.078Z"
   },
   {
    "duration": 88,
    "start_time": "2023-09-06T04:20:31.477Z"
   },
   {
    "duration": 32,
    "start_time": "2023-09-06T04:20:31.567Z"
   },
   {
    "duration": 49,
    "start_time": "2023-09-06T04:20:31.601Z"
   },
   {
    "duration": 37,
    "start_time": "2023-09-06T04:20:31.652Z"
   },
   {
    "duration": 49,
    "start_time": "2023-09-06T04:20:31.691Z"
   },
   {
    "duration": 43,
    "start_time": "2023-09-06T04:20:31.742Z"
   },
   {
    "duration": 43,
    "start_time": "2023-09-06T04:20:31.787Z"
   },
   {
    "duration": 102,
    "start_time": "2023-09-06T04:20:31.837Z"
   },
   {
    "duration": 80,
    "start_time": "2023-09-06T04:20:31.941Z"
   },
   {
    "duration": 113,
    "start_time": "2023-09-06T04:20:32.023Z"
   },
   {
    "duration": 22,
    "start_time": "2023-09-06T04:20:32.138Z"
   },
   {
    "duration": 10,
    "start_time": "2023-09-06T04:21:50.405Z"
   },
   {
    "duration": 1470,
    "start_time": "2023-09-06T04:24:43.374Z"
   },
   {
    "duration": 1235,
    "start_time": "2023-09-06T04:24:44.846Z"
   },
   {
    "duration": 31,
    "start_time": "2023-09-06T04:24:46.083Z"
   },
   {
    "duration": 12,
    "start_time": "2023-09-06T04:24:46.116Z"
   },
   {
    "duration": 32,
    "start_time": "2023-09-06T04:24:46.129Z"
   },
   {
    "duration": 11,
    "start_time": "2023-09-06T04:24:46.163Z"
   },
   {
    "duration": 15,
    "start_time": "2023-09-06T04:24:46.175Z"
   },
   {
    "duration": 34,
    "start_time": "2023-09-06T04:24:46.201Z"
   },
   {
    "duration": 12,
    "start_time": "2023-09-06T04:24:46.236Z"
   },
   {
    "duration": 14,
    "start_time": "2023-09-06T04:24:46.251Z"
   },
   {
    "duration": 38,
    "start_time": "2023-09-06T04:24:46.267Z"
   },
   {
    "duration": 6,
    "start_time": "2023-09-06T04:24:46.307Z"
   },
   {
    "duration": 13,
    "start_time": "2023-09-06T04:24:46.315Z"
   },
   {
    "duration": 5,
    "start_time": "2023-09-06T04:24:46.330Z"
   },
   {
    "duration": 12,
    "start_time": "2023-09-06T04:24:46.336Z"
   },
   {
    "duration": 355,
    "start_time": "2023-09-06T04:24:46.351Z"
   },
   {
    "duration": 8,
    "start_time": "2023-09-06T04:24:46.708Z"
   },
   {
    "duration": 202,
    "start_time": "2023-09-06T04:24:46.718Z"
   },
   {
    "duration": 7,
    "start_time": "2023-09-06T04:24:46.922Z"
   },
   {
    "duration": 216,
    "start_time": "2023-09-06T04:24:46.931Z"
   },
   {
    "duration": 8,
    "start_time": "2023-09-06T04:24:47.149Z"
   },
   {
    "duration": 213,
    "start_time": "2023-09-06T04:24:47.158Z"
   },
   {
    "duration": 7,
    "start_time": "2023-09-06T04:24:47.373Z"
   },
   {
    "duration": 246,
    "start_time": "2023-09-06T04:24:47.381Z"
   },
   {
    "duration": 19,
    "start_time": "2023-09-06T04:24:47.629Z"
   },
   {
    "duration": 8,
    "start_time": "2023-09-06T04:24:47.650Z"
   },
   {
    "duration": 5,
    "start_time": "2023-09-06T04:24:47.660Z"
   },
   {
    "duration": 3,
    "start_time": "2023-09-06T04:24:47.669Z"
   },
   {
    "duration": 334,
    "start_time": "2023-09-06T04:24:47.702Z"
   },
   {
    "duration": 8,
    "start_time": "2023-09-06T04:24:48.038Z"
   },
   {
    "duration": 84,
    "start_time": "2023-09-06T04:24:48.047Z"
   },
   {
    "duration": 13,
    "start_time": "2023-09-06T04:24:48.132Z"
   },
   {
    "duration": 62,
    "start_time": "2023-09-06T04:24:48.147Z"
   },
   {
    "duration": 194,
    "start_time": "2023-09-06T04:24:48.211Z"
   },
   {
    "duration": 523,
    "start_time": "2023-09-06T04:24:48.407Z"
   },
   {
    "duration": 203,
    "start_time": "2023-09-06T04:24:48.932Z"
   },
   {
    "duration": 108,
    "start_time": "2023-09-06T04:24:49.137Z"
   },
   {
    "duration": 169,
    "start_time": "2023-09-06T04:24:49.247Z"
   },
   {
    "duration": 183,
    "start_time": "2023-09-06T04:24:49.419Z"
   },
   {
    "duration": 111,
    "start_time": "2023-09-06T04:24:49.604Z"
   },
   {
    "duration": 7,
    "start_time": "2023-09-06T04:24:49.717Z"
   },
   {
    "duration": 23,
    "start_time": "2023-09-06T04:24:49.726Z"
   },
   {
    "duration": 54,
    "start_time": "2023-09-06T04:24:49.751Z"
   },
   {
    "duration": 41,
    "start_time": "2023-09-06T04:24:49.807Z"
   },
   {
    "duration": 55,
    "start_time": "2023-09-06T04:24:49.851Z"
   },
   {
    "duration": 13,
    "start_time": "2023-09-06T04:24:49.908Z"
   },
   {
    "duration": 15,
    "start_time": "2023-09-06T04:24:49.922Z"
   },
   {
    "duration": 566,
    "start_time": "2023-09-06T04:24:49.938Z"
   },
   {
    "duration": 20,
    "start_time": "2023-09-06T04:24:50.506Z"
   },
   {
    "duration": 230,
    "start_time": "2023-09-06T04:24:50.529Z"
   },
   {
    "duration": 204,
    "start_time": "2023-09-06T04:24:50.761Z"
   },
   {
    "duration": 5,
    "start_time": "2023-09-06T04:24:50.967Z"
   },
   {
    "duration": 43,
    "start_time": "2023-09-06T04:24:50.974Z"
   },
   {
    "duration": 15,
    "start_time": "2023-09-06T04:24:51.019Z"
   },
   {
    "duration": 227,
    "start_time": "2023-09-06T04:24:51.036Z"
   },
   {
    "duration": 189,
    "start_time": "2023-09-06T04:24:51.265Z"
   },
   {
    "duration": 200,
    "start_time": "2023-09-06T04:24:51.456Z"
   },
   {
    "duration": 20,
    "start_time": "2023-09-06T04:24:51.658Z"
   },
   {
    "duration": 32,
    "start_time": "2023-09-06T04:24:51.679Z"
   },
   {
    "duration": 32,
    "start_time": "2023-09-06T04:24:51.713Z"
   },
   {
    "duration": 257,
    "start_time": "2023-09-06T04:24:51.747Z"
   },
   {
    "duration": 351,
    "start_time": "2023-09-06T04:24:52.006Z"
   },
   {
    "duration": 566,
    "start_time": "2023-09-06T04:24:52.358Z"
   },
   {
    "duration": 1750,
    "start_time": "2023-09-06T04:24:52.926Z"
   },
   {
    "duration": 289,
    "start_time": "2023-09-06T04:24:54.678Z"
   },
   {
    "duration": 11,
    "start_time": "2023-09-06T04:24:54.969Z"
   },
   {
    "duration": 275,
    "start_time": "2023-09-06T04:24:54.981Z"
   },
   {
    "duration": 675,
    "start_time": "2023-09-06T04:24:55.258Z"
   },
   {
    "duration": 3,
    "start_time": "2023-09-06T04:24:55.935Z"
   },
   {
    "duration": 36,
    "start_time": "2023-09-06T04:24:55.940Z"
   },
   {
    "duration": 20,
    "start_time": "2023-09-06T04:24:55.978Z"
   },
   {
    "duration": 46,
    "start_time": "2023-09-06T04:24:56.000Z"
   },
   {
    "duration": 26,
    "start_time": "2023-09-06T04:24:56.048Z"
   },
   {
    "duration": 23,
    "start_time": "2023-09-06T04:24:56.076Z"
   },
   {
    "duration": 32,
    "start_time": "2023-09-06T04:24:56.101Z"
   },
   {
    "duration": 23,
    "start_time": "2023-09-06T04:24:56.134Z"
   },
   {
    "duration": 20,
    "start_time": "2023-09-06T04:24:56.159Z"
   },
   {
    "duration": 29,
    "start_time": "2023-09-06T04:24:56.181Z"
   },
   {
    "duration": 30,
    "start_time": "2023-09-06T04:24:56.212Z"
   },
   {
    "duration": 36,
    "start_time": "2023-09-06T04:24:56.244Z"
   },
   {
    "duration": 27,
    "start_time": "2023-09-06T04:24:56.283Z"
   },
   {
    "duration": 92,
    "start_time": "2023-09-06T04:24:56.317Z"
   },
   {
    "duration": 15,
    "start_time": "2023-09-06T04:24:56.411Z"
   },
   {
    "duration": 17,
    "start_time": "2023-09-06T04:24:56.428Z"
   },
   {
    "duration": 16,
    "start_time": "2023-09-06T04:24:56.447Z"
   },
   {
    "duration": 3,
    "start_time": "2023-09-06T04:25:05.262Z"
   },
   {
    "duration": 88,
    "start_time": "2023-09-06T04:34:08.050Z"
   },
   {
    "duration": 1384,
    "start_time": "2023-09-06T09:40:38.652Z"
   },
   {
    "duration": 1410,
    "start_time": "2023-09-06T09:40:40.038Z"
   },
   {
    "duration": 26,
    "start_time": "2023-09-06T09:40:41.450Z"
   },
   {
    "duration": 8,
    "start_time": "2023-09-06T09:40:41.477Z"
   },
   {
    "duration": 27,
    "start_time": "2023-09-06T09:40:41.487Z"
   },
   {
    "duration": 13,
    "start_time": "2023-09-06T09:40:41.516Z"
   },
   {
    "duration": 13,
    "start_time": "2023-09-06T09:40:41.531Z"
   },
   {
    "duration": 63,
    "start_time": "2023-09-06T09:40:41.545Z"
   },
   {
    "duration": 14,
    "start_time": "2023-09-06T09:40:41.611Z"
   },
   {
    "duration": 52,
    "start_time": "2023-09-06T09:40:41.627Z"
   },
   {
    "duration": 11,
    "start_time": "2023-09-06T09:40:41.681Z"
   },
   {
    "duration": 7,
    "start_time": "2023-09-06T09:40:41.694Z"
   },
   {
    "duration": 18,
    "start_time": "2023-09-06T09:40:41.703Z"
   },
   {
    "duration": 4,
    "start_time": "2023-09-06T09:40:41.724Z"
   },
   {
    "duration": 16,
    "start_time": "2023-09-06T09:40:41.729Z"
   },
   {
    "duration": 342,
    "start_time": "2023-09-06T09:40:41.746Z"
   },
   {
    "duration": 14,
    "start_time": "2023-09-06T09:40:42.089Z"
   },
   {
    "duration": 221,
    "start_time": "2023-09-06T09:40:42.105Z"
   },
   {
    "duration": 136,
    "start_time": "2023-09-06T09:40:42.328Z"
   },
   {
    "duration": 0,
    "start_time": "2023-09-06T09:40:42.467Z"
   },
   {
    "duration": 0,
    "start_time": "2023-09-06T09:40:42.468Z"
   },
   {
    "duration": 0,
    "start_time": "2023-09-06T09:40:42.470Z"
   },
   {
    "duration": 0,
    "start_time": "2023-09-06T09:40:42.472Z"
   },
   {
    "duration": 0,
    "start_time": "2023-09-06T09:40:42.473Z"
   },
   {
    "duration": 0,
    "start_time": "2023-09-06T09:40:42.474Z"
   },
   {
    "duration": 0,
    "start_time": "2023-09-06T09:40:42.476Z"
   },
   {
    "duration": 0,
    "start_time": "2023-09-06T09:40:42.477Z"
   },
   {
    "duration": 0,
    "start_time": "2023-09-06T09:40:42.478Z"
   },
   {
    "duration": 0,
    "start_time": "2023-09-06T09:40:42.502Z"
   },
   {
    "duration": 0,
    "start_time": "2023-09-06T09:40:42.503Z"
   },
   {
    "duration": 0,
    "start_time": "2023-09-06T09:40:42.505Z"
   },
   {
    "duration": 0,
    "start_time": "2023-09-06T09:40:42.506Z"
   },
   {
    "duration": 0,
    "start_time": "2023-09-06T09:40:42.507Z"
   },
   {
    "duration": 0,
    "start_time": "2023-09-06T09:40:42.508Z"
   },
   {
    "duration": 0,
    "start_time": "2023-09-06T09:40:42.509Z"
   },
   {
    "duration": 0,
    "start_time": "2023-09-06T09:40:42.510Z"
   },
   {
    "duration": 0,
    "start_time": "2023-09-06T09:40:42.511Z"
   },
   {
    "duration": 0,
    "start_time": "2023-09-06T09:40:42.512Z"
   },
   {
    "duration": 0,
    "start_time": "2023-09-06T09:40:42.513Z"
   },
   {
    "duration": 0,
    "start_time": "2023-09-06T09:40:42.514Z"
   },
   {
    "duration": 0,
    "start_time": "2023-09-06T09:40:42.515Z"
   },
   {
    "duration": 0,
    "start_time": "2023-09-06T09:40:42.516Z"
   },
   {
    "duration": 0,
    "start_time": "2023-09-06T09:40:42.518Z"
   },
   {
    "duration": 0,
    "start_time": "2023-09-06T09:40:42.519Z"
   },
   {
    "duration": 0,
    "start_time": "2023-09-06T09:40:42.520Z"
   },
   {
    "duration": 0,
    "start_time": "2023-09-06T09:40:42.521Z"
   },
   {
    "duration": 0,
    "start_time": "2023-09-06T09:40:42.522Z"
   },
   {
    "duration": 0,
    "start_time": "2023-09-06T09:40:42.523Z"
   },
   {
    "duration": 0,
    "start_time": "2023-09-06T09:40:42.524Z"
   },
   {
    "duration": 0,
    "start_time": "2023-09-06T09:40:42.525Z"
   },
   {
    "duration": 0,
    "start_time": "2023-09-06T09:40:42.526Z"
   },
   {
    "duration": 0,
    "start_time": "2023-09-06T09:40:42.528Z"
   },
   {
    "duration": 0,
    "start_time": "2023-09-06T09:40:42.529Z"
   },
   {
    "duration": 0,
    "start_time": "2023-09-06T09:40:42.529Z"
   },
   {
    "duration": 0,
    "start_time": "2023-09-06T09:40:42.531Z"
   },
   {
    "duration": 0,
    "start_time": "2023-09-06T09:40:42.533Z"
   },
   {
    "duration": 1,
    "start_time": "2023-09-06T09:40:42.533Z"
   },
   {
    "duration": 0,
    "start_time": "2023-09-06T09:40:42.535Z"
   },
   {
    "duration": 0,
    "start_time": "2023-09-06T09:40:42.536Z"
   },
   {
    "duration": 0,
    "start_time": "2023-09-06T09:40:42.537Z"
   },
   {
    "duration": 0,
    "start_time": "2023-09-06T09:40:42.601Z"
   },
   {
    "duration": 0,
    "start_time": "2023-09-06T09:40:42.603Z"
   },
   {
    "duration": 0,
    "start_time": "2023-09-06T09:40:42.604Z"
   },
   {
    "duration": 0,
    "start_time": "2023-09-06T09:40:42.606Z"
   },
   {
    "duration": 0,
    "start_time": "2023-09-06T09:40:42.607Z"
   },
   {
    "duration": 0,
    "start_time": "2023-09-06T09:40:42.609Z"
   },
   {
    "duration": 0,
    "start_time": "2023-09-06T09:40:42.610Z"
   },
   {
    "duration": 0,
    "start_time": "2023-09-06T09:40:42.611Z"
   },
   {
    "duration": 0,
    "start_time": "2023-09-06T09:40:42.612Z"
   },
   {
    "duration": 0,
    "start_time": "2023-09-06T09:40:42.613Z"
   },
   {
    "duration": 0,
    "start_time": "2023-09-06T09:40:42.614Z"
   },
   {
    "duration": 0,
    "start_time": "2023-09-06T09:40:42.615Z"
   },
   {
    "duration": 0,
    "start_time": "2023-09-06T09:40:42.616Z"
   },
   {
    "duration": 0,
    "start_time": "2023-09-06T09:40:42.617Z"
   },
   {
    "duration": 0,
    "start_time": "2023-09-06T09:40:42.618Z"
   },
   {
    "duration": 0,
    "start_time": "2023-09-06T09:40:42.619Z"
   },
   {
    "duration": 0,
    "start_time": "2023-09-06T09:40:42.620Z"
   },
   {
    "duration": 0,
    "start_time": "2023-09-06T09:40:42.621Z"
   },
   {
    "duration": 0,
    "start_time": "2023-09-06T09:40:42.622Z"
   },
   {
    "duration": 0,
    "start_time": "2023-09-06T09:40:42.623Z"
   },
   {
    "duration": 0,
    "start_time": "2023-09-06T09:40:42.625Z"
   },
   {
    "duration": 0,
    "start_time": "2023-09-06T09:40:42.626Z"
   },
   {
    "duration": 0,
    "start_time": "2023-09-06T09:40:42.627Z"
   },
   {
    "duration": 0,
    "start_time": "2023-09-06T09:40:42.628Z"
   },
   {
    "duration": 289,
    "start_time": "2023-09-06T09:41:03.488Z"
   },
   {
    "duration": 1552,
    "start_time": "2023-09-06T09:41:12.126Z"
   },
   {
    "duration": 933,
    "start_time": "2023-09-06T09:41:20.136Z"
   },
   {
    "duration": 8,
    "start_time": "2023-09-06T09:41:30.306Z"
   },
   {
    "duration": 6,
    "start_time": "2023-09-06T09:44:45.890Z"
   },
   {
    "duration": 8,
    "start_time": "2023-09-06T09:44:58.196Z"
   },
   {
    "duration": 4,
    "start_time": "2023-09-06T09:45:41.583Z"
   },
   {
    "duration": 6,
    "start_time": "2023-09-06T09:45:52.881Z"
   },
   {
    "duration": 1342,
    "start_time": "2023-09-06T09:48:42.508Z"
   },
   {
    "duration": 1143,
    "start_time": "2023-09-06T09:48:43.852Z"
   },
   {
    "duration": 38,
    "start_time": "2023-09-06T09:48:44.997Z"
   },
   {
    "duration": 36,
    "start_time": "2023-09-06T09:48:45.038Z"
   },
   {
    "duration": 54,
    "start_time": "2023-09-06T09:48:45.077Z"
   },
   {
    "duration": 34,
    "start_time": "2023-09-06T09:48:45.133Z"
   },
   {
    "duration": 23,
    "start_time": "2023-09-06T09:48:45.169Z"
   },
   {
    "duration": 47,
    "start_time": "2023-09-06T09:48:45.194Z"
   },
   {
    "duration": 15,
    "start_time": "2023-09-06T09:48:45.243Z"
   },
   {
    "duration": 31,
    "start_time": "2023-09-06T09:48:45.261Z"
   },
   {
    "duration": 49,
    "start_time": "2023-09-06T09:48:45.294Z"
   },
   {
    "duration": 38,
    "start_time": "2023-09-06T09:48:45.345Z"
   },
   {
    "duration": 26,
    "start_time": "2023-09-06T09:48:45.385Z"
   },
   {
    "duration": 12,
    "start_time": "2023-09-06T09:48:45.413Z"
   },
   {
    "duration": 26,
    "start_time": "2023-09-06T09:48:45.427Z"
   },
   {
    "duration": 321,
    "start_time": "2023-09-06T09:48:45.455Z"
   },
   {
    "duration": 9,
    "start_time": "2023-09-06T09:48:45.778Z"
   },
   {
    "duration": 219,
    "start_time": "2023-09-06T09:48:45.801Z"
   },
   {
    "duration": 956,
    "start_time": "2023-09-06T09:48:46.021Z"
   },
   {
    "duration": 22,
    "start_time": "2023-09-06T09:48:46.979Z"
   },
   {
    "duration": 52,
    "start_time": "2023-09-06T09:48:47.003Z"
   },
   {
    "duration": 197,
    "start_time": "2023-09-06T09:48:47.057Z"
   },
   {
    "duration": 7,
    "start_time": "2023-09-06T09:48:47.256Z"
   },
   {
    "duration": 238,
    "start_time": "2023-09-06T09:48:47.265Z"
   },
   {
    "duration": 20,
    "start_time": "2023-09-06T09:48:47.505Z"
   },
   {
    "duration": 11,
    "start_time": "2023-09-06T09:48:47.527Z"
   },
   {
    "duration": 12,
    "start_time": "2023-09-06T09:48:47.539Z"
   },
   {
    "duration": 4,
    "start_time": "2023-09-06T09:48:47.555Z"
   },
   {
    "duration": 408,
    "start_time": "2023-09-06T09:48:47.560Z"
   },
   {
    "duration": 8,
    "start_time": "2023-09-06T09:48:47.970Z"
   },
   {
    "duration": 142,
    "start_time": "2023-09-06T09:48:47.980Z"
   },
   {
    "duration": 15,
    "start_time": "2023-09-06T09:48:48.124Z"
   },
   {
    "duration": 37,
    "start_time": "2023-09-06T09:48:48.141Z"
   },
   {
    "duration": 271,
    "start_time": "2023-09-06T09:48:48.179Z"
   },
   {
    "duration": 404,
    "start_time": "2023-09-06T09:48:48.452Z"
   },
   {
    "duration": 129,
    "start_time": "2023-09-06T09:48:48.858Z"
   },
   {
    "duration": 69,
    "start_time": "2023-09-06T09:48:48.989Z"
   },
   {
    "duration": 95,
    "start_time": "2023-09-06T09:48:49.059Z"
   },
   {
    "duration": 68,
    "start_time": "2023-09-06T09:48:49.156Z"
   },
   {
    "duration": 54,
    "start_time": "2023-09-06T09:48:49.225Z"
   },
   {
    "duration": 7,
    "start_time": "2023-09-06T09:48:49.301Z"
   },
   {
    "duration": 13,
    "start_time": "2023-09-06T09:48:49.310Z"
   },
   {
    "duration": 18,
    "start_time": "2023-09-06T09:48:49.325Z"
   },
   {
    "duration": 33,
    "start_time": "2023-09-06T09:48:49.345Z"
   },
   {
    "duration": 13,
    "start_time": "2023-09-06T09:48:49.380Z"
   },
   {
    "duration": 15,
    "start_time": "2023-09-06T09:48:49.395Z"
   },
   {
    "duration": 26,
    "start_time": "2023-09-06T09:48:49.412Z"
   },
   {
    "duration": 187,
    "start_time": "2023-09-06T09:48:49.440Z"
   },
   {
    "duration": 20,
    "start_time": "2023-09-06T09:48:49.630Z"
   },
   {
    "duration": 223,
    "start_time": "2023-09-06T09:48:49.652Z"
   },
   {
    "duration": 209,
    "start_time": "2023-09-06T09:48:49.877Z"
   },
   {
    "duration": 5,
    "start_time": "2023-09-06T09:48:50.087Z"
   },
   {
    "duration": 28,
    "start_time": "2023-09-06T09:48:50.101Z"
   },
   {
    "duration": 44,
    "start_time": "2023-09-06T09:48:50.131Z"
   },
   {
    "duration": 248,
    "start_time": "2023-09-06T09:48:50.177Z"
   },
   {
    "duration": 198,
    "start_time": "2023-09-06T09:48:50.427Z"
   },
   {
    "duration": 320,
    "start_time": "2023-09-06T09:48:50.627Z"
   },
   {
    "duration": 22,
    "start_time": "2023-09-06T09:48:50.950Z"
   },
   {
    "duration": 31,
    "start_time": "2023-09-06T09:48:50.973Z"
   },
   {
    "duration": 30,
    "start_time": "2023-09-06T09:48:51.006Z"
   },
   {
    "duration": 265,
    "start_time": "2023-09-06T09:48:51.038Z"
   },
   {
    "duration": 367,
    "start_time": "2023-09-06T09:48:51.304Z"
   },
   {
    "duration": 446,
    "start_time": "2023-09-06T09:48:51.672Z"
   },
   {
    "duration": 1807,
    "start_time": "2023-09-06T09:48:52.120Z"
   },
   {
    "duration": 402,
    "start_time": "2023-09-06T09:48:53.929Z"
   },
   {
    "duration": 12,
    "start_time": "2023-09-06T09:48:54.333Z"
   },
   {
    "duration": 277,
    "start_time": "2023-09-06T09:48:54.347Z"
   },
   {
    "duration": 556,
    "start_time": "2023-09-06T09:48:54.627Z"
   },
   {
    "duration": 2,
    "start_time": "2023-09-06T09:48:55.185Z"
   },
   {
    "duration": 32,
    "start_time": "2023-09-06T09:48:55.188Z"
   },
   {
    "duration": 26,
    "start_time": "2023-09-06T09:48:55.222Z"
   },
   {
    "duration": 18,
    "start_time": "2023-09-06T09:48:55.250Z"
   },
   {
    "duration": 16,
    "start_time": "2023-09-06T09:48:55.270Z"
   },
   {
    "duration": 6,
    "start_time": "2023-09-06T09:48:55.302Z"
   },
   {
    "duration": 23,
    "start_time": "2023-09-06T09:48:55.310Z"
   },
   {
    "duration": 24,
    "start_time": "2023-09-06T09:48:55.334Z"
   },
   {
    "duration": 8,
    "start_time": "2023-09-06T09:48:55.360Z"
   },
   {
    "duration": 8,
    "start_time": "2023-09-06T09:48:55.370Z"
   },
   {
    "duration": 26,
    "start_time": "2023-09-06T09:48:55.380Z"
   },
   {
    "duration": 24,
    "start_time": "2023-09-06T09:48:55.408Z"
   },
   {
    "duration": 12,
    "start_time": "2023-09-06T09:48:55.434Z"
   },
   {
    "duration": 9,
    "start_time": "2023-09-06T09:48:55.452Z"
   },
   {
    "duration": 6,
    "start_time": "2023-09-06T09:48:55.463Z"
   },
   {
    "duration": 12,
    "start_time": "2023-09-06T09:48:55.471Z"
   },
   {
    "duration": 11,
    "start_time": "2023-09-06T09:48:55.485Z"
   },
   {
    "duration": 60,
    "start_time": "2023-09-07T04:14:01.981Z"
   },
   {
    "duration": 1594,
    "start_time": "2023-09-07T04:14:10.834Z"
   },
   {
    "duration": 1468,
    "start_time": "2023-09-07T04:14:12.430Z"
   },
   {
    "duration": 37,
    "start_time": "2023-09-07T04:14:13.900Z"
   },
   {
    "duration": 7,
    "start_time": "2023-09-07T04:14:13.939Z"
   },
   {
    "duration": 40,
    "start_time": "2023-09-07T04:14:13.947Z"
   },
   {
    "duration": 22,
    "start_time": "2023-09-07T04:14:13.989Z"
   },
   {
    "duration": 13,
    "start_time": "2023-09-07T04:14:14.019Z"
   },
   {
    "duration": 37,
    "start_time": "2023-09-07T04:14:14.034Z"
   },
   {
    "duration": 13,
    "start_time": "2023-09-07T04:14:14.073Z"
   },
   {
    "duration": 18,
    "start_time": "2023-09-07T04:14:14.104Z"
   },
   {
    "duration": 9,
    "start_time": "2023-09-07T04:14:14.123Z"
   },
   {
    "duration": 11,
    "start_time": "2023-09-07T04:14:14.134Z"
   },
   {
    "duration": 21,
    "start_time": "2023-09-07T04:14:14.147Z"
   },
   {
    "duration": 3,
    "start_time": "2023-09-07T04:14:14.170Z"
   },
   {
    "duration": 36,
    "start_time": "2023-09-07T04:14:14.175Z"
   },
   {
    "duration": 369,
    "start_time": "2023-09-07T04:14:14.213Z"
   },
   {
    "duration": 25,
    "start_time": "2023-09-07T04:14:14.585Z"
   },
   {
    "duration": 234,
    "start_time": "2023-09-07T04:14:14.616Z"
   },
   {
    "duration": 943,
    "start_time": "2023-09-07T04:14:14.852Z"
   },
   {
    "duration": 10,
    "start_time": "2023-09-07T04:14:15.802Z"
   },
   {
    "duration": 11,
    "start_time": "2023-09-07T04:14:15.814Z"
   },
   {
    "duration": 194,
    "start_time": "2023-09-07T04:14:15.827Z"
   },
   {
    "duration": 7,
    "start_time": "2023-09-07T04:14:16.024Z"
   },
   {
    "duration": 239,
    "start_time": "2023-09-07T04:14:16.033Z"
   },
   {
    "duration": 30,
    "start_time": "2023-09-07T04:14:16.273Z"
   },
   {
    "duration": 14,
    "start_time": "2023-09-07T04:14:16.305Z"
   },
   {
    "duration": 6,
    "start_time": "2023-09-07T04:14:16.321Z"
   },
   {
    "duration": 10,
    "start_time": "2023-09-07T04:14:16.331Z"
   },
   {
    "duration": 991,
    "start_time": "2023-09-07T04:14:16.343Z"
   },
   {
    "duration": 9,
    "start_time": "2023-09-07T04:14:17.336Z"
   },
   {
    "duration": 201,
    "start_time": "2023-09-07T04:14:17.347Z"
   },
   {
    "duration": 22,
    "start_time": "2023-09-07T04:14:17.606Z"
   },
   {
    "duration": 104,
    "start_time": "2023-09-07T04:14:17.630Z"
   },
   {
    "duration": 511,
    "start_time": "2023-09-07T04:14:17.736Z"
   },
   {
    "duration": 701,
    "start_time": "2023-09-07T04:14:18.249Z"
   },
   {
    "duration": 129,
    "start_time": "2023-09-07T04:14:18.952Z"
   },
   {
    "duration": 77,
    "start_time": "2023-09-07T04:14:19.083Z"
   },
   {
    "duration": 90,
    "start_time": "2023-09-07T04:14:19.162Z"
   },
   {
    "duration": 73,
    "start_time": "2023-09-07T04:14:19.255Z"
   },
   {
    "duration": 87,
    "start_time": "2023-09-07T04:14:19.330Z"
   },
   {
    "duration": 9,
    "start_time": "2023-09-07T04:14:19.420Z"
   },
   {
    "duration": 17,
    "start_time": "2023-09-07T04:14:19.431Z"
   },
   {
    "duration": 31,
    "start_time": "2023-09-07T04:14:19.451Z"
   },
   {
    "duration": 18,
    "start_time": "2023-09-07T04:14:19.483Z"
   },
   {
    "duration": 14,
    "start_time": "2023-09-07T04:14:19.506Z"
   },
   {
    "duration": 7,
    "start_time": "2023-09-07T04:14:19.522Z"
   },
   {
    "duration": 31,
    "start_time": "2023-09-07T04:14:19.531Z"
   },
   {
    "duration": 196,
    "start_time": "2023-09-07T04:14:19.564Z"
   },
   {
    "duration": 18,
    "start_time": "2023-09-07T04:14:19.762Z"
   },
   {
    "duration": 237,
    "start_time": "2023-09-07T04:14:19.782Z"
   },
   {
    "duration": 209,
    "start_time": "2023-09-07T04:14:20.021Z"
   },
   {
    "duration": 5,
    "start_time": "2023-09-07T04:14:20.232Z"
   },
   {
    "duration": 33,
    "start_time": "2023-09-07T04:14:20.239Z"
   },
   {
    "duration": 10,
    "start_time": "2023-09-07T04:14:20.274Z"
   },
   {
    "duration": 236,
    "start_time": "2023-09-07T04:14:20.286Z"
   },
   {
    "duration": 206,
    "start_time": "2023-09-07T04:14:20.524Z"
   },
   {
    "duration": 137,
    "start_time": "2023-09-07T04:14:20.732Z"
   },
   {
    "duration": 0,
    "start_time": "2023-09-07T04:14:20.871Z"
   },
   {
    "duration": 0,
    "start_time": "2023-09-07T04:14:20.872Z"
   },
   {
    "duration": 0,
    "start_time": "2023-09-07T04:14:20.873Z"
   },
   {
    "duration": 0,
    "start_time": "2023-09-07T04:14:20.875Z"
   },
   {
    "duration": 0,
    "start_time": "2023-09-07T04:14:20.876Z"
   },
   {
    "duration": 0,
    "start_time": "2023-09-07T04:14:20.877Z"
   },
   {
    "duration": 0,
    "start_time": "2023-09-07T04:14:20.878Z"
   },
   {
    "duration": 0,
    "start_time": "2023-09-07T04:14:20.879Z"
   },
   {
    "duration": 0,
    "start_time": "2023-09-07T04:14:20.905Z"
   },
   {
    "duration": 0,
    "start_time": "2023-09-07T04:14:20.907Z"
   },
   {
    "duration": 0,
    "start_time": "2023-09-07T04:14:20.909Z"
   },
   {
    "duration": 0,
    "start_time": "2023-09-07T04:14:20.910Z"
   },
   {
    "duration": 0,
    "start_time": "2023-09-07T04:14:20.910Z"
   },
   {
    "duration": 0,
    "start_time": "2023-09-07T04:14:20.911Z"
   },
   {
    "duration": 0,
    "start_time": "2023-09-07T04:14:20.912Z"
   },
   {
    "duration": 0,
    "start_time": "2023-09-07T04:14:20.913Z"
   },
   {
    "duration": 0,
    "start_time": "2023-09-07T04:14:20.913Z"
   },
   {
    "duration": 0,
    "start_time": "2023-09-07T04:14:20.914Z"
   },
   {
    "duration": 0,
    "start_time": "2023-09-07T04:14:20.915Z"
   },
   {
    "duration": 0,
    "start_time": "2023-09-07T04:14:20.915Z"
   },
   {
    "duration": 0,
    "start_time": "2023-09-07T04:14:20.916Z"
   },
   {
    "duration": 0,
    "start_time": "2023-09-07T04:14:20.917Z"
   },
   {
    "duration": 0,
    "start_time": "2023-09-07T04:14:21.072Z"
   },
   {
    "duration": 0,
    "start_time": "2023-09-07T04:14:21.075Z"
   },
   {
    "duration": 0,
    "start_time": "2023-09-07T04:14:21.076Z"
   },
   {
    "duration": 0,
    "start_time": "2023-09-07T04:14:21.077Z"
   },
   {
    "duration": 0,
    "start_time": "2023-09-07T04:14:21.078Z"
   },
   {
    "duration": 0,
    "start_time": "2023-09-07T04:14:21.079Z"
   },
   {
    "duration": 19,
    "start_time": "2023-09-07T04:15:05.162Z"
   },
   {
    "duration": 197,
    "start_time": "2023-09-07T04:15:29.710Z"
   },
   {
    "duration": 22,
    "start_time": "2023-09-07T04:21:46.282Z"
   },
   {
    "duration": 13,
    "start_time": "2023-09-07T04:21:46.743Z"
   },
   {
    "duration": 13,
    "start_time": "2023-09-07T04:21:48.715Z"
   },
   {
    "duration": 257,
    "start_time": "2023-09-07T04:21:50.429Z"
   },
   {
    "duration": 378,
    "start_time": "2023-09-07T04:21:51.380Z"
   },
   {
    "duration": 431,
    "start_time": "2023-09-07T04:21:52.686Z"
   },
   {
    "duration": 1901,
    "start_time": "2023-09-07T04:21:53.262Z"
   },
   {
    "duration": 385,
    "start_time": "2023-09-07T04:21:55.166Z"
   },
   {
    "duration": 12,
    "start_time": "2023-09-07T04:21:55.554Z"
   },
   {
    "duration": 240,
    "start_time": "2023-09-07T04:21:56.936Z"
   },
   {
    "duration": 481,
    "start_time": "2023-09-07T04:22:53.123Z"
   },
   {
    "duration": 3,
    "start_time": "2023-09-07T04:23:15.355Z"
   },
   {
    "duration": 16,
    "start_time": "2023-09-07T04:23:15.982Z"
   },
   {
    "duration": 26,
    "start_time": "2023-09-07T04:23:16.585Z"
   },
   {
    "duration": 17,
    "start_time": "2023-09-07T04:23:17.282Z"
   },
   {
    "duration": 16,
    "start_time": "2023-09-07T04:23:17.715Z"
   },
   {
    "duration": 5,
    "start_time": "2023-09-07T04:23:23.053Z"
   },
   {
    "duration": 5,
    "start_time": "2023-09-07T04:23:23.481Z"
   },
   {
    "duration": 10,
    "start_time": "2023-09-07T04:23:23.802Z"
   },
   {
    "duration": 5,
    "start_time": "2023-09-07T04:23:24.182Z"
   },
   {
    "duration": 4,
    "start_time": "2023-09-07T04:23:24.954Z"
   },
   {
    "duration": 3,
    "start_time": "2023-09-07T04:23:27.315Z"
   },
   {
    "duration": 4,
    "start_time": "2023-09-07T04:23:27.932Z"
   },
   {
    "duration": 6,
    "start_time": "2023-09-07T04:23:28.708Z"
   },
   {
    "duration": 5,
    "start_time": "2023-09-07T04:23:32.428Z"
   },
   {
    "duration": 6,
    "start_time": "2023-09-07T04:23:33.624Z"
   },
   {
    "duration": 5,
    "start_time": "2023-09-07T04:23:34.610Z"
   },
   {
    "duration": 14,
    "start_time": "2023-09-07T04:23:36.699Z"
   },
   {
    "duration": 122,
    "start_time": "2023-09-07T04:24:18.058Z"
   },
   {
    "duration": 1342,
    "start_time": "2023-09-07T05:23:22.875Z"
   },
   {
    "duration": 1209,
    "start_time": "2023-09-07T05:23:24.219Z"
   },
   {
    "duration": 24,
    "start_time": "2023-09-07T05:23:25.430Z"
   },
   {
    "duration": 75,
    "start_time": "2023-09-07T05:23:25.456Z"
   },
   {
    "duration": 52,
    "start_time": "2023-09-07T05:23:25.533Z"
   },
   {
    "duration": 26,
    "start_time": "2023-09-07T05:23:25.587Z"
   },
   {
    "duration": 14,
    "start_time": "2023-09-07T05:23:25.615Z"
   },
   {
    "duration": 41,
    "start_time": "2023-09-07T05:23:25.631Z"
   },
   {
    "duration": 13,
    "start_time": "2023-09-07T05:23:25.674Z"
   },
   {
    "duration": 28,
    "start_time": "2023-09-07T05:23:25.702Z"
   },
   {
    "duration": 10,
    "start_time": "2023-09-07T05:23:25.732Z"
   },
   {
    "duration": 47,
    "start_time": "2023-09-07T05:23:25.744Z"
   },
   {
    "duration": 47,
    "start_time": "2023-09-07T05:23:25.793Z"
   },
   {
    "duration": 53,
    "start_time": "2023-09-07T05:23:25.841Z"
   },
   {
    "duration": 94,
    "start_time": "2023-09-07T05:23:25.896Z"
   },
   {
    "duration": 339,
    "start_time": "2023-09-07T05:23:25.992Z"
   },
   {
    "duration": 5,
    "start_time": "2023-09-07T05:23:26.333Z"
   },
   {
    "duration": 208,
    "start_time": "2023-09-07T05:23:26.339Z"
   },
   {
    "duration": 865,
    "start_time": "2023-09-07T05:23:26.550Z"
   },
   {
    "duration": 8,
    "start_time": "2023-09-07T05:23:27.417Z"
   },
   {
    "duration": 31,
    "start_time": "2023-09-07T05:23:27.427Z"
   },
   {
    "duration": 192,
    "start_time": "2023-09-07T05:23:27.459Z"
   },
   {
    "duration": 8,
    "start_time": "2023-09-07T05:23:27.653Z"
   },
   {
    "duration": 272,
    "start_time": "2023-09-07T05:23:27.663Z"
   },
   {
    "duration": 20,
    "start_time": "2023-09-07T05:23:27.937Z"
   },
   {
    "duration": 19,
    "start_time": "2023-09-07T05:23:27.959Z"
   },
   {
    "duration": 33,
    "start_time": "2023-09-07T05:23:27.981Z"
   },
   {
    "duration": 4,
    "start_time": "2023-09-07T05:23:28.019Z"
   },
   {
    "duration": 397,
    "start_time": "2023-09-07T05:23:28.025Z"
   },
   {
    "duration": 8,
    "start_time": "2023-09-07T05:23:28.423Z"
   },
   {
    "duration": 98,
    "start_time": "2023-09-07T05:23:28.433Z"
   },
   {
    "duration": 14,
    "start_time": "2023-09-07T05:23:28.534Z"
   },
   {
    "duration": 62,
    "start_time": "2023-09-07T05:23:28.549Z"
   },
   {
    "duration": 233,
    "start_time": "2023-09-07T05:23:28.614Z"
   },
   {
    "duration": 373,
    "start_time": "2023-09-07T05:23:28.849Z"
   },
   {
    "duration": 121,
    "start_time": "2023-09-07T05:23:29.224Z"
   },
   {
    "duration": 73,
    "start_time": "2023-09-07T05:23:29.346Z"
   },
   {
    "duration": 63,
    "start_time": "2023-09-07T05:23:29.420Z"
   },
   {
    "duration": 41,
    "start_time": "2023-09-07T05:23:29.515Z"
   },
   {
    "duration": 66,
    "start_time": "2023-09-07T05:23:29.558Z"
   },
   {
    "duration": 7,
    "start_time": "2023-09-07T05:23:29.626Z"
   },
   {
    "duration": 7,
    "start_time": "2023-09-07T05:23:29.635Z"
   },
   {
    "duration": 8,
    "start_time": "2023-09-07T05:23:29.644Z"
   },
   {
    "duration": 59,
    "start_time": "2023-09-07T05:23:29.654Z"
   },
   {
    "duration": 14,
    "start_time": "2023-09-07T05:23:29.715Z"
   },
   {
    "duration": 85,
    "start_time": "2023-09-07T05:23:29.730Z"
   },
   {
    "duration": 22,
    "start_time": "2023-09-07T05:23:29.817Z"
   },
   {
    "duration": 178,
    "start_time": "2023-09-07T05:23:29.841Z"
   },
   {
    "duration": 19,
    "start_time": "2023-09-07T05:23:30.021Z"
   },
   {
    "duration": 235,
    "start_time": "2023-09-07T05:23:30.041Z"
   },
   {
    "duration": 197,
    "start_time": "2023-09-07T05:23:30.278Z"
   },
   {
    "duration": 5,
    "start_time": "2023-09-07T05:23:30.477Z"
   },
   {
    "duration": 53,
    "start_time": "2023-09-07T05:23:30.483Z"
   },
   {
    "duration": 29,
    "start_time": "2023-09-07T05:23:30.538Z"
   },
   {
    "duration": 224,
    "start_time": "2023-09-07T05:23:30.569Z"
   },
   {
    "duration": 187,
    "start_time": "2023-09-07T05:23:30.801Z"
   },
   {
    "duration": 30,
    "start_time": "2023-09-07T05:23:30.990Z"
   },
   {
    "duration": 365,
    "start_time": "2023-09-07T05:23:31.022Z"
   },
   {
    "duration": 36,
    "start_time": "2023-09-07T05:23:31.389Z"
   },
   {
    "duration": 241,
    "start_time": "2023-09-07T05:23:31.426Z"
   },
   {
    "duration": 92,
    "start_time": "2023-09-07T05:23:31.669Z"
   },
   {
    "duration": 316,
    "start_time": "2023-09-07T05:23:31.763Z"
   },
   {
    "duration": 352,
    "start_time": "2023-09-07T05:23:32.081Z"
   },
   {
    "duration": 682,
    "start_time": "2023-09-07T05:23:32.435Z"
   },
   {
    "duration": 1812,
    "start_time": "2023-09-07T05:23:33.119Z"
   },
   {
    "duration": 380,
    "start_time": "2023-09-07T05:23:34.933Z"
   },
   {
    "duration": 11,
    "start_time": "2023-09-07T05:23:35.316Z"
   },
   {
    "duration": 261,
    "start_time": "2023-09-07T05:23:35.328Z"
   },
   {
    "duration": 482,
    "start_time": "2023-09-07T05:23:35.590Z"
   },
   {
    "duration": 2,
    "start_time": "2023-09-07T05:23:36.074Z"
   },
   {
    "duration": 46,
    "start_time": "2023-09-07T05:23:36.078Z"
   },
   {
    "duration": 20,
    "start_time": "2023-09-07T05:23:36.126Z"
   },
   {
    "duration": 30,
    "start_time": "2023-09-07T05:23:36.148Z"
   },
   {
    "duration": 16,
    "start_time": "2023-09-07T05:23:36.180Z"
   },
   {
    "duration": 18,
    "start_time": "2023-09-07T05:23:36.198Z"
   },
   {
    "duration": 23,
    "start_time": "2023-09-07T05:23:36.218Z"
   },
   {
    "duration": 21,
    "start_time": "2023-09-07T05:23:36.242Z"
   },
   {
    "duration": 31,
    "start_time": "2023-09-07T05:23:36.265Z"
   },
   {
    "duration": 17,
    "start_time": "2023-09-07T05:23:36.298Z"
   },
   {
    "duration": 44,
    "start_time": "2023-09-07T05:23:36.317Z"
   },
   {
    "duration": 29,
    "start_time": "2023-09-07T05:23:36.362Z"
   },
   {
    "duration": 40,
    "start_time": "2023-09-07T05:23:36.396Z"
   },
   {
    "duration": 26,
    "start_time": "2023-09-07T05:23:36.437Z"
   },
   {
    "duration": 23,
    "start_time": "2023-09-07T05:23:36.464Z"
   },
   {
    "duration": 27,
    "start_time": "2023-09-07T05:23:36.489Z"
   },
   {
    "duration": 27,
    "start_time": "2023-09-07T05:23:36.518Z"
   },
   {
    "duration": 83,
    "start_time": "2023-09-07T09:11:50.993Z"
   },
   {
    "duration": 1750,
    "start_time": "2023-09-07T09:11:57.454Z"
   },
   {
    "duration": 2151,
    "start_time": "2023-09-07T09:11:59.207Z"
   },
   {
    "duration": 26,
    "start_time": "2023-09-07T09:12:01.360Z"
   },
   {
    "duration": 36,
    "start_time": "2023-09-07T09:12:01.388Z"
   },
   {
    "duration": 53,
    "start_time": "2023-09-07T09:12:01.428Z"
   },
   {
    "duration": 71,
    "start_time": "2023-09-07T09:12:01.483Z"
   },
   {
    "duration": 102,
    "start_time": "2023-09-07T09:12:01.555Z"
   },
   {
    "duration": 297,
    "start_time": "2023-09-07T09:12:01.658Z"
   },
   {
    "duration": 330,
    "start_time": "2023-09-07T09:12:01.957Z"
   },
   {
    "duration": 203,
    "start_time": "2023-09-07T09:12:02.290Z"
   },
   {
    "duration": 79,
    "start_time": "2023-09-07T09:12:02.495Z"
   },
   {
    "duration": 41,
    "start_time": "2023-09-07T09:12:02.576Z"
   },
   {
    "duration": 55,
    "start_time": "2023-09-07T09:12:02.619Z"
   },
   {
    "duration": 55,
    "start_time": "2023-09-07T09:12:02.677Z"
   },
   {
    "duration": 44,
    "start_time": "2023-09-07T09:12:02.734Z"
   },
   {
    "duration": 390,
    "start_time": "2023-09-07T09:12:02.780Z"
   },
   {
    "duration": 6,
    "start_time": "2023-09-07T09:12:03.172Z"
   },
   {
    "duration": 244,
    "start_time": "2023-09-07T09:12:03.180Z"
   },
   {
    "duration": 974,
    "start_time": "2023-09-07T09:12:03.433Z"
   },
   {
    "duration": 9,
    "start_time": "2023-09-07T09:12:04.413Z"
   },
   {
    "duration": 72,
    "start_time": "2023-09-07T09:12:04.424Z"
   },
   {
    "duration": 269,
    "start_time": "2023-09-07T09:12:04.498Z"
   },
   {
    "duration": 9,
    "start_time": "2023-09-07T09:12:04.769Z"
   },
   {
    "duration": 320,
    "start_time": "2023-09-07T09:12:04.781Z"
   },
   {
    "duration": 37,
    "start_time": "2023-09-07T09:12:05.106Z"
   },
   {
    "duration": 11,
    "start_time": "2023-09-07T09:12:05.145Z"
   },
   {
    "duration": 7,
    "start_time": "2023-09-07T09:12:05.158Z"
   },
   {
    "duration": 16,
    "start_time": "2023-09-07T09:12:05.167Z"
   },
   {
    "duration": 505,
    "start_time": "2023-09-07T09:12:05.185Z"
   },
   {
    "duration": 35,
    "start_time": "2023-09-07T09:12:05.692Z"
   },
   {
    "duration": 89,
    "start_time": "2023-09-07T09:12:05.733Z"
   },
   {
    "duration": 24,
    "start_time": "2023-09-07T09:12:05.824Z"
   },
   {
    "duration": 52,
    "start_time": "2023-09-07T09:12:05.850Z"
   },
   {
    "duration": 279,
    "start_time": "2023-09-07T09:12:05.913Z"
   },
   {
    "duration": 472,
    "start_time": "2023-09-07T09:12:06.193Z"
   },
   {
    "duration": 151,
    "start_time": "2023-09-07T09:12:06.667Z"
   },
   {
    "duration": 70,
    "start_time": "2023-09-07T09:12:06.822Z"
   },
   {
    "duration": 85,
    "start_time": "2023-09-07T09:12:06.903Z"
   },
   {
    "duration": 61,
    "start_time": "2023-09-07T09:12:07.004Z"
   },
   {
    "duration": 155,
    "start_time": "2023-09-07T09:12:07.067Z"
   },
   {
    "duration": 9,
    "start_time": "2023-09-07T09:12:07.234Z"
   },
   {
    "duration": 9,
    "start_time": "2023-09-07T09:12:07.246Z"
   },
   {
    "duration": 138,
    "start_time": "2023-09-07T09:12:07.257Z"
   },
   {
    "duration": 51,
    "start_time": "2023-09-07T09:12:07.397Z"
   },
   {
    "duration": 8,
    "start_time": "2023-09-07T09:12:07.450Z"
   },
   {
    "duration": 17,
    "start_time": "2023-09-07T09:12:07.460Z"
   },
   {
    "duration": 27,
    "start_time": "2023-09-07T09:12:07.479Z"
   },
   {
    "duration": 235,
    "start_time": "2023-09-07T09:12:07.512Z"
   },
   {
    "duration": 19,
    "start_time": "2023-09-07T09:12:07.752Z"
   },
   {
    "duration": 254,
    "start_time": "2023-09-07T09:12:07.774Z"
   },
   {
    "duration": 245,
    "start_time": "2023-09-07T09:12:08.034Z"
   },
   {
    "duration": 6,
    "start_time": "2023-09-07T09:12:08.281Z"
   },
   {
    "duration": 96,
    "start_time": "2023-09-07T09:12:08.289Z"
   },
   {
    "duration": 366,
    "start_time": "2023-09-07T09:12:08.387Z"
   },
   {
    "duration": 297,
    "start_time": "2023-09-07T09:12:08.755Z"
   },
   {
    "duration": 248,
    "start_time": "2023-09-07T09:12:09.055Z"
   },
   {
    "duration": 35,
    "start_time": "2023-09-07T09:12:09.305Z"
   },
   {
    "duration": 411,
    "start_time": "2023-09-07T09:12:09.342Z"
   },
   {
    "duration": 24,
    "start_time": "2023-09-07T09:12:09.756Z"
   },
   {
    "duration": 60,
    "start_time": "2023-09-07T09:12:09.782Z"
   },
   {
    "duration": 373,
    "start_time": "2023-09-07T09:12:09.845Z"
   },
   {
    "duration": 851,
    "start_time": "2023-09-07T09:12:10.221Z"
   },
   {
    "duration": 476,
    "start_time": "2023-09-07T09:12:11.074Z"
   },
   {
    "duration": 504,
    "start_time": "2023-09-07T09:12:11.552Z"
   },
   {
    "duration": 2030,
    "start_time": "2023-09-07T09:12:12.058Z"
   },
   {
    "duration": 446,
    "start_time": "2023-09-07T09:12:14.090Z"
   },
   {
    "duration": 13,
    "start_time": "2023-09-07T09:12:14.538Z"
   },
   {
    "duration": 375,
    "start_time": "2023-09-07T09:12:14.553Z"
   },
   {
    "duration": 589,
    "start_time": "2023-09-07T09:12:14.934Z"
   },
   {
    "duration": 8,
    "start_time": "2023-09-07T09:12:15.528Z"
   },
   {
    "duration": 31,
    "start_time": "2023-09-07T09:12:15.538Z"
   },
   {
    "duration": 19,
    "start_time": "2023-09-07T09:12:15.571Z"
   },
   {
    "duration": 28,
    "start_time": "2023-09-07T09:12:15.592Z"
   },
   {
    "duration": 19,
    "start_time": "2023-09-07T09:12:15.630Z"
   },
   {
    "duration": 33,
    "start_time": "2023-09-07T09:12:15.651Z"
   },
   {
    "duration": 6,
    "start_time": "2023-09-07T09:12:15.686Z"
   },
   {
    "duration": 21,
    "start_time": "2023-09-07T09:12:15.693Z"
   },
   {
    "duration": 22,
    "start_time": "2023-09-07T09:12:15.715Z"
   },
   {
    "duration": 13,
    "start_time": "2023-09-07T09:12:15.739Z"
   },
   {
    "duration": 12,
    "start_time": "2023-09-07T09:12:15.754Z"
   },
   {
    "duration": 19,
    "start_time": "2023-09-07T09:12:15.768Z"
   },
   {
    "duration": 20,
    "start_time": "2023-09-07T09:12:15.789Z"
   },
   {
    "duration": 13,
    "start_time": "2023-09-07T09:12:15.814Z"
   },
   {
    "duration": 20,
    "start_time": "2023-09-07T09:12:15.830Z"
   },
   {
    "duration": 18,
    "start_time": "2023-09-07T09:12:15.852Z"
   },
   {
    "duration": 27,
    "start_time": "2023-09-07T09:12:15.872Z"
   },
   {
    "duration": 31,
    "start_time": "2023-09-07T09:12:15.901Z"
   },
   {
    "duration": 9,
    "start_time": "2023-09-07T09:12:48.037Z"
   },
   {
    "duration": 9,
    "start_time": "2023-09-07T09:13:12.038Z"
   },
   {
    "duration": 12,
    "start_time": "2023-09-07T09:13:56.925Z"
   },
   {
    "duration": 10,
    "start_time": "2023-09-07T09:14:18.883Z"
   },
   {
    "duration": 16,
    "start_time": "2023-09-07T09:14:39.826Z"
   },
   {
    "duration": 2,
    "start_time": "2023-09-07T09:29:08.245Z"
   },
   {
    "duration": 5,
    "start_time": "2023-09-07T09:29:08.859Z"
   },
   {
    "duration": 5,
    "start_time": "2023-09-07T09:29:11.041Z"
   },
   {
    "duration": 6,
    "start_time": "2023-09-07T09:29:12.624Z"
   },
   {
    "duration": 5,
    "start_time": "2023-09-07T09:29:15.471Z"
   },
   {
    "duration": 5,
    "start_time": "2023-09-07T09:29:17.140Z"
   },
   {
    "duration": 13,
    "start_time": "2023-09-07T09:29:21.400Z"
   },
   {
    "duration": 1410,
    "start_time": "2023-09-07T10:02:42.381Z"
   },
   {
    "duration": 1804,
    "start_time": "2023-09-07T10:02:43.793Z"
   },
   {
    "duration": 33,
    "start_time": "2023-09-07T10:02:45.598Z"
   },
   {
    "duration": 23,
    "start_time": "2023-09-07T10:02:45.633Z"
   },
   {
    "duration": 64,
    "start_time": "2023-09-07T10:02:45.658Z"
   },
   {
    "duration": 26,
    "start_time": "2023-09-07T10:02:45.726Z"
   },
   {
    "duration": 20,
    "start_time": "2023-09-07T10:02:45.754Z"
   },
   {
    "duration": 78,
    "start_time": "2023-09-07T10:02:45.776Z"
   },
   {
    "duration": 13,
    "start_time": "2023-09-07T10:02:45.856Z"
   },
   {
    "duration": 79,
    "start_time": "2023-09-07T10:02:45.872Z"
   },
   {
    "duration": 19,
    "start_time": "2023-09-07T10:02:45.952Z"
   },
   {
    "duration": 19,
    "start_time": "2023-09-07T10:02:45.973Z"
   },
   {
    "duration": 27,
    "start_time": "2023-09-07T10:02:45.994Z"
   },
   {
    "duration": 31,
    "start_time": "2023-09-07T10:02:46.023Z"
   },
   {
    "duration": 55,
    "start_time": "2023-09-07T10:02:46.056Z"
   },
   {
    "duration": 351,
    "start_time": "2023-09-07T10:02:46.118Z"
   },
   {
    "duration": 8,
    "start_time": "2023-09-07T10:02:46.472Z"
   },
   {
    "duration": 256,
    "start_time": "2023-09-07T10:02:46.501Z"
   },
   {
    "duration": 943,
    "start_time": "2023-09-07T10:02:46.759Z"
   },
   {
    "duration": 13,
    "start_time": "2023-09-07T10:02:47.710Z"
   },
   {
    "duration": 26,
    "start_time": "2023-09-07T10:02:47.725Z"
   },
   {
    "duration": 260,
    "start_time": "2023-09-07T10:02:47.753Z"
   },
   {
    "duration": 7,
    "start_time": "2023-09-07T10:02:48.018Z"
   },
   {
    "duration": 266,
    "start_time": "2023-09-07T10:02:48.027Z"
   },
   {
    "duration": 33,
    "start_time": "2023-09-07T10:02:48.295Z"
   },
   {
    "duration": 16,
    "start_time": "2023-09-07T10:02:48.330Z"
   },
   {
    "duration": 24,
    "start_time": "2023-09-07T10:02:48.348Z"
   },
   {
    "duration": 33,
    "start_time": "2023-09-07T10:02:48.375Z"
   },
   {
    "duration": 463,
    "start_time": "2023-09-07T10:02:48.410Z"
   },
   {
    "duration": 8,
    "start_time": "2023-09-07T10:02:48.875Z"
   },
   {
    "duration": 105,
    "start_time": "2023-09-07T10:02:48.885Z"
   },
   {
    "duration": 14,
    "start_time": "2023-09-07T10:02:49.358Z"
   },
   {
    "duration": 64,
    "start_time": "2023-09-07T10:02:49.374Z"
   },
   {
    "duration": 234,
    "start_time": "2023-09-07T10:02:49.440Z"
   },
   {
    "duration": 653,
    "start_time": "2023-09-07T10:02:49.676Z"
   },
   {
    "duration": 376,
    "start_time": "2023-09-07T10:02:50.332Z"
   },
   {
    "duration": 210,
    "start_time": "2023-09-07T10:02:50.710Z"
   },
   {
    "duration": 221,
    "start_time": "2023-09-07T10:02:50.924Z"
   },
   {
    "duration": 173,
    "start_time": "2023-09-07T10:02:51.147Z"
   },
   {
    "duration": 195,
    "start_time": "2023-09-07T10:02:51.325Z"
   },
   {
    "duration": 7,
    "start_time": "2023-09-07T10:02:51.523Z"
   },
   {
    "duration": 80,
    "start_time": "2023-09-07T10:02:51.531Z"
   },
   {
    "duration": 13,
    "start_time": "2023-09-07T10:02:51.613Z"
   },
   {
    "duration": 84,
    "start_time": "2023-09-07T10:02:51.628Z"
   },
   {
    "duration": 8,
    "start_time": "2023-09-07T10:02:51.953Z"
   },
   {
    "duration": 44,
    "start_time": "2023-09-07T10:02:51.963Z"
   },
   {
    "duration": 36,
    "start_time": "2023-09-07T10:02:52.013Z"
   },
   {
    "duration": 214,
    "start_time": "2023-09-07T10:02:52.052Z"
   },
   {
    "duration": 18,
    "start_time": "2023-09-07T10:02:52.269Z"
   },
   {
    "duration": 221,
    "start_time": "2023-09-07T10:02:52.300Z"
   },
   {
    "duration": 214,
    "start_time": "2023-09-07T10:02:52.523Z"
   },
   {
    "duration": 5,
    "start_time": "2023-09-07T10:02:52.739Z"
   },
   {
    "duration": 30,
    "start_time": "2023-09-07T10:02:52.745Z"
   },
   {
    "duration": 19,
    "start_time": "2023-09-07T10:02:52.777Z"
   },
   {
    "duration": 200,
    "start_time": "2023-09-07T10:02:52.822Z"
   },
   {
    "duration": 212,
    "start_time": "2023-09-07T10:02:53.024Z"
   },
   {
    "duration": 21,
    "start_time": "2023-09-07T10:02:53.238Z"
   },
   {
    "duration": 350,
    "start_time": "2023-09-07T10:02:53.261Z"
   },
   {
    "duration": 23,
    "start_time": "2023-09-07T10:02:53.616Z"
   },
   {
    "duration": 13,
    "start_time": "2023-09-07T10:02:53.641Z"
   },
   {
    "duration": 21,
    "start_time": "2023-09-07T10:02:53.656Z"
   },
   {
    "duration": 299,
    "start_time": "2023-09-07T10:02:53.679Z"
   },
   {
    "duration": 413,
    "start_time": "2023-09-07T10:02:53.981Z"
   },
   {
    "duration": 520,
    "start_time": "2023-09-07T10:02:54.400Z"
   },
   {
    "duration": 1816,
    "start_time": "2023-09-07T10:02:54.922Z"
   },
   {
    "duration": 399,
    "start_time": "2023-09-07T10:02:56.741Z"
   },
   {
    "duration": 11,
    "start_time": "2023-09-07T10:02:57.141Z"
   },
   {
    "duration": 275,
    "start_time": "2023-09-07T10:02:57.154Z"
   },
   {
    "duration": 479,
    "start_time": "2023-09-07T10:02:57.431Z"
   },
   {
    "duration": 5,
    "start_time": "2023-09-07T10:02:57.913Z"
   },
   {
    "duration": 34,
    "start_time": "2023-09-07T10:02:57.920Z"
   },
   {
    "duration": 26,
    "start_time": "2023-09-07T10:02:57.956Z"
   },
   {
    "duration": 82,
    "start_time": "2023-09-07T10:02:57.984Z"
   },
   {
    "duration": 62,
    "start_time": "2023-09-07T10:02:58.068Z"
   },
   {
    "duration": 15,
    "start_time": "2023-09-07T10:02:58.131Z"
   },
   {
    "duration": 12,
    "start_time": "2023-09-07T10:02:58.148Z"
   },
   {
    "duration": 13,
    "start_time": "2023-09-07T10:02:58.165Z"
   },
   {
    "duration": 14,
    "start_time": "2023-09-07T10:02:58.180Z"
   },
   {
    "duration": 23,
    "start_time": "2023-09-07T10:02:58.196Z"
   },
   {
    "duration": 22,
    "start_time": "2023-09-07T10:02:58.221Z"
   },
   {
    "duration": 19,
    "start_time": "2023-09-07T10:02:58.245Z"
   },
   {
    "duration": 11,
    "start_time": "2023-09-07T10:02:58.266Z"
   },
   {
    "duration": 8,
    "start_time": "2023-09-07T10:02:58.278Z"
   },
   {
    "duration": 19,
    "start_time": "2023-09-07T10:02:58.288Z"
   },
   {
    "duration": 20,
    "start_time": "2023-09-07T10:02:58.309Z"
   },
   {
    "duration": 15,
    "start_time": "2023-09-07T10:02:58.331Z"
   },
   {
    "duration": 21,
    "start_time": "2023-09-07T10:02:58.348Z"
   },
   {
    "duration": 15,
    "start_time": "2023-09-07T10:02:58.371Z"
   },
   {
    "duration": 7,
    "start_time": "2023-09-07T10:02:58.388Z"
   },
   {
    "duration": 19,
    "start_time": "2023-09-07T10:02:58.397Z"
   },
   {
    "duration": 6,
    "start_time": "2023-09-07T10:02:58.418Z"
   },
   {
    "duration": 19,
    "start_time": "2023-09-07T10:02:58.425Z"
   },
   {
    "duration": 2361,
    "start_time": "2023-09-07T16:18:25.164Z"
   },
   {
    "duration": 1611,
    "start_time": "2023-09-07T16:18:27.527Z"
   },
   {
    "duration": 32,
    "start_time": "2023-09-07T16:18:29.140Z"
   },
   {
    "duration": 9,
    "start_time": "2023-09-07T16:18:29.174Z"
   },
   {
    "duration": 46,
    "start_time": "2023-09-07T16:18:29.184Z"
   },
   {
    "duration": 13,
    "start_time": "2023-09-07T16:18:29.232Z"
   },
   {
    "duration": 13,
    "start_time": "2023-09-07T16:18:29.247Z"
   },
   {
    "duration": 61,
    "start_time": "2023-09-07T16:18:29.263Z"
   },
   {
    "duration": 12,
    "start_time": "2023-09-07T16:18:29.326Z"
   },
   {
    "duration": 13,
    "start_time": "2023-09-07T16:18:29.341Z"
   },
   {
    "duration": 9,
    "start_time": "2023-09-07T16:18:29.355Z"
   },
   {
    "duration": 8,
    "start_time": "2023-09-07T16:18:29.366Z"
   },
   {
    "duration": 26,
    "start_time": "2023-09-07T16:18:29.376Z"
   },
   {
    "duration": 23,
    "start_time": "2023-09-07T16:18:29.404Z"
   },
   {
    "duration": 26,
    "start_time": "2023-09-07T16:18:29.429Z"
   },
   {
    "duration": 327,
    "start_time": "2023-09-07T16:18:29.457Z"
   },
   {
    "duration": 6,
    "start_time": "2023-09-07T16:18:29.786Z"
   },
   {
    "duration": 213,
    "start_time": "2023-09-07T16:18:29.794Z"
   },
   {
    "duration": 884,
    "start_time": "2023-09-07T16:18:30.009Z"
   },
   {
    "duration": 10,
    "start_time": "2023-09-07T16:18:30.896Z"
   },
   {
    "duration": 28,
    "start_time": "2023-09-07T16:18:30.908Z"
   },
   {
    "duration": 221,
    "start_time": "2023-09-07T16:18:30.937Z"
   },
   {
    "duration": 7,
    "start_time": "2023-09-07T16:18:31.160Z"
   },
   {
    "duration": 259,
    "start_time": "2023-09-07T16:18:31.168Z"
   },
   {
    "duration": 18,
    "start_time": "2023-09-07T16:18:31.429Z"
   },
   {
    "duration": 35,
    "start_time": "2023-09-07T16:18:31.449Z"
   },
   {
    "duration": 23,
    "start_time": "2023-09-07T16:18:31.486Z"
   },
   {
    "duration": 22,
    "start_time": "2023-09-07T16:18:31.514Z"
   },
   {
    "duration": 407,
    "start_time": "2023-09-07T16:18:31.538Z"
   },
   {
    "duration": 8,
    "start_time": "2023-09-07T16:18:31.946Z"
   },
   {
    "duration": 88,
    "start_time": "2023-09-07T16:18:31.956Z"
   },
   {
    "duration": 19,
    "start_time": "2023-09-07T16:18:32.046Z"
   },
   {
    "duration": 52,
    "start_time": "2023-09-07T16:18:32.067Z"
   },
   {
    "duration": 217,
    "start_time": "2023-09-07T16:18:32.120Z"
   },
   {
    "duration": 405,
    "start_time": "2023-09-07T16:18:32.339Z"
   },
   {
    "duration": 110,
    "start_time": "2023-09-07T16:18:32.746Z"
   },
   {
    "duration": 84,
    "start_time": "2023-09-07T16:18:32.858Z"
   },
   {
    "duration": 223,
    "start_time": "2023-09-07T16:18:32.944Z"
   },
   {
    "duration": 186,
    "start_time": "2023-09-07T16:18:33.169Z"
   },
   {
    "duration": 103,
    "start_time": "2023-09-07T16:18:33.357Z"
   },
   {
    "duration": 36,
    "start_time": "2023-09-07T16:18:33.462Z"
   },
   {
    "duration": 34,
    "start_time": "2023-09-07T16:18:33.499Z"
   },
   {
    "duration": 85,
    "start_time": "2023-09-07T16:18:33.536Z"
   },
   {
    "duration": 103,
    "start_time": "2023-09-07T16:18:33.623Z"
   },
   {
    "duration": 102,
    "start_time": "2023-09-07T16:18:33.728Z"
   },
   {
    "duration": 32,
    "start_time": "2023-09-07T16:18:33.832Z"
   },
   {
    "duration": 54,
    "start_time": "2023-09-07T16:18:33.866Z"
   },
   {
    "duration": 195,
    "start_time": "2023-09-07T16:18:33.922Z"
   },
   {
    "duration": 20,
    "start_time": "2023-09-07T16:18:34.119Z"
   },
   {
    "duration": 257,
    "start_time": "2023-09-07T16:18:34.141Z"
   },
   {
    "duration": 183,
    "start_time": "2023-09-07T16:18:34.401Z"
   },
   {
    "duration": 4,
    "start_time": "2023-09-07T16:18:34.586Z"
   },
   {
    "duration": 135,
    "start_time": "2023-09-07T16:18:34.592Z"
   },
   {
    "duration": 14,
    "start_time": "2023-09-07T16:18:34.730Z"
   },
   {
    "duration": 288,
    "start_time": "2023-09-07T16:18:34.747Z"
   },
   {
    "duration": 293,
    "start_time": "2023-09-07T16:18:35.037Z"
   },
   {
    "duration": 15,
    "start_time": "2023-09-07T16:18:35.332Z"
   },
   {
    "duration": 197,
    "start_time": "2023-09-07T16:18:35.349Z"
   },
   {
    "duration": 18,
    "start_time": "2023-09-07T16:18:35.548Z"
   },
   {
    "duration": 131,
    "start_time": "2023-09-07T16:18:35.568Z"
   },
   {
    "duration": 106,
    "start_time": "2023-09-07T16:18:35.701Z"
   },
   {
    "duration": 747,
    "start_time": "2023-09-07T16:18:35.809Z"
   },
   {
    "duration": 675,
    "start_time": "2023-09-07T16:18:36.558Z"
   },
   {
    "duration": 564,
    "start_time": "2023-09-07T16:18:37.235Z"
   },
   {
    "duration": 1694,
    "start_time": "2023-09-07T16:18:37.801Z"
   },
   {
    "duration": 255,
    "start_time": "2023-09-07T16:18:39.498Z"
   },
   {
    "duration": 11,
    "start_time": "2023-09-07T16:18:39.754Z"
   },
   {
    "duration": 370,
    "start_time": "2023-09-07T16:18:39.767Z"
   },
   {
    "duration": 508,
    "start_time": "2023-09-07T16:18:40.139Z"
   },
   {
    "duration": 2,
    "start_time": "2023-09-07T16:18:40.649Z"
   },
   {
    "duration": 53,
    "start_time": "2023-09-07T16:18:40.654Z"
   },
   {
    "duration": 25,
    "start_time": "2023-09-07T16:18:40.709Z"
   },
   {
    "duration": 48,
    "start_time": "2023-09-07T16:18:40.736Z"
   },
   {
    "duration": 52,
    "start_time": "2023-09-07T16:18:40.786Z"
   },
   {
    "duration": 105,
    "start_time": "2023-09-07T16:18:40.839Z"
   },
   {
    "duration": 75,
    "start_time": "2023-09-07T16:18:40.946Z"
   },
   {
    "duration": 17,
    "start_time": "2023-09-07T16:18:41.023Z"
   },
   {
    "duration": 16,
    "start_time": "2023-09-07T16:18:41.042Z"
   },
   {
    "duration": 22,
    "start_time": "2023-09-07T16:18:41.059Z"
   },
   {
    "duration": 12,
    "start_time": "2023-09-07T16:18:41.083Z"
   },
   {
    "duration": 26,
    "start_time": "2023-09-07T16:18:41.096Z"
   },
   {
    "duration": 10,
    "start_time": "2023-09-07T16:18:41.127Z"
   },
   {
    "duration": 33,
    "start_time": "2023-09-07T16:18:41.138Z"
   },
   {
    "duration": 35,
    "start_time": "2023-09-07T16:18:41.173Z"
   },
   {
    "duration": 7,
    "start_time": "2023-09-07T16:18:41.209Z"
   },
   {
    "duration": 31,
    "start_time": "2023-09-07T16:18:41.218Z"
   },
   {
    "duration": 17,
    "start_time": "2023-09-07T16:18:41.250Z"
   },
   {
    "duration": 12,
    "start_time": "2023-09-07T16:18:41.269Z"
   },
   {
    "duration": 11,
    "start_time": "2023-09-07T16:18:41.282Z"
   },
   {
    "duration": 12,
    "start_time": "2023-09-07T16:18:41.294Z"
   },
   {
    "duration": 6,
    "start_time": "2023-09-07T16:18:41.308Z"
   },
   {
    "duration": 5,
    "start_time": "2023-09-07T16:18:41.316Z"
   },
   {
    "duration": 182,
    "start_time": "2023-09-07T16:19:07.978Z"
   },
   {
    "duration": 184,
    "start_time": "2023-09-07T16:19:14.844Z"
   },
   {
    "duration": 381,
    "start_time": "2023-09-07T16:20:02.764Z"
   },
   {
    "duration": 155,
    "start_time": "2023-09-07T16:20:39.805Z"
   },
   {
    "duration": 103,
    "start_time": "2023-09-07T16:21:01.034Z"
   },
   {
    "duration": 14,
    "start_time": "2023-09-07T16:21:07.502Z"
   },
   {
    "duration": 168,
    "start_time": "2023-09-07T16:21:10.423Z"
   },
   {
    "duration": 157,
    "start_time": "2023-09-07T16:21:21.093Z"
   },
   {
    "duration": 153,
    "start_time": "2023-09-07T16:21:54.637Z"
   },
   {
    "duration": 168,
    "start_time": "2023-09-07T16:32:03.889Z"
   },
   {
    "duration": 165,
    "start_time": "2023-09-07T16:33:20.412Z"
   },
   {
    "duration": 330,
    "start_time": "2023-09-07T16:41:47.796Z"
   },
   {
    "duration": 1265,
    "start_time": "2023-09-07T16:58:17.359Z"
   },
   {
    "duration": 1539,
    "start_time": "2023-09-07T16:58:18.626Z"
   },
   {
    "duration": 26,
    "start_time": "2023-09-07T16:58:20.167Z"
   },
   {
    "duration": 9,
    "start_time": "2023-09-07T16:58:20.195Z"
   },
   {
    "duration": 29,
    "start_time": "2023-09-07T16:58:20.206Z"
   },
   {
    "duration": 19,
    "start_time": "2023-09-07T16:58:20.237Z"
   },
   {
    "duration": 14,
    "start_time": "2023-09-07T16:58:20.258Z"
   },
   {
    "duration": 55,
    "start_time": "2023-09-07T16:58:20.274Z"
   },
   {
    "duration": 18,
    "start_time": "2023-09-07T16:58:20.338Z"
   },
   {
    "duration": 20,
    "start_time": "2023-09-07T16:58:20.360Z"
   },
   {
    "duration": 12,
    "start_time": "2023-09-07T16:58:20.382Z"
   },
   {
    "duration": 34,
    "start_time": "2023-09-07T16:58:20.395Z"
   },
   {
    "duration": 17,
    "start_time": "2023-09-07T16:58:20.431Z"
   },
   {
    "duration": 4,
    "start_time": "2023-09-07T16:58:20.450Z"
   },
   {
    "duration": 11,
    "start_time": "2023-09-07T16:58:20.456Z"
   },
   {
    "duration": 344,
    "start_time": "2023-09-07T16:58:20.469Z"
   },
   {
    "duration": 12,
    "start_time": "2023-09-07T16:58:20.816Z"
   },
   {
    "duration": 214,
    "start_time": "2023-09-07T16:58:20.829Z"
   },
   {
    "duration": 813,
    "start_time": "2023-09-07T16:58:21.045Z"
   },
   {
    "duration": 8,
    "start_time": "2023-09-07T16:58:21.859Z"
   },
   {
    "duration": 6,
    "start_time": "2023-09-07T16:58:21.869Z"
   },
   {
    "duration": 192,
    "start_time": "2023-09-07T16:58:21.876Z"
   },
   {
    "duration": 7,
    "start_time": "2023-09-07T16:58:22.069Z"
   },
   {
    "duration": 220,
    "start_time": "2023-09-07T16:58:22.077Z"
   },
   {
    "duration": 26,
    "start_time": "2023-09-07T16:58:22.299Z"
   },
   {
    "duration": 6,
    "start_time": "2023-09-07T16:58:22.327Z"
   },
   {
    "duration": 5,
    "start_time": "2023-09-07T16:58:22.335Z"
   },
   {
    "duration": 4,
    "start_time": "2023-09-07T16:58:22.344Z"
   },
   {
    "duration": 381,
    "start_time": "2023-09-07T16:58:22.349Z"
   },
   {
    "duration": 8,
    "start_time": "2023-09-07T16:58:22.732Z"
   },
   {
    "duration": 95,
    "start_time": "2023-09-07T16:58:22.741Z"
   },
   {
    "duration": 14,
    "start_time": "2023-09-07T16:58:22.838Z"
   },
   {
    "duration": 34,
    "start_time": "2023-09-07T16:58:22.853Z"
   },
   {
    "duration": 256,
    "start_time": "2023-09-07T16:58:22.889Z"
   },
   {
    "duration": 381,
    "start_time": "2023-09-07T16:58:23.148Z"
   },
   {
    "duration": 126,
    "start_time": "2023-09-07T16:58:23.530Z"
   },
   {
    "duration": 80,
    "start_time": "2023-09-07T16:58:23.658Z"
   },
   {
    "duration": 97,
    "start_time": "2023-09-07T16:58:23.739Z"
   },
   {
    "duration": 39,
    "start_time": "2023-09-07T16:58:23.838Z"
   },
   {
    "duration": 69,
    "start_time": "2023-09-07T16:58:23.879Z"
   },
   {
    "duration": 8,
    "start_time": "2023-09-07T16:58:23.950Z"
   },
   {
    "duration": 8,
    "start_time": "2023-09-07T16:58:23.960Z"
   },
   {
    "duration": 8,
    "start_time": "2023-09-07T16:58:23.970Z"
   },
   {
    "duration": 51,
    "start_time": "2023-09-07T16:58:23.979Z"
   },
   {
    "duration": 8,
    "start_time": "2023-09-07T16:58:24.032Z"
   },
   {
    "duration": 11,
    "start_time": "2023-09-07T16:58:24.041Z"
   },
   {
    "duration": 16,
    "start_time": "2023-09-07T16:58:24.053Z"
   },
   {
    "duration": 185,
    "start_time": "2023-09-07T16:58:24.070Z"
   },
   {
    "duration": 17,
    "start_time": "2023-09-07T16:58:24.257Z"
   },
   {
    "duration": 201,
    "start_time": "2023-09-07T16:58:24.275Z"
   },
   {
    "duration": 231,
    "start_time": "2023-09-07T16:58:24.479Z"
   },
   {
    "duration": 13,
    "start_time": "2023-09-07T16:58:24.711Z"
   },
   {
    "duration": 26,
    "start_time": "2023-09-07T16:58:24.726Z"
   },
   {
    "duration": 5,
    "start_time": "2023-09-07T16:58:24.754Z"
   },
   {
    "duration": 207,
    "start_time": "2023-09-07T16:58:24.761Z"
   },
   {
    "duration": 205,
    "start_time": "2023-09-07T16:58:24.970Z"
   },
   {
    "duration": 22,
    "start_time": "2023-09-07T16:58:25.178Z"
   },
   {
    "duration": 314,
    "start_time": "2023-09-07T16:58:25.202Z"
   },
   {
    "duration": 22,
    "start_time": "2023-09-07T16:58:25.518Z"
   },
   {
    "duration": 17,
    "start_time": "2023-09-07T16:58:25.542Z"
   },
   {
    "duration": 28,
    "start_time": "2023-09-07T16:58:25.562Z"
   },
   {
    "duration": 296,
    "start_time": "2023-09-07T16:58:25.592Z"
   },
   {
    "duration": 421,
    "start_time": "2023-09-07T16:58:25.891Z"
   },
   {
    "duration": 405,
    "start_time": "2023-09-07T16:58:26.314Z"
   },
   {
    "duration": 1691,
    "start_time": "2023-09-07T16:58:26.724Z"
   },
   {
    "duration": 394,
    "start_time": "2023-09-07T16:58:28.416Z"
   },
   {
    "duration": 15,
    "start_time": "2023-09-07T16:58:28.812Z"
   },
   {
    "duration": 281,
    "start_time": "2023-09-07T16:58:28.829Z"
   },
   {
    "duration": 488,
    "start_time": "2023-09-07T16:58:29.112Z"
   },
   {
    "duration": 3,
    "start_time": "2023-09-07T16:58:29.602Z"
   },
   {
    "duration": 29,
    "start_time": "2023-09-07T16:58:29.607Z"
   },
   {
    "duration": 17,
    "start_time": "2023-09-07T16:58:29.638Z"
   },
   {
    "duration": 18,
    "start_time": "2023-09-07T16:58:29.657Z"
   },
   {
    "duration": 48,
    "start_time": "2023-09-07T16:58:29.677Z"
   },
   {
    "duration": 11,
    "start_time": "2023-09-07T16:58:29.727Z"
   },
   {
    "duration": 13,
    "start_time": "2023-09-07T16:58:29.740Z"
   },
   {
    "duration": 16,
    "start_time": "2023-09-07T16:58:29.755Z"
   },
   {
    "duration": 33,
    "start_time": "2023-09-07T16:58:29.772Z"
   },
   {
    "duration": 10,
    "start_time": "2023-09-07T16:58:29.806Z"
   },
   {
    "duration": 18,
    "start_time": "2023-09-07T16:58:29.824Z"
   },
   {
    "duration": 6,
    "start_time": "2023-09-07T16:58:29.844Z"
   },
   {
    "duration": 5,
    "start_time": "2023-09-07T16:58:29.858Z"
   },
   {
    "duration": 6,
    "start_time": "2023-09-07T16:58:29.865Z"
   },
   {
    "duration": 6,
    "start_time": "2023-09-07T16:58:29.873Z"
   },
   {
    "duration": 7,
    "start_time": "2023-09-07T16:58:29.881Z"
   },
   {
    "duration": 35,
    "start_time": "2023-09-07T16:58:29.890Z"
   },
   {
    "duration": 6,
    "start_time": "2023-09-07T16:58:29.927Z"
   },
   {
    "duration": 5,
    "start_time": "2023-09-07T16:58:29.935Z"
   },
   {
    "duration": 5,
    "start_time": "2023-09-07T16:58:29.941Z"
   },
   {
    "duration": 5,
    "start_time": "2023-09-07T16:58:29.947Z"
   },
   {
    "duration": 4,
    "start_time": "2023-09-07T16:58:29.954Z"
   },
   {
    "duration": 5,
    "start_time": "2023-09-07T16:58:29.960Z"
   },
   {
    "duration": 1816,
    "start_time": "2023-09-08T10:21:51.364Z"
   },
   {
    "duration": 2250,
    "start_time": "2023-09-08T10:21:53.182Z"
   },
   {
    "duration": 28,
    "start_time": "2023-09-08T10:21:55.435Z"
   },
   {
    "duration": 8,
    "start_time": "2023-09-08T10:21:55.466Z"
   },
   {
    "duration": 58,
    "start_time": "2023-09-08T10:21:55.476Z"
   },
   {
    "duration": 14,
    "start_time": "2023-09-08T10:21:55.536Z"
   },
   {
    "duration": 25,
    "start_time": "2023-09-08T10:21:55.552Z"
   },
   {
    "duration": 70,
    "start_time": "2023-09-08T10:21:55.579Z"
   },
   {
    "duration": 13,
    "start_time": "2023-09-08T10:21:55.651Z"
   },
   {
    "duration": 15,
    "start_time": "2023-09-08T10:21:55.668Z"
   },
   {
    "duration": 43,
    "start_time": "2023-09-08T10:21:55.685Z"
   },
   {
    "duration": 12,
    "start_time": "2023-09-08T10:21:55.731Z"
   },
   {
    "duration": 14,
    "start_time": "2023-09-08T10:21:55.746Z"
   },
   {
    "duration": 4,
    "start_time": "2023-09-08T10:21:55.762Z"
   },
   {
    "duration": 46,
    "start_time": "2023-09-08T10:21:55.768Z"
   },
   {
    "duration": 377,
    "start_time": "2023-09-08T10:21:55.822Z"
   },
   {
    "duration": 9,
    "start_time": "2023-09-08T10:21:56.211Z"
   },
   {
    "duration": 242,
    "start_time": "2023-09-08T10:21:56.222Z"
   },
   {
    "duration": 1014,
    "start_time": "2023-09-08T10:21:56.466Z"
   },
   {
    "duration": 8,
    "start_time": "2023-09-08T10:21:57.482Z"
   },
   {
    "duration": 40,
    "start_time": "2023-09-08T10:21:57.491Z"
   },
   {
    "duration": 205,
    "start_time": "2023-09-08T10:21:57.533Z"
   },
   {
    "duration": 7,
    "start_time": "2023-09-08T10:21:57.740Z"
   },
   {
    "duration": 290,
    "start_time": "2023-09-08T10:21:57.748Z"
   },
   {
    "duration": 20,
    "start_time": "2023-09-08T10:21:58.040Z"
   },
   {
    "duration": 17,
    "start_time": "2023-09-08T10:21:58.062Z"
   },
   {
    "duration": 18,
    "start_time": "2023-09-08T10:21:58.080Z"
   },
   {
    "duration": 16,
    "start_time": "2023-09-08T10:21:58.102Z"
   },
   {
    "duration": 561,
    "start_time": "2023-09-08T10:21:58.121Z"
   },
   {
    "duration": 9,
    "start_time": "2023-09-08T10:21:58.684Z"
   },
   {
    "duration": 141,
    "start_time": "2023-09-08T10:21:58.696Z"
   },
   {
    "duration": 16,
    "start_time": "2023-09-08T10:21:58.839Z"
   },
   {
    "duration": 60,
    "start_time": "2023-09-08T10:21:58.858Z"
   },
   {
    "duration": 333,
    "start_time": "2023-09-08T10:21:58.920Z"
   },
   {
    "duration": 487,
    "start_time": "2023-09-08T10:21:59.255Z"
   },
   {
    "duration": 137,
    "start_time": "2023-09-08T10:21:59.744Z"
   },
   {
    "duration": 98,
    "start_time": "2023-09-08T10:21:59.883Z"
   },
   {
    "duration": 107,
    "start_time": "2023-09-08T10:21:59.983Z"
   },
   {
    "duration": 80,
    "start_time": "2023-09-08T10:22:00.092Z"
   },
   {
    "duration": 95,
    "start_time": "2023-09-08T10:22:00.175Z"
   },
   {
    "duration": 10,
    "start_time": "2023-09-08T10:22:00.273Z"
   },
   {
    "duration": 34,
    "start_time": "2023-09-08T10:22:00.286Z"
   },
   {
    "duration": 32,
    "start_time": "2023-09-08T10:22:00.322Z"
   },
   {
    "duration": 107,
    "start_time": "2023-09-08T10:22:00.355Z"
   },
   {
    "duration": 177,
    "start_time": "2023-09-08T10:22:00.464Z"
   },
   {
    "duration": 30,
    "start_time": "2023-09-08T10:22:00.643Z"
   },
   {
    "duration": 29,
    "start_time": "2023-09-08T10:22:00.675Z"
   },
   {
    "duration": 251,
    "start_time": "2023-09-08T10:22:00.706Z"
   },
   {
    "duration": 20,
    "start_time": "2023-09-08T10:22:00.959Z"
   },
   {
    "duration": 263,
    "start_time": "2023-09-08T10:22:00.981Z"
   },
   {
    "duration": 241,
    "start_time": "2023-09-08T10:22:01.246Z"
   },
   {
    "duration": 6,
    "start_time": "2023-09-08T10:22:01.490Z"
   },
   {
    "duration": 29,
    "start_time": "2023-09-08T10:22:01.516Z"
   },
   {
    "duration": 14,
    "start_time": "2023-09-08T10:22:01.548Z"
   },
   {
    "duration": 286,
    "start_time": "2023-09-08T10:22:01.564Z"
   },
   {
    "duration": 265,
    "start_time": "2023-09-08T10:22:01.853Z"
   },
   {
    "duration": 26,
    "start_time": "2023-09-08T10:22:02.123Z"
   },
   {
    "duration": 604,
    "start_time": "2023-09-08T10:22:02.150Z"
   },
   {
    "duration": 94,
    "start_time": "2023-09-08T10:22:02.757Z"
   },
   {
    "duration": 81,
    "start_time": "2023-09-08T10:22:02.853Z"
   },
   {
    "duration": 14,
    "start_time": "2023-09-08T10:22:02.937Z"
   },
   {
    "duration": 435,
    "start_time": "2023-09-08T10:22:02.954Z"
   },
   {
    "duration": 438,
    "start_time": "2023-09-08T10:22:03.410Z"
   },
   {
    "duration": 510,
    "start_time": "2023-09-08T10:22:03.850Z"
   },
   {
    "duration": 2116,
    "start_time": "2023-09-08T10:22:04.361Z"
   },
   {
    "duration": 478,
    "start_time": "2023-09-08T10:22:06.480Z"
   },
   {
    "duration": 16,
    "start_time": "2023-09-08T10:22:06.960Z"
   },
   {
    "duration": 290,
    "start_time": "2023-09-08T10:22:06.979Z"
   },
   {
    "duration": 538,
    "start_time": "2023-09-08T10:22:07.271Z"
   },
   {
    "duration": 7,
    "start_time": "2023-09-08T10:22:07.813Z"
   },
   {
    "duration": 22,
    "start_time": "2023-09-08T10:22:07.827Z"
   },
   {
    "duration": 19,
    "start_time": "2023-09-08T10:22:07.850Z"
   },
   {
    "duration": 55,
    "start_time": "2023-09-08T10:22:07.871Z"
   },
   {
    "duration": 18,
    "start_time": "2023-09-08T10:22:07.928Z"
   },
   {
    "duration": 10,
    "start_time": "2023-09-08T10:22:07.948Z"
   },
   {
    "duration": 15,
    "start_time": "2023-09-08T10:22:07.960Z"
   },
   {
    "duration": 37,
    "start_time": "2023-09-08T10:22:07.977Z"
   },
   {
    "duration": 58,
    "start_time": "2023-09-08T10:22:08.016Z"
   },
   {
    "duration": 18,
    "start_time": "2023-09-08T10:22:08.077Z"
   },
   {
    "duration": 18,
    "start_time": "2023-09-08T10:22:08.098Z"
   },
   {
    "duration": 247,
    "start_time": "2023-09-08T10:22:08.118Z"
   },
   {
    "duration": 7,
    "start_time": "2023-09-08T10:22:08.375Z"
   },
   {
    "duration": 9,
    "start_time": "2023-09-08T10:22:08.384Z"
   },
   {
    "duration": 36,
    "start_time": "2023-09-08T10:22:08.395Z"
   },
   {
    "duration": 7,
    "start_time": "2023-09-08T10:22:08.433Z"
   },
   {
    "duration": 38,
    "start_time": "2023-09-08T10:22:08.442Z"
   },
   {
    "duration": 223,
    "start_time": "2023-09-08T10:22:08.482Z"
   },
   {
    "duration": 148,
    "start_time": "2023-09-08T10:22:08.707Z"
   },
   {
    "duration": 19,
    "start_time": "2023-09-08T10:22:08.856Z"
   },
   {
    "duration": 19,
    "start_time": "2023-09-08T10:22:08.876Z"
   },
   {
    "duration": 11,
    "start_time": "2023-09-08T10:22:08.896Z"
   },
   {
    "duration": 18,
    "start_time": "2023-09-08T10:22:08.909Z"
   },
   {
    "duration": 1556,
    "start_time": "2023-09-08T14:44:02.074Z"
   },
   {
    "duration": 1172,
    "start_time": "2023-09-08T14:44:03.633Z"
   },
   {
    "duration": 33,
    "start_time": "2023-09-08T14:44:04.807Z"
   },
   {
    "duration": 11,
    "start_time": "2023-09-08T14:44:04.843Z"
   },
   {
    "duration": 23,
    "start_time": "2023-09-08T14:44:04.867Z"
   },
   {
    "duration": 13,
    "start_time": "2023-09-08T14:44:04.892Z"
   },
   {
    "duration": 15,
    "start_time": "2023-09-08T14:44:04.908Z"
   },
   {
    "duration": 59,
    "start_time": "2023-09-08T14:44:04.925Z"
   },
   {
    "duration": 24,
    "start_time": "2023-09-08T14:44:04.986Z"
   },
   {
    "duration": 16,
    "start_time": "2023-09-08T14:44:05.014Z"
   },
   {
    "duration": 28,
    "start_time": "2023-09-08T14:44:05.032Z"
   },
   {
    "duration": 13,
    "start_time": "2023-09-08T14:44:05.061Z"
   },
   {
    "duration": 49,
    "start_time": "2023-09-08T14:44:05.076Z"
   },
   {
    "duration": 3,
    "start_time": "2023-09-08T14:44:05.126Z"
   },
   {
    "duration": 18,
    "start_time": "2023-09-08T14:44:05.130Z"
   },
   {
    "duration": 323,
    "start_time": "2023-09-08T14:44:05.149Z"
   },
   {
    "duration": 6,
    "start_time": "2023-09-08T14:44:05.474Z"
   },
   {
    "duration": 201,
    "start_time": "2023-09-08T14:44:05.482Z"
   },
   {
    "duration": 838,
    "start_time": "2023-09-08T14:44:05.685Z"
   },
   {
    "duration": 8,
    "start_time": "2023-09-08T14:44:06.524Z"
   },
   {
    "duration": 24,
    "start_time": "2023-09-08T14:44:06.534Z"
   },
   {
    "duration": 197,
    "start_time": "2023-09-08T14:44:06.560Z"
   },
   {
    "duration": 12,
    "start_time": "2023-09-08T14:44:06.759Z"
   },
   {
    "duration": 428,
    "start_time": "2023-09-08T14:44:06.773Z"
   },
   {
    "duration": 70,
    "start_time": "2023-09-08T14:44:07.202Z"
   },
   {
    "duration": 23,
    "start_time": "2023-09-08T14:44:07.274Z"
   },
   {
    "duration": 11,
    "start_time": "2023-09-08T14:44:07.299Z"
   },
   {
    "duration": 4,
    "start_time": "2023-09-08T14:44:07.314Z"
   },
   {
    "duration": 769,
    "start_time": "2023-09-08T14:44:07.320Z"
   },
   {
    "duration": 9,
    "start_time": "2023-09-08T14:44:08.090Z"
   },
   {
    "duration": 196,
    "start_time": "2023-09-08T14:44:08.101Z"
   },
   {
    "duration": 13,
    "start_time": "2023-09-08T14:44:08.299Z"
   },
   {
    "duration": 84,
    "start_time": "2023-09-08T14:44:08.313Z"
   },
   {
    "duration": 385,
    "start_time": "2023-09-08T14:44:08.398Z"
   },
   {
    "duration": 339,
    "start_time": "2023-09-08T14:44:08.784Z"
   },
   {
    "duration": 107,
    "start_time": "2023-09-08T14:44:09.125Z"
   },
   {
    "duration": 69,
    "start_time": "2023-09-08T14:44:09.234Z"
   },
   {
    "duration": 81,
    "start_time": "2023-09-08T14:44:09.305Z"
   },
   {
    "duration": 39,
    "start_time": "2023-09-08T14:44:09.388Z"
   },
   {
    "duration": 72,
    "start_time": "2023-09-08T14:44:09.429Z"
   },
   {
    "duration": 6,
    "start_time": "2023-09-08T14:44:09.503Z"
   },
   {
    "duration": 15,
    "start_time": "2023-09-08T14:44:09.511Z"
   },
   {
    "duration": 16,
    "start_time": "2023-09-08T14:44:09.528Z"
   },
   {
    "duration": 29,
    "start_time": "2023-09-08T14:44:09.546Z"
   },
   {
    "duration": 25,
    "start_time": "2023-09-08T14:44:09.577Z"
   },
   {
    "duration": 18,
    "start_time": "2023-09-08T14:44:09.604Z"
   },
   {
    "duration": 27,
    "start_time": "2023-09-08T14:44:09.624Z"
   },
   {
    "duration": 178,
    "start_time": "2023-09-08T14:44:09.654Z"
   },
   {
    "duration": 18,
    "start_time": "2023-09-08T14:44:09.834Z"
   },
   {
    "duration": 219,
    "start_time": "2023-09-08T14:44:09.854Z"
   },
   {
    "duration": 216,
    "start_time": "2023-09-08T14:44:10.075Z"
   },
   {
    "duration": 4,
    "start_time": "2023-09-08T14:44:10.293Z"
   },
   {
    "duration": 26,
    "start_time": "2023-09-08T14:44:10.299Z"
   },
   {
    "duration": 10,
    "start_time": "2023-09-08T14:44:10.327Z"
   },
   {
    "duration": 188,
    "start_time": "2023-09-08T14:44:10.339Z"
   },
   {
    "duration": 177,
    "start_time": "2023-09-08T14:44:10.528Z"
   },
   {
    "duration": 17,
    "start_time": "2023-09-08T14:44:10.707Z"
   },
   {
    "duration": 311,
    "start_time": "2023-09-08T14:44:10.726Z"
   },
   {
    "duration": 32,
    "start_time": "2023-09-08T14:44:11.039Z"
   },
   {
    "duration": 11,
    "start_time": "2023-09-08T14:44:11.073Z"
   },
   {
    "duration": 20,
    "start_time": "2023-09-08T14:44:11.086Z"
   },
   {
    "duration": 243,
    "start_time": "2023-09-08T14:44:11.108Z"
   },
   {
    "duration": 349,
    "start_time": "2023-09-08T14:44:11.352Z"
   },
   {
    "duration": 406,
    "start_time": "2023-09-08T14:44:11.704Z"
   },
   {
    "duration": 1701,
    "start_time": "2023-09-08T14:44:12.111Z"
   },
   {
    "duration": 422,
    "start_time": "2023-09-08T14:44:13.814Z"
   },
   {
    "duration": 11,
    "start_time": "2023-09-08T14:44:14.239Z"
   },
   {
    "duration": 252,
    "start_time": "2023-09-08T14:44:14.252Z"
   },
   {
    "duration": 425,
    "start_time": "2023-09-08T14:44:14.506Z"
   },
   {
    "duration": 3,
    "start_time": "2023-09-08T14:44:14.933Z"
   },
   {
    "duration": 53,
    "start_time": "2023-09-08T14:44:14.937Z"
   },
   {
    "duration": 196,
    "start_time": "2023-09-08T14:44:14.992Z"
   },
   {
    "duration": 72,
    "start_time": "2023-09-08T14:44:15.190Z"
   },
   {
    "duration": 20,
    "start_time": "2023-09-08T14:44:15.264Z"
   },
   {
    "duration": 10,
    "start_time": "2023-09-08T14:44:15.286Z"
   },
   {
    "duration": 27,
    "start_time": "2023-09-08T14:44:15.298Z"
   },
   {
    "duration": 34,
    "start_time": "2023-09-08T14:44:15.327Z"
   },
   {
    "duration": 27,
    "start_time": "2023-09-08T14:44:15.362Z"
   },
   {
    "duration": 17,
    "start_time": "2023-09-08T14:44:15.390Z"
   },
   {
    "duration": 14,
    "start_time": "2023-09-08T14:44:15.409Z"
   },
   {
    "duration": 8,
    "start_time": "2023-09-08T14:44:15.425Z"
   },
   {
    "duration": 5,
    "start_time": "2023-09-08T14:44:15.438Z"
   },
   {
    "duration": 11,
    "start_time": "2023-09-08T14:44:15.445Z"
   },
   {
    "duration": 6,
    "start_time": "2023-09-08T14:44:15.457Z"
   },
   {
    "duration": 4,
    "start_time": "2023-09-08T14:44:15.465Z"
   },
   {
    "duration": 9,
    "start_time": "2023-09-08T14:44:15.470Z"
   },
   {
    "duration": 10,
    "start_time": "2023-09-08T14:44:15.481Z"
   },
   {
    "duration": 9,
    "start_time": "2023-09-08T14:44:15.492Z"
   },
   {
    "duration": 8,
    "start_time": "2023-09-08T14:44:15.503Z"
   },
   {
    "duration": 18,
    "start_time": "2023-09-08T14:44:15.512Z"
   },
   {
    "duration": 8,
    "start_time": "2023-09-08T14:44:15.532Z"
   },
   {
    "duration": 15,
    "start_time": "2023-09-08T14:44:15.541Z"
   },
   {
    "duration": 1869,
    "start_time": "2023-09-08T14:49:16.945Z"
   },
   {
    "duration": 1806,
    "start_time": "2023-09-08T14:50:46.913Z"
   }
  ],
  "kernelspec": {
   "display_name": "Python 3 (ipykernel)",
   "language": "python",
   "name": "python3"
  },
  "language_info": {
   "codemirror_mode": {
    "name": "ipython",
    "version": 3
   },
   "file_extension": ".py",
   "mimetype": "text/x-python",
   "name": "python",
   "nbconvert_exporter": "python",
   "pygments_lexer": "ipython3",
   "version": "3.9.13"
  },
  "toc": {
   "base_numbering": 1,
   "nav_menu": {},
   "number_sections": true,
   "sideBar": true,
   "skip_h1_title": true,
   "title_cell": "Table of Contents",
   "title_sidebar": "Contents",
   "toc_cell": true,
   "toc_position": {
    "height": "calc(100% - 180px)",
    "left": "10px",
    "top": "150px",
    "width": "309.783px"
   },
   "toc_section_display": true,
   "toc_window_display": true
  }
 },
 "nbformat": 4,
 "nbformat_minor": 5
}
